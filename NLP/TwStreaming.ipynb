{
 "cells": [
  {
   "cell_type": "markdown",
   "metadata": {},
   "source": [
    "# To - Do list\n",
    "- Below, you are provided a starter code. For the code to work,  please save your twitter credentials in a file .tweepy.json in dictionary format. Otherwise below code will not work. Get below code to work to see the twitter real time stream. \n",
    "\n",
    "- Filter twitter data based on geographic location. Get the data only from CA. "
   ]
  },
  {
   "cell_type": "code",
   "execution_count": null,
   "metadata": {},
   "outputs": [],
   "source": [
    "# tweepy is a python wrapper around Twitter API\n",
    "from tweepy import Stream\n",
    "from tweepy import OAuthHandler\n",
    "from tweepy import API\n",
    "from tweepy.streaming import StreamListener\n",
    "import json\n",
    "import pandas as pd\n",
    "import csv\n",
    "import re #regular expression\n",
    "from textblob import TextBlob\n",
    "import string\n",
    "#import preprocessor as p"
   ]
  },
  {
   "cell_type": "code",
   "execution_count": null,
   "metadata": {},
   "outputs": [],
   "source": [
    "# StreamListener class inherits from tweepy.StreamListener\n",
    "# It overrides on_status and on_error methods. \n",
    "\n",
    "# If you're only concerned with tweets, use on_status(). \n",
    "# This will give you what you needed without the added \n",
    "# information and doing so will not hinder your limit.\n",
    "\n",
    "# If you want detailed information use on_data(). \n",
    "# --That might be the case if you are doing heavy analysis.\n",
    "class StreamListener(StreamListener):\n",
    "    def on_status (self, status):\n",
    "        print(status.id_str)\n",
    "        print(status.text)\n",
    "\n",
    "            \n",
    "    def on_error(self, status_code):\n",
    "        print(\"Encountered an error during streaming: \", status_code)\n",
    "        sys.exit()"
   ]
  },
  {
   "cell_type": "code",
   "execution_count": null,
   "metadata": {},
   "outputs": [],
   "source": [
    "if __name__ == \"__main__\":\n",
    "    \n",
    "    # twitter credentials are saved in the .tweepy.json file as a dictionary\n",
    "    config_file = \".tweepy.json\"\n",
    "    with open(config_file) as fh:\n",
    "        config = json.load(fh)\n",
    "    \n",
    "    # pass twitter credentials to tweepy, complete authorization and initialize API endpoint\n",
    "    auth = OAuthHandler(config['consumer_key'], config['consumer_secret'])\n",
    "    auth.set_access_token(config['access_token'], config['access_token_secret'])\n",
    "    api = API(auth)\n",
    "    \n",
    "    # using update_status of api, you can tweet to your twitter account from your code\n",
    "    # tweet = api.update_status(\"Tweeting from the code again in the middle of the night!\")\n",
    "    # initialize stream\n",
    "    streamListener = StreamListener()\n",
    "    stream = Stream(auth = api.auth, listener = streamListener, tweed_mode = 'extended')\n",
    "    \n",
    "    tags = [\"COVID19\"]\n",
    "    # stream.filter(track=tags)\n",
    "    tracklist = ['#corona', '#covid19']\n",
    "    stream.filter(track = tracklist)"
   ]
  },
  {
   "cell_type": "code",
   "execution_count": null,
   "metadata": {},
   "outputs": [],
   "source": [
    "import tweepy\n",
    "\n",
    "auth = tweepy.OAuthHandler(consumer_key, consumer_secret)\n",
    "auth.set_access_token(access_token, access_token_secret)\n",
    "\n",
    "api = tweepy.API(auth)\n",
    "\n",
    "\"\"\"\n",
    "public_tweets = api.home_timeline()\n",
    "for tweet in public_tweets:\n",
    "    print(tweet.text)\n",
    "\"\"\"\n",
    "\n",
    "# Get the User object for twitter...\n",
    "user = api.get_user('elonmusk')\n",
    "\n",
    "print(user.screen_name)\n",
    "print(user.followers_count)\n",
    "\n",
    "for friend in user.friends():\n",
    "   print(friend.screen_name)"
   ]
  },
  {
   "cell_type": "code",
   "execution_count": null,
   "metadata": {},
   "outputs": [],
   "source": []
  }
 ],
 "metadata": {
  "kernelspec": {
   "display_name": "Python 3",
   "language": "python",
   "name": "python3"
  },
  "language_info": {
   "codemirror_mode": {
    "name": "ipython",
    "version": 3
   },
   "file_extension": ".py",
   "mimetype": "text/x-python",
   "name": "python",
   "nbconvert_exporter": "python",
   "pygments_lexer": "ipython3",
   "version": "3.6.8"
  }
 },
 "nbformat": 4,
 "nbformat_minor": 4
}
