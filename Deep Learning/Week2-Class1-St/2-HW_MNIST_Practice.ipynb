{
 "cells": [
  {
   "cell_type": "markdown",
   "metadata": {},
   "source": [
    "### Practice on Saving Models\n",
    "- Load MNIST dataset.\n",
    "- Reshape it.\n",
    "- Create data augmentation with random rotations, random shifts, and random \n",
    "- Normalize the inputs.\n",
    "- Implement one hot encoding on the target variable\n",
    "- Define a baseline model\n",
    "- Save your model.\n",
    "- Load your model and test it on your test dataset\n",
    "- Create checkpoints to save the network weights only when there is an improvement in classification accuracy on the validation dataset\n",
    "\n",
    "\n"
   ]
  },
  {
   "cell_type": "code",
   "execution_count": null,
   "metadata": {},
   "outputs": [],
   "source": []
  }
 ],
 "metadata": {
  "kernelspec": {
   "display_name": "Python 3",
   "language": "python",
   "name": "python3"
  },
  "language_info": {
   "codemirror_mode": {
    "name": "ipython",
    "version": 3
   },
   "file_extension": ".py",
   "mimetype": "text/x-python",
   "name": "python",
   "nbconvert_exporter": "python",
   "pygments_lexer": "ipython3",
   "version": "3.7.6"
  }
 },
 "nbformat": 4,
 "nbformat_minor": 4
}
