{
 "cells": [
  {
   "cell_type": "markdown",
   "metadata": {},
   "source": [
    "**1.** Import the relevant packages and dataset:"
   ]
  },
  {
   "cell_type": "code",
   "execution_count": 1,
   "metadata": {
    "colab": {
     "base_uri": "https://localhost:8080/",
     "height": 34
    },
    "colab_type": "code",
    "id": "gxe7ZnfzWgkf",
    "outputId": "af50403d-1ce8-4032-d932-3c5881e86717"
   },
   "outputs": [
    {
     "name": "stderr",
     "output_type": "stream",
     "text": [
      "Using TensorFlow backend.\n"
     ]
    }
   ],
   "source": [
    "#import relevant packages\n",
    "from keras.layers import Dense, Activation\n",
    "from keras.layers.recurrent import SimpleRNN\n",
    "from keras.models import Sequential\n",
    "from keras.utils import to_categorical\n",
    "from keras.layers.embeddings import Embedding\n",
    "from sklearn.model_selection import train_test_split\n",
    "import numpy as np\n",
    "import nltk\n",
    "from nltk.corpus import stopwords\n",
    "import re\n",
    "import pandas as pd"
   ]
  },
  {
   "cell_type": "code",
   "execution_count": 25,
   "metadata": {
    "colab": {
     "base_uri": "https://localhost:8080/",
     "height": 204
    },
    "colab_type": "code",
    "id": "WY4zhjQpWgkr",
    "outputId": "23e34735-df00-4749-d980-a9489a98cb94",
    "scrolled": true
   },
   "outputs": [
    {
     "data": {
      "text/html": [
       "<div>\n",
       "<style scoped>\n",
       "    .dataframe tbody tr th:only-of-type {\n",
       "        vertical-align: middle;\n",
       "    }\n",
       "\n",
       "    .dataframe tbody tr th {\n",
       "        vertical-align: top;\n",
       "    }\n",
       "\n",
       "    .dataframe thead th {\n",
       "        text-align: right;\n",
       "    }\n",
       "</style>\n",
       "<table border=\"1\" class=\"dataframe\">\n",
       "  <thead>\n",
       "    <tr style=\"text-align: right;\">\n",
       "      <th></th>\n",
       "      <th>airline_sentiment</th>\n",
       "      <th>text</th>\n",
       "    </tr>\n",
       "  </thead>\n",
       "  <tbody>\n",
       "    <tr>\n",
       "      <th>0</th>\n",
       "      <td>1</td>\n",
       "      <td>@VirginAmerica plus you've added commercials t...</td>\n",
       "    </tr>\n",
       "    <tr>\n",
       "      <th>1</th>\n",
       "      <td>0</td>\n",
       "      <td>@VirginAmerica it's really aggressive to blast...</td>\n",
       "    </tr>\n",
       "    <tr>\n",
       "      <th>2</th>\n",
       "      <td>0</td>\n",
       "      <td>@VirginAmerica and it's a really big bad thing...</td>\n",
       "    </tr>\n",
       "    <tr>\n",
       "      <th>3</th>\n",
       "      <td>0</td>\n",
       "      <td>@VirginAmerica seriously would pay $30 a fligh...</td>\n",
       "    </tr>\n",
       "    <tr>\n",
       "      <th>4</th>\n",
       "      <td>1</td>\n",
       "      <td>@VirginAmerica yes, nearly every time I fly VX...</td>\n",
       "    </tr>\n",
       "  </tbody>\n",
       "</table>\n",
       "</div>"
      ],
      "text/plain": [
       "   airline_sentiment                                               text\n",
       "0                  1  @VirginAmerica plus you've added commercials t...\n",
       "1                  0  @VirginAmerica it's really aggressive to blast...\n",
       "2                  0  @VirginAmerica and it's a really big bad thing...\n",
       "3                  0  @VirginAmerica seriously would pay $30 a fligh...\n",
       "4                  1  @VirginAmerica yes, nearly every time I fly VX..."
      ]
     },
     "execution_count": 25,
     "metadata": {},
     "output_type": "execute_result"
    }
   ],
   "source": [
    "t=pd.read_csv('airline_sentiment.csv')\n",
    "t.head()"
   ]
  },
  {
   "cell_type": "code",
   "execution_count": 26,
   "metadata": {},
   "outputs": [
    {
     "data": {
      "text/plain": [
       "Index(['airline_sentiment', 'text'], dtype='object')"
      ]
     },
     "execution_count": 26,
     "metadata": {},
     "output_type": "execute_result"
    }
   ],
   "source": [
    "t.columns"
   ]
  },
  {
   "cell_type": "markdown",
   "metadata": {},
   "source": [
    "**2.** Preprocess the text to remove punctuation, normalize all words to lowercase, and remove the stopwords, as follows:"
   ]
  },
  {
   "cell_type": "code",
   "execution_count": 27,
   "metadata": {
    "colab": {
     "base_uri": "https://localhost:8080/",
     "height": 51
    },
    "colab_type": "code",
    "id": "L3MHa68uWgkz",
    "outputId": "955de000-daa2-4d4c-d3d1-84e8b2229a45"
   },
   "outputs": [
    {
     "name": "stderr",
     "output_type": "stream",
     "text": [
      "[nltk_data] Downloading package stopwords to\n",
      "[nltk_data]     /Users/gceran/nltk_data...\n",
      "[nltk_data]   Package stopwords is already up-to-date!\n"
     ]
    }
   ],
   "source": [
    "import nltk\n",
    "nltk.download('stopwords')\n",
    "stop = nltk.corpus.stopwords.words('english')"
   ]
  },
  {
   "cell_type": "code",
   "execution_count": 28,
   "metadata": {
    "colab": {},
    "colab_type": "code",
    "id": "9Wb3M6jIWgk2"
   },
   "outputs": [],
   "source": [
    "def preprocess(text):\n",
    "    text=text.lower()\n",
    "    text=re.sub('[^0-9a-zA-Z]+',' ',text)\n",
    "    words = text.split()\n",
    "    words2=[w for w in words if (w not in stop)]\n",
    "    #words3=[ps.stem(w) for w in words]\n",
    "    words4=' '.join(words2)\n",
    "    return(words4)"
   ]
  },
  {
   "cell_type": "code",
   "execution_count": 29,
   "metadata": {
    "colab": {},
    "colab_type": "code",
    "id": "t2gXWeDTWgk4"
   },
   "outputs": [],
   "source": [
    "t['text'] = t['text'].apply(preprocess)"
   ]
  },
  {
   "cell_type": "code",
   "execution_count": 30,
   "metadata": {},
   "outputs": [
    {
     "data": {
      "text/html": [
       "<div>\n",
       "<style scoped>\n",
       "    .dataframe tbody tr th:only-of-type {\n",
       "        vertical-align: middle;\n",
       "    }\n",
       "\n",
       "    .dataframe tbody tr th {\n",
       "        vertical-align: top;\n",
       "    }\n",
       "\n",
       "    .dataframe thead th {\n",
       "        text-align: right;\n",
       "    }\n",
       "</style>\n",
       "<table border=\"1\" class=\"dataframe\">\n",
       "  <thead>\n",
       "    <tr style=\"text-align: right;\">\n",
       "      <th></th>\n",
       "      <th>airline_sentiment</th>\n",
       "      <th>text</th>\n",
       "    </tr>\n",
       "  </thead>\n",
       "  <tbody>\n",
       "    <tr>\n",
       "      <th>0</th>\n",
       "      <td>1</td>\n",
       "      <td>virginamerica plus added commercials experienc...</td>\n",
       "    </tr>\n",
       "    <tr>\n",
       "      <th>1</th>\n",
       "      <td>0</td>\n",
       "      <td>virginamerica really aggressive blast obnoxiou...</td>\n",
       "    </tr>\n",
       "    <tr>\n",
       "      <th>2</th>\n",
       "      <td>0</td>\n",
       "      <td>virginamerica really big bad thing</td>\n",
       "    </tr>\n",
       "    <tr>\n",
       "      <th>3</th>\n",
       "      <td>0</td>\n",
       "      <td>virginamerica seriously would pay 30 flight se...</td>\n",
       "    </tr>\n",
       "    <tr>\n",
       "      <th>4</th>\n",
       "      <td>1</td>\n",
       "      <td>virginamerica yes nearly every time fly vx ear...</td>\n",
       "    </tr>\n",
       "  </tbody>\n",
       "</table>\n",
       "</div>"
      ],
      "text/plain": [
       "   airline_sentiment                                               text\n",
       "0                  1  virginamerica plus added commercials experienc...\n",
       "1                  0  virginamerica really aggressive blast obnoxiou...\n",
       "2                  0                 virginamerica really big bad thing\n",
       "3                  0  virginamerica seriously would pay 30 flight se...\n",
       "4                  1  virginamerica yes nearly every time fly vx ear..."
      ]
     },
     "execution_count": 30,
     "metadata": {},
     "output_type": "execute_result"
    }
   ],
   "source": [
    "t.head()"
   ]
  },
  {
   "cell_type": "markdown",
   "metadata": {},
   "source": [
    "**3.** Extract the word-to-integer mapping of all the words that constitute the dataset:"
   ]
  },
  {
   "cell_type": "code",
   "execution_count": 31,
   "metadata": {
    "colab": {},
    "colab_type": "code",
    "id": "Jq2mz7dMWgk6"
   },
   "outputs": [],
   "source": [
    "from collections import Counter\n",
    "counts = Counter()\n",
    "for i,review in enumerate(t['text']):\n",
    "    counts.update(review.split())"
   ]
  },
  {
   "cell_type": "markdown",
   "metadata": {},
   "source": [
    "In the preceding step, we are extracting the frequency of all the words in the dataset. A sample of extracted words are as follows"
   ]
  },
  {
   "cell_type": "code",
   "execution_count": 32,
   "metadata": {
    "colab": {
     "base_uri": "https://localhost:8080/",
     "height": 187
    },
    "colab_type": "code",
    "id": "vUoKXQksWgk9",
    "outputId": "2e7c84d1-7bed-4d16-eb77-ab618cba8dee",
    "scrolled": true
   },
   "outputs": [
    {
     "data": {
      "text/plain": [
       "['united',\n",
       " 'flight',\n",
       " 'usairways',\n",
       " 'americanair',\n",
       " 'southwestair',\n",
       " 'jetblue',\n",
       " 'get',\n",
       " 'cancelled',\n",
       " 'thanks',\n",
       " 'service']"
      ]
     },
     "execution_count": 32,
     "metadata": {},
     "output_type": "execute_result"
    }
   ],
   "source": [
    "words = sorted(counts, key=counts.get, reverse=True)\n",
    "words[0:10]"
   ]
  },
  {
   "cell_type": "code",
   "execution_count": 33,
   "metadata": {
    "colab": {
     "base_uri": "https://localhost:8080/",
     "height": 34
    },
    "colab_type": "code",
    "id": "003q10B4WglA",
    "outputId": "c30f2623-e3f2-456c-d840-d717bb715acf"
   },
   "outputs": [
    {
     "data": {
      "text/plain": [
       "12532"
      ]
     },
     "execution_count": 33,
     "metadata": {},
     "output_type": "execute_result"
    }
   ],
   "source": [
    "chars = words\n",
    "nb_chars = len(words)\n",
    "nb_chars"
   ]
  },
  {
   "cell_type": "code",
   "execution_count": 34,
   "metadata": {
    "colab": {},
    "colab_type": "code",
    "id": "LobcZ4HEWglE"
   },
   "outputs": [],
   "source": [
    "word_to_int = {word: i for i, word in enumerate(words, 1)}\n",
    "int_to_word = {i: word for i, word in enumerate(words, 1)}"
   ]
  },
  {
   "cell_type": "markdown",
   "metadata": {},
   "source": [
    "In the preceding code, we are looping through all the words and are assigning an index for each word. A sample of integer to word dictionary is as follows:"
   ]
  },
  {
   "cell_type": "code",
   "execution_count": 35,
   "metadata": {
    "colab": {},
    "colab_type": "code",
    "id": "SewigN-_l0FF"
   },
   "outputs": [
    {
     "data": {
      "text/plain": [
       "[(1, 'united'),\n",
       " (2, 'flight'),\n",
       " (3, 'usairways'),\n",
       " (4, 'americanair'),\n",
       " (5, 'southwestair'),\n",
       " (6, 'jetblue'),\n",
       " (7, 'get'),\n",
       " (8, 'cancelled'),\n",
       " (9, 'thanks'),\n",
       " (10, 'service')]"
      ]
     },
     "execution_count": 35,
     "metadata": {},
     "output_type": "execute_result"
    }
   ],
   "source": [
    "list(int_to_word.items())[:10]"
   ]
  },
  {
   "cell_type": "markdown",
   "metadata": {},
   "source": [
    "**4.** Map each word in a given sentence to the corresponding word associated with it"
   ]
  },
  {
   "cell_type": "code",
   "execution_count": 36,
   "metadata": {
    "colab": {},
    "colab_type": "code",
    "id": "5hM8Ka3IWglP"
   },
   "outputs": [],
   "source": [
    "mapped_reviews = []\n",
    "for review in t['text']:\n",
    "    mapped_reviews.append([word_to_int[word] for word in review.split()])"
   ]
  },
  {
   "cell_type": "code",
   "execution_count": 37,
   "metadata": {
    "colab": {
     "base_uri": "https://localhost:8080/",
     "height": 51
    },
    "colab_type": "code",
    "id": "ZMVkpTt2mIRq",
    "outputId": "3ae5b554-4ecb-4760-88b2-3fad7f19629c"
   },
   "outputs": [
    {
     "name": "stdout",
     "output_type": "stream",
     "text": [
      "Original text: virginamerica plus added commercials experience tacky\n",
      "Mapped text: [44, 450, 1142, 2233, 100, 5429]\n"
     ]
    }
   ],
   "source": [
    "print('Original text:',t.loc[0]['text'])\n",
    "print('Mapped text:',mapped_reviews[0])"
   ]
  },
  {
   "cell_type": "code",
   "execution_count": 38,
   "metadata": {
    "colab": {
     "base_uri": "https://localhost:8080/",
     "height": 68
    },
    "colab_type": "code",
    "id": "bewMIqLVWglT",
    "outputId": "b6c8e37a-74bc-4abc-8504-ebe2cd7eef7c"
   },
   "outputs": [
    {
     "data": {
      "text/plain": [
       "0    virginamerica plus added commercials experienc...\n",
       "1    virginamerica really aggressive blast obnoxiou...\n",
       "Name: text, dtype: object"
      ]
     },
     "execution_count": 38,
     "metadata": {},
     "output_type": "execute_result"
    }
   ],
   "source": [
    "t.loc[0:1]['text']"
   ]
  },
  {
   "cell_type": "code",
   "execution_count": 39,
   "metadata": {
    "colab": {
     "base_uri": "https://localhost:8080/",
     "height": 51
    },
    "colab_type": "code",
    "id": "Zn_nkiQWWglX",
    "outputId": "0a6675c3-3f0d-41a4-e045-23f097da3b41"
   },
   "outputs": [
    {
     "data": {
      "text/plain": [
       "[[44, 450, 1142, 2233, 100, 5429],\n",
       " [44, 57, 3036, 3845, 3846, 815, 3037, 3847, 19, 366, 2234]]"
      ]
     },
     "execution_count": 39,
     "metadata": {},
     "output_type": "execute_result"
    }
   ],
   "source": [
    "mapped_reviews[0:2]"
   ]
  },
  {
   "cell_type": "markdown",
   "metadata": {},
   "source": [
    "**5.** Extract the maximum length of a sentence and normalize all sentences to the same length by padding them. In the following code, we are looping through all the reviews and storing the length corresponding to each review. Additionally, we are also calculating the maximum length of a review (tweet text):"
   ]
  },
  {
   "cell_type": "code",
   "execution_count": 40,
   "metadata": {
    "colab": {
     "base_uri": "https://localhost:8080/",
     "height": 34
    },
    "colab_type": "code",
    "id": "3Cd32eGeCz9K",
    "outputId": "213951ae-8c75-43a5-cde1-0fac36c94c6a"
   },
   "outputs": [
    {
     "data": {
      "text/plain": [
       "26"
      ]
     },
     "execution_count": 40,
     "metadata": {},
     "output_type": "execute_result"
    }
   ],
   "source": [
    "length_sent = []\n",
    "for i in range(len(mapped_reviews)):\n",
    "    length_sent.append(len(mapped_reviews[i]))\n",
    "max(length_sent)"
   ]
  },
  {
   "cell_type": "markdown",
   "metadata": {},
   "source": [
    "We should note that different tweets have different lengths. However, RNN expects the number of time steps for each input to be the same. In the code below, we are padding a mapped review  with a value of 0, if the length of the review is less than the maximum length of all reviews in dataset. This way, all inputs will have the same length."
   ]
  },
  {
   "cell_type": "code",
   "execution_count": 41,
   "metadata": {
    "colab": {},
    "colab_type": "code",
    "id": "hHCBcPejWglb"
   },
   "outputs": [],
   "source": [
    "sequence_length = max(length_sent)\n",
    "from keras.preprocessing.sequence import pad_sequences\n",
    "X = pad_sequences(maxlen=sequence_length, sequences=mapped_reviews, padding=\"post\", value=0)"
   ]
  },
  {
   "cell_type": "code",
   "execution_count": 42,
   "metadata": {
    "colab": {
     "base_uri": "https://localhost:8080/",
     "height": 34
    },
    "colab_type": "code",
    "id": "EpDc9SCaWgld",
    "outputId": "82e98523-fd7a-45d1-8eca-ac83c53f996b"
   },
   "outputs": [
    {
     "data": {
      "text/plain": [
       "(11541, 26)"
      ]
     },
     "execution_count": 42,
     "metadata": {},
     "output_type": "execute_result"
    }
   ],
   "source": [
    "X.shape"
   ]
  },
  {
   "cell_type": "markdown",
   "metadata": {},
   "source": [
    "**6.** Prepare the training and test datasets:"
   ]
  },
  {
   "cell_type": "code",
   "execution_count": 43,
   "metadata": {
    "colab": {},
    "colab_type": "code",
    "id": "rZXXQr5OWglh"
   },
   "outputs": [],
   "source": [
    "y=t['airline_sentiment'].values"
   ]
  },
  {
   "cell_type": "code",
   "execution_count": 44,
   "metadata": {
    "colab": {},
    "colab_type": "code",
    "id": "NZVO0ey8Wglj"
   },
   "outputs": [],
   "source": [
    "X_train, X_test, y_train, y_test = train_test_split(X, y, test_size=0.30,random_state=10)\n",
    "y_train2 = to_categorical(y_train)\n",
    "y_test2 = to_categorical(y_test)"
   ]
  },
  {
   "cell_type": "markdown",
   "metadata": {},
   "source": [
    "**7.** Build the RNN architecture and compile the model:"
   ]
  },
  {
   "cell_type": "code",
   "execution_count": 45,
   "metadata": {
    "colab": {
     "base_uri": "https://localhost:8080/",
     "height": 442
    },
    "colab_type": "code",
    "id": "8e-ylS_HDemx",
    "outputId": "81bc347b-d59d-4979-d4e8-6554b0d0aa80"
   },
   "outputs": [],
   "source": [
    "embedding_vecor_length=32\n",
    "max_review_length=26\n",
    "model = Sequential()\n",
    "model.add(Embedding(input_dim=12533, output_dim=32, input_length = 26))"
   ]
  },
  {
   "cell_type": "markdown",
   "metadata": {},
   "source": [
    "Note that embedding takes the total number of distinct words as input, and creates a vector for each word, where `output_dim` represents the number of dimensions in which the word is to be represented. `input_length` represents the number of words in each sentence."
   ]
  },
  {
   "cell_type": "code",
   "execution_count": 46,
   "metadata": {},
   "outputs": [],
   "source": [
    "model.add(SimpleRNN(40, return_sequences=False))"
   ]
  },
  {
   "cell_type": "markdown",
   "metadata": {},
   "source": [
    "Note that, in the RNN layer, if we want to extract the output of each time step, we say the `return_sequences` parameter is `True`. However, in the use case that we are solving now, we extract the output only after reading through all the input words and thus `return_sequences = False`."
   ]
  },
  {
   "cell_type": "code",
   "execution_count": 48,
   "metadata": {},
   "outputs": [],
   "source": [
    "'''\n",
    "modelex = Sequential()\n",
    "modelex.add(Embedding(1000, 64, input_length=10))\n",
    "# The model will take as input an integer matrix of size (batch,  \n",
    "# input_length), and the largest integer (i.e. word index) in the input  \n",
    "# should be no larger than 999 (vocabulary size).  \n",
    "# Now model.output_shape is (None, 10, 64), where `None` is the batch  \n",
    "# dimension.  \n",
    "input_array = np.random.randint(1000, size=(32, 10))\n",
    "'''"
   ]
  },
  {
   "cell_type": "code",
   "execution_count": 51,
   "metadata": {},
   "outputs": [
    {
     "data": {
      "text/plain": [
       "(32, 10)"
      ]
     },
     "execution_count": 51,
     "metadata": {},
     "output_type": "execute_result"
    }
   ],
   "source": [
    "input_array.shape"
   ]
  },
  {
   "cell_type": "code",
   "execution_count": null,
   "metadata": {},
   "outputs": [],
   "source": [
    "'''\n",
    "model.compile('rmsprop', 'mse')\n",
    "output_array = model.predict(input_array)\n",
    "print(output_array.shape)\n",
    "'''"
   ]
  },
  {
   "cell_type": "code",
   "execution_count": 31,
   "metadata": {
    "colab": {
     "base_uri": "https://localhost:8080/",
     "height": 34
    },
    "colab_type": "code",
    "id": "rGEL7t71LX4k",
    "outputId": "f61d7469-cb9e-41d4-aea8-f0bb727f0e1f"
   },
   "outputs": [
    {
     "data": {
      "text/plain": [
       "401056"
      ]
     },
     "execution_count": 31,
     "metadata": {},
     "output_type": "execute_result"
    }
   ],
   "source": [
    "12533*32"
   ]
  },
  {
   "cell_type": "code",
   "execution_count": 32,
   "metadata": {
    "colab": {
     "base_uri": "https://localhost:8080/",
     "height": 34
    },
    "colab_type": "code",
    "id": "yLUYOUubLZpB",
    "outputId": "8cf38f24-8194-461e-b492-f78048f4d10e"
   },
   "outputs": [
    {
     "data": {
      "text/plain": [
       "2920"
      ]
     },
     "execution_count": 32,
     "metadata": {},
     "output_type": "execute_result"
    }
   ],
   "source": [
    "(32+40)*40+40"
   ]
  },
  {
   "cell_type": "code",
   "execution_count": 35,
   "metadata": {},
   "outputs": [
    {
     "data": {
      "text/plain": [
       "404058"
      ]
     },
     "execution_count": 35,
     "metadata": {},
     "output_type": "execute_result"
    }
   ],
   "source": [
    "12533*32+(32+40)*40+40+2*40+2 ##where is 40*40 coming from?"
   ]
  },
  {
   "cell_type": "code",
   "execution_count": 52,
   "metadata": {
    "scrolled": true
   },
   "outputs": [
    {
     "name": "stdout",
     "output_type": "stream",
     "text": [
      "Model: \"sequential_1\"\n",
      "_________________________________________________________________\n",
      "Layer (type)                 Output Shape              Param #   \n",
      "=================================================================\n",
      "embedding_1 (Embedding)      (None, 26, 32)            401056    \n",
      "_________________________________________________________________\n",
      "simple_rnn_1 (SimpleRNN)     (None, 40)                2920      \n",
      "_________________________________________________________________\n",
      "dense_1 (Dense)              (None, 2)                 82        \n",
      "=================================================================\n",
      "Total params: 404,058\n",
      "Trainable params: 404,058\n",
      "Non-trainable params: 0\n",
      "_________________________________________________________________\n",
      "None\n"
     ]
    }
   ],
   "source": [
    "model.add(Dense(2, activation='softmax'))\n",
    "model.compile(loss='categorical_crossentropy', optimizer='adam', metrics=['accuracy'])\n",
    "print(model.summary())"
   ]
  },
  {
   "cell_type": "markdown",
   "metadata": {},
   "source": [
    "Let's understand why there are 401056 parameters to be estimated in the embedding layer. There are a total of 12,532 unique words, and if we consider that there is no word with an index of 0, it results in a total of 12,533 possible words where each is represented in 32 dimensions and hence (12,533 x 32 = 401,056) parameters to be estimated.\n",
    "\n",
    "There is a set of weights that connect the input to the 40 units of RNN. Given that there are 32 inputs at each time step (where the same set of weights is repeated for each time step), a total of 32 x 40 weights is used to connect the input to the hidden layer. This gives an output that is of 1 x 40 in dimension for each input.\n",
    "\n",
    "Additionally,if you consider the weights-connecting the previous time step's hidden layer to the current time step's hidden layer,we have 40 x 40 number of recurrent weights.\n",
    "\n",
    "Along with weights, we would also have 40 bias terms associated with each of the 40 output and thus a total of (32 x 40 + 40 x 40 + 40 = 2,920) weights.\n",
    "\n",
    "There are a total of 82 weights in the final layer, as the 40 units of the final time step are connected to the two possible output, resulting 40 x 2 weights and 2 biases, and thus a total of 82 units."
   ]
  },
  {
   "cell_type": "markdown",
   "metadata": {},
   "source": [
    "**8.** Fit the model:"
   ]
  },
  {
   "cell_type": "code",
   "execution_count": 53,
   "metadata": {
    "colab": {
     "base_uri": "https://localhost:8080/",
     "height": 459
    },
    "colab_type": "code",
    "id": "v5avYiY8Wgll",
    "outputId": "87585956-ad24-4200-bdb1-9b6f4b340fb8",
    "scrolled": true
   },
   "outputs": [
    {
     "name": "stderr",
     "output_type": "stream",
     "text": [
      "/Users/gceran/opt/anaconda3/envs/tensorflow_env/lib/python3.6/site-packages/tensorflow_core/python/framework/indexed_slices.py:424: UserWarning: Converting sparse IndexedSlices to a dense Tensor of unknown shape. This may consume a large amount of memory.\n",
      "  \"Converting sparse IndexedSlices to a dense Tensor of unknown shape. \"\n"
     ]
    },
    {
     "name": "stdout",
     "output_type": "stream",
     "text": [
      "Train on 8078 samples, validate on 3463 samples\n",
      "Epoch 1/10\n",
      "8078/8078 [==============================] - 12s 2ms/step - loss: 0.3281 - accuracy: 0.8706 - val_loss: 0.2477 - val_accuracy: 0.9047\n",
      "Epoch 2/10\n",
      "8078/8078 [==============================] - 10s 1ms/step - loss: 0.1307 - accuracy: 0.9562 - val_loss: 0.3025 - val_accuracy: 0.8963\n",
      "Epoch 3/10\n",
      "8078/8078 [==============================] - 11s 1ms/step - loss: 0.0552 - accuracy: 0.9830 - val_loss: 0.3356 - val_accuracy: 0.9001\n",
      "Epoch 4/10\n",
      "8078/8078 [==============================] - 10s 1ms/step - loss: 0.0303 - accuracy: 0.9910 - val_loss: 0.3368 - val_accuracy: 0.9001\n",
      "Epoch 5/10\n",
      "8078/8078 [==============================] - 10s 1ms/step - loss: 0.0132 - accuracy: 0.9963 - val_loss: 0.3969 - val_accuracy: 0.8972\n",
      "Epoch 6/10\n",
      "8078/8078 [==============================] - 10s 1ms/step - loss: 0.0111 - accuracy: 0.9970 - val_loss: 0.4465 - val_accuracy: 0.8880\n",
      "Epoch 7/10\n",
      "8078/8078 [==============================] - 10s 1ms/step - loss: 0.0098 - accuracy: 0.9963 - val_loss: 0.4604 - val_accuracy: 0.8984\n",
      "Epoch 8/10\n",
      "8078/8078 [==============================] - 10s 1ms/step - loss: 0.0110 - accuracy: 0.9964 - val_loss: 0.4767 - val_accuracy: 0.9004\n",
      "Epoch 9/10\n",
      "8078/8078 [==============================] - 10s 1ms/step - loss: 0.0091 - accuracy: 0.9972 - val_loss: 0.4882 - val_accuracy: 0.8937\n",
      "Epoch 10/10\n",
      "8078/8078 [==============================] - 11s 1ms/step - loss: 0.0070 - accuracy: 0.9975 - val_loss: 0.5110 - val_accuracy: 0.8836\n"
     ]
    }
   ],
   "source": [
    "history = model.fit(X_train, y_train2, validation_data=(X_test, y_test2), epochs=10, batch_size=32)"
   ]
  },
  {
   "cell_type": "code",
   "execution_count": 54,
   "metadata": {
    "colab": {
     "base_uri": "https://localhost:8080/",
     "height": 388
    },
    "colab_type": "code",
    "id": "Fhd0ZOIlpU6B",
    "outputId": "2cd918b1-eb17-4ca0-9132-6d1ec7e86229"
   },
   "outputs": [
    {
     "data": {
      "image/png": "[encoded data removed]",
      "text/plain": [
       "<Figure size 432x288 with 1 Axes>"
      ]
     },
     "metadata": {
      "needs_background": "light"
     },
     "output_type": "display_data"
    },
    {
     "data": {
      "image/png": "[encoded data removed]",
      "text/plain": [
       "<Figure size 432x288 with 1 Axes>"
      ]
     },
     "metadata": {
      "needs_background": "light"
     },
     "output_type": "display_data"
    }
   ],
   "source": [
    "import matplotlib.pyplot as plt\n",
    "%matplotlib inline\n",
    "history_dict = history.history\n",
    "loss_values = history_dict['loss']\n",
    "val_loss_values = history_dict['val_loss']\n",
    "acc_values = history_dict['accuracy']\n",
    "val_acc_values = history_dict['val_accuracy']\n",
    "epochs = range(1, len(val_loss_values) + 1)\n",
    "import matplotlib.ticker as mtick\n",
    "plt.subplot(211)\n",
    "plt.plot(epochs, history.history['loss'], 'bo', label='Training loss')\n",
    "plt.plot(epochs, val_loss_values, 'r', label='Test loss')\n",
    "plt.title('Training and test loss')\n",
    "plt.xlabel('Epochs')\n",
    "plt.ylabel('Loss')\n",
    "plt.legend()\n",
    "plt.grid(False)\n",
    "plt.show()\n",
    "plt.subplot(212)\n",
    "plt.plot(epochs, history.history['accuracy'], 'bo', label='Training accuracy')\n",
    "plt.plot(epochs, val_acc_values, 'r', label='Test accuracy')\n",
    "plt.title('Training and test accuracy')\n",
    "plt.xlabel('Epochs')\n",
    "plt.ylabel('Accuracy')\n",
    "plt.gca().set_yticklabels(['{:.0f}%'.format(x*100) for x in plt.gca().get_yticks()]) \n",
    "plt.legend()\n",
    "plt.grid(False)\n",
    "plt.show()"
   ]
  },
  {
   "cell_type": "code",
   "execution_count": null,
   "metadata": {},
   "outputs": [],
   "source": []
  }
 ],
 "metadata": {
  "colab": {
   "collapsed_sections": [],
   "name": "RNN_and_LSTM_sentiment_classification.ipynb",
   "provenance": []
  },
  "kernelspec": {
   "display_name": "Python 3",
   "language": "python",
   "name": "python3"
  },
  "language_info": {
   "codemirror_mode": {
    "name": "ipython",
    "version": 3
   },
   "file_extension": ".py",
   "mimetype": "text/x-python",
   "name": "python",
   "nbconvert_exporter": "python",
   "pygments_lexer": "ipython3",
   "version": "3.6.10"
  }
 },
 "nbformat": 4,
 "nbformat_minor": 4
}
