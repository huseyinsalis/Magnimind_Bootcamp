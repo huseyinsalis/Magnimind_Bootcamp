{
 "cells": [
  {
   "cell_type": "markdown",
   "metadata": {},
   "source": [
    "## Monthly Armed Robberies in Boston\n",
    "The problem is to predict the number of monthly armed robberies in Boston, USA. The dataset provides the number of monthly armed robberies in Boston from January 1966 to October 1975, or just under 10 years of data. The values are a count and there are 118 observations. The dataset is credited to McCleary and Hay (1980). "
   ]
  },
  {
   "cell_type": "code",
   "execution_count": 3,
   "metadata": {},
   "outputs": [
    {
     "name": "stdout",
     "output_type": "stream",
     "text": [
      "<class 'pandas.core.series.Series'>\n",
      "Month\n",
      "1966-01-01    41\n",
      "1966-02-01    39\n",
      "1966-03-01    50\n",
      "1966-04-01    40\n",
      "1966-05-01    43\n",
      "Name: Robberies, dtype: int64\n"
     ]
    }
   ],
   "source": [
    "import warnings\n",
    "warnings.filterwarnings(\"ignore\")\n",
    "# load and plot a time series\n",
    "from pandas import read_csv\n",
    "from matplotlib import pyplot\n",
    "series = read_csv('robberies.csv', header=0, index_col=0, parse_dates=True,\n",
    "    squeeze=True)\n",
    "print(type(series))\n",
    "print(series.head())"
   ]
  },
  {
   "cell_type": "markdown",
   "metadata": {},
   "source": [
    "#### Validation Dataset\n",
    "The dataset is not current. This means that we cannot easily collect updated data to validate the model. Therefore we will pretend that it is October 1974 and withhold the last one year of data from analysis and model selection. This final year of data will be used to validate the final model."
   ]
  },
  {
   "cell_type": "code",
   "execution_count": 13,
   "metadata": {},
   "outputs": [
    {
     "name": "stdout",
     "output_type": "stream",
     "text": [
      "Dataset 106, Validation 12\n"
     ]
    }
   ],
   "source": [
    "# split into a training and validation dataset\n",
    "\n",
    "split_point = len(series) - 12\n",
    "dataset, validation = series[0:split_point], series[split_point:]\n",
    "print('Dataset %d, Validation %d' % (len(dataset), len(validation))) \n",
    "dataset.to_csv('dataset.csv')\n",
    "validation.to_csv('validation.csv')"
   ]
  },
  {
   "cell_type": "markdown",
   "metadata": {},
   "source": [
    "Given the small size of the data, we will allow a model to be re-trained given all available data prior to each prediction."
   ]
  },
  {
   "cell_type": "code",
   "execution_count": 4,
   "metadata": {},
   "outputs": [],
   "source": [
    "# prepare data\n",
    "X = series.values\n",
    "X = X.astype('float32')\n",
    "train_size = int(len(X) * 0.50)\n",
    "train, test = X[0:train_size], X[train_size:]"
   ]
  },
  {
   "cell_type": "markdown",
   "metadata": {},
   "source": [
    "The first step before getting bogged down in data analysis and modeling is to establish a baseline of performance. This will provide both a template for evaluating models using the proposed test harness and a performance measure by which all more elaborate predictive models can be compared. The baseline prediction for time series forecasting is called the naive forecast, or persistence. This is where the observation from the previous time step is used as the prediction for the observation at the next time step."
   ]
  },
  {
   "cell_type": "code",
   "execution_count": 15,
   "metadata": {},
   "outputs": [
    {
     "name": "stdout",
     "output_type": "stream",
     "text": [
      ">Predicted=174.000, Expected=178\n",
      ">Predicted=178.000, Expected=136\n",
      ">Predicted=136.000, Expected=161\n",
      ">Predicted=161.000, Expected=171\n",
      ">Predicted=171.000, Expected=149\n",
      ">Predicted=149.000, Expected=184\n",
      ">Predicted=184.000, Expected=155\n",
      ">Predicted=155.000, Expected=276\n",
      ">Predicted=276.000, Expected=224\n",
      ">Predicted=224.000, Expected=213\n",
      ">Predicted=213.000, Expected=279\n",
      ">Predicted=279.000, Expected=268\n",
      ">Predicted=268.000, Expected=287\n",
      ">Predicted=287.000, Expected=238\n",
      ">Predicted=238.000, Expected=213\n",
      ">Predicted=213.000, Expected=257\n",
      ">Predicted=257.000, Expected=293\n",
      ">Predicted=293.000, Expected=212\n",
      ">Predicted=212.000, Expected=246\n",
      ">Predicted=246.000, Expected=353\n",
      ">Predicted=353.000, Expected=339\n",
      ">Predicted=339.000, Expected=308\n",
      ">Predicted=308.000, Expected=247\n",
      ">Predicted=247.000, Expected=257\n",
      ">Predicted=257.000, Expected=322\n",
      ">Predicted=322.000, Expected=298\n",
      ">Predicted=298.000, Expected=273\n",
      ">Predicted=273.000, Expected=312\n",
      ">Predicted=312.000, Expected=249\n",
      ">Predicted=249.000, Expected=286\n",
      ">Predicted=286.000, Expected=279\n",
      ">Predicted=279.000, Expected=309\n",
      ">Predicted=309.000, Expected=401\n",
      ">Predicted=401.000, Expected=309\n",
      ">Predicted=309.000, Expected=328\n",
      ">Predicted=328.000, Expected=353\n",
      ">Predicted=353.000, Expected=354\n",
      ">Predicted=354.000, Expected=327\n",
      ">Predicted=327.000, Expected=324\n",
      ">Predicted=324.000, Expected=285\n",
      ">Predicted=285.000, Expected=243\n",
      ">Predicted=243.000, Expected=241\n",
      ">Predicted=241.000, Expected=287\n",
      ">Predicted=287.000, Expected=355\n",
      ">Predicted=355.000, Expected=460\n",
      ">Predicted=460.000, Expected=364\n",
      ">Predicted=364.000, Expected=487\n",
      ">Predicted=487.000, Expected=452\n",
      ">Predicted=452.000, Expected=391\n",
      ">Predicted=391.000, Expected=500\n",
      ">Predicted=500.000, Expected=451\n",
      ">Predicted=451.000, Expected=375\n",
      ">Predicted=375.000, Expected=372\n",
      ">Predicted=372.000, Expected=302\n",
      ">Predicted=302.000, Expected=316\n",
      ">Predicted=316.000, Expected=398\n",
      ">Predicted=398.000, Expected=394\n",
      ">Predicted=394.000, Expected=431\n",
      ">Predicted=431.000, Expected=431\n",
      "RMSE: 54.191\n"
     ]
    }
   ],
   "source": [
    "from sklearn.metrics import mean_squared_error\n",
    "from math import sqrt\n",
    "# walk-forward validation\n",
    "history = [x for x in train]\n",
    "predictions = list()\n",
    "for i in range(len(test)):\n",
    "     # predict    \n",
    "        yhat = history[-1]\n",
    "        predictions.append(yhat)\n",
    "      # observation\n",
    "        obs = test[i]\n",
    "        history.append(obs)\n",
    "        print('>Predicted=%.3f, Expected=%3.f' % (yhat, obs))\n",
    "# report performance\n",
    "rmse = sqrt(mean_squared_error(test, predictions)) \n",
    "print('RMSE: %.3f' % rmse)"
   ]
  },
  {
   "cell_type": "markdown",
   "metadata": {},
   "source": [
    "Running the test harness prints the prediction and observation for each iteration of the test dataset. The example ends by printing the RMSE for the model. In this case, we can see that the persistence model achieved an RMSE of 54.191. This means that on average, the model was wrong by about 54 robberies for each prediction made.\n"
   ]
  },
  {
   "cell_type": "markdown",
   "metadata": {},
   "source": [
    "## Data Analysis"
   ]
  },
  {
   "cell_type": "markdown",
   "metadata": {},
   "source": [
    "### Summary statistics"
   ]
  },
  {
   "cell_type": "code",
   "execution_count": 12,
   "metadata": {},
   "outputs": [
    {
     "name": "stdout",
     "output_type": "stream",
     "text": [
      "count    118.000000\n",
      "mean     196.288136\n",
      "std      128.043602\n",
      "min       29.000000\n",
      "25%       85.500000\n",
      "50%      166.000000\n",
      "75%      296.750000\n",
      "max      500.000000\n",
      "Name: Robberies, dtype: float64\n"
     ]
    }
   ],
   "source": [
    "print(series.describe())"
   ]
  },
  {
   "cell_type": "markdown",
   "metadata": {},
   "source": [
    "\n",
    "Running the example provides a number of summary statistics to review. Some observations from these statistics include:\n",
    "- The number of observations (count) matches our expectation, meaning we are handling the data correctly.\n",
    "- The mean is about 173, which we might consider our level in this series.\n",
    "- The standard deviation (average spread from the mean) is relatively large at 112 robberies.\n",
    "- The percentiles along with the standard deviation do suggest a large spread to the data."
   ]
  },
  {
   "cell_type": "code",
   "execution_count": 16,
   "metadata": {},
   "outputs": [
    {
     "data": {
      "image/png": "[encoded data removed]",
      "text/plain": [
       "<Figure size 432x288 with 1 Axes>"
      ]
     },
     "metadata": {
      "needs_background": "light"
     },
     "output_type": "display_data"
    }
   ],
   "source": [
    "from matplotlib import pyplot\n",
    "series.plot()\n",
    "pyplot.show()"
   ]
  },
  {
   "cell_type": "markdown",
   "metadata": {},
   "source": [
    "Some observations from the plot include:\n",
    "- There is an increasing trend of robberies over time.\n",
    "- There do not appear to be any obvious outliers.\n",
    "- There are relatively large fluctuations from year to year, up and down.\n",
    "- The fluctuations at later years appear larger than fluctuations at earlier years.\n",
    "- The trend means the dataset is almost certainly non-stationary and the apparent change in fluctuation may also contribute.\n",
    "\n",
    "These simple observations suggest we may see benefit in modeling the trend and removing it from the time series. Alternately, we could use differencing to make the series stationary for modeling. We may even need two levels of differencing if there is a growth trend in the fluctuations in later years."
   ]
  },
  {
   "cell_type": "markdown",
   "metadata": {},
   "source": [
    "### Density Plot"
   ]
  },
  {
   "cell_type": "code",
   "execution_count": 17,
   "metadata": {},
   "outputs": [
    {
     "data": {
      "image/png": "[encoded data removed]",
      "text/plain": [
       "<Figure size 432x288 with 2 Axes>"
      ]
     },
     "metadata": {
      "needs_background": "light"
     },
     "output_type": "display_data"
    }
   ],
   "source": [
    "pyplot.figure(1)\n",
    "pyplot.subplot(211)\n",
    "series.hist()\n",
    "pyplot.subplot(212)\n",
    "series.plot(kind='kde')\n",
    "pyplot.show()"
   ]
  },
  {
   "cell_type": "markdown",
   "metadata": {},
   "source": [
    "Some observations from the plots include:\n",
    "- The distribution is not Gaussian.\n",
    "- The distribution is left shifted and may be exponential or a double Gaussian.\n"
   ]
  },
  {
   "cell_type": "markdown",
   "metadata": {},
   "source": [
    "### Box and Whisker Plot\n",
    "We can group the monthly data by year and get an idea of the spread of observations for each year and how this may be changing. We do expect to see some trend (increasing mean or median), but it may be interesting to see how the rest of the distribution may be changing. The example below groups the observations by year and creates one box and whisker plot for each year of observations."
   ]
  },
  {
   "cell_type": "code",
   "execution_count": 18,
   "metadata": {},
   "outputs": [
    {
     "data": {
      "image/png": "[encoded data removed]",
      "text/plain": [
       "<Figure size 432x288 with 1 Axes>"
      ]
     },
     "metadata": {
      "needs_background": "light"
     },
     "output_type": "display_data"
    }
   ],
   "source": [
    "from pandas import DataFrame\n",
    "from pandas import Grouper\n",
    "groups = series['1966':'1973'].groupby(Grouper(freq='A')) \n",
    "years = DataFrame()\n",
    "for name, group in groups:\n",
    "    years[name.year] = group.values\n",
    "years.boxplot()\n",
    "pyplot.show()"
   ]
  },
  {
   "cell_type": "markdown",
   "metadata": {},
   "source": [
    "Running the example creates 8 box and whisker plots side-by-side, one for each of the 8 years of selected data. Some observations from reviewing the plot include:\n",
    "- The median values for each year (green line) show a trend that may not be linear.\n",
    "- The spread, or middle 50% of the data (blue boxes), differ, but perhaps not consistently over time.\n",
    "- The earlier years, perhaps first 2, are quite different from the rest of the dataset.\n",
    "\n",
    "The observations suggest that the year-to-year fluctuations may not be systematic and hard to model. They also suggest that there may be some benefit in clipping the first two years of data from modeling if it is indeed quite different."
   ]
  },
  {
   "cell_type": "markdown",
   "metadata": {},
   "source": [
    "### ARIMA Model\n",
    "\n",
    "Nonseasonal `ARIMA(p,d,q)` requires three parameters and is traditionally configured manually. Analysis of the time series data assumes that we are working with a stationary time series. The time series is almost certainly non-stationary. We can make it stationary by first differencing the series and using a statistical test to confirm that the result is stationary. The example below creates a stationary version of the series and saves it to file `stationary.csv`."
   ]
  },
  {
   "cell_type": "code",
   "execution_count": 19,
   "metadata": {},
   "outputs": [
    {
     "name": "stdout",
     "output_type": "stream",
     "text": [
      "ADF Statistic: -7.428564\n",
      "p-value: 0.000000\n",
      "Critical Values:\n",
      "\t1%: -3.494\n",
      "\t5%: -2.889\n",
      "\t10%: -2.582\n"
     ]
    }
   ],
   "source": [
    "from pandas import Series\n",
    "from statsmodels.tsa.stattools import adfuller\n",
    "# create a differenced time series\n",
    "def difference(dataset):\n",
    "    diff = list()\n",
    "    for i in range(1, len(dataset)):\n",
    "        value = dataset[i] - dataset[i - 1]\n",
    "        diff.append(value)\n",
    "    return Series(diff)\n",
    "# difference data\n",
    "stationary = difference(X)\n",
    "stationary.index = series.index[1:]\n",
    "# check if stationary\n",
    "result = adfuller(stationary) \n",
    "print('ADF Statistic: %f' % result[0]) \n",
    "print('p-value: %f' % result[1]) \n",
    "print('Critical Values:')\n",
    "for key, value in result[4].items():\n",
    "    print('\\t%s: %.3f' % (key, value)) \n",
    "# save\n",
    "stationary.to_csv('stationary.csv')"
   ]
  },
  {
   "cell_type": "markdown",
   "metadata": {},
   "source": [
    "Running the example outputs the result of a statistical significance test of whether the 1-lag differenced series is stationary. Specifically, the augmented Dickey-Fuller test. The results show that the test statistic value -7.42 is smaller than the critical value at 5% of -2.89. This suggests that we can reject the null hypothesis with a significance level of less than 5% (i.e. a low probability that the result is a statistical fluke). Rejecting the null hypothesis means that the process has no unit root, and in turn that the 1-lag differenced time series is stationary or does not have time-dependent structure. "
   ]
  },
  {
   "cell_type": "markdown",
   "metadata": {},
   "source": [
    "This suggests that at least one level of differencing is required. The d parameter in our ARIMA model should at least be a value of 1. The next step is to select the lag values for the Autoregression (AR) and Moving Average (MA) parameters, `p` and `q` respectively. We can do this by reviewing Autocorrelation Function (ACF) and Partial Autocorrelation Function (PACF) plots."
   ]
  },
  {
   "cell_type": "code",
   "execution_count": 20,
   "metadata": {},
   "outputs": [
    {
     "data": {
      "image/png": "[encoded data removed]",
      "text/plain": [
       "<Figure size 432x288 with 2 Axes>"
      ]
     },
     "metadata": {
      "needs_background": "light"
     },
     "output_type": "display_data"
    }
   ],
   "source": [
    "from statsmodels.graphics.tsaplots import plot_acf\n",
    "from statsmodels.graphics.tsaplots import plot_pacf\n",
    "\n",
    "pyplot.subplot(211)\n",
    "plot_acf(series, lags=30, ax=pyplot.gca())\n",
    "pyplot.subplot(212)\n",
    "plot_pacf(series, lags=30, ax=pyplot.gca())\n",
    "pyplot.show()"
   ]
  },
  {
   "cell_type": "markdown",
   "metadata": {},
   "source": [
    "The ACF shows a significant lag for 10-11 months.\n",
    "- The PACF shows a significant lag for perhaps 2 months.\n",
    "- Both the ACF and PACF show a drop-off at the same point, perhaps suggesting a mix of AR and MA.\n",
    "\n",
    "A good starting point for the `p` and `q` values is 11 or 2."
   ]
  },
  {
   "cell_type": "markdown",
   "metadata": {},
   "source": [
    "This quick analysis suggests an `ARIMA(11,1,2)` on the raw data may be a good starting point. Experimentation shows that this configuration of `ARIMA` does not converge and results in errors by the underlying library, as do similarly large `AR` values. Some experimentation shows that the model does not appear to be stable, with non-zero `AR` and `MA` orders defined at the same time. The model can be simplified to `ARIMA(0,1,2)`."
   ]
  },
  {
   "cell_type": "code",
   "execution_count": 21,
   "metadata": {},
   "outputs": [
    {
     "name": "stdout",
     "output_type": "stream",
     "text": [
      ">Predicted=184.846, Expected=178\n",
      ">Predicted=183.763, Expected=136\n",
      ">Predicted=146.180, Expected=161\n",
      ">Predicted=171.279, Expected=171\n",
      ">Predicted=170.196, Expected=149\n",
      ">Predicted=154.425, Expected=184\n",
      ">Predicted=185.708, Expected=155\n",
      ">Predicted=157.284, Expected=276\n",
      ">Predicted=245.280, Expected=224\n",
      ">Predicted=222.242, Expected=213\n",
      ">Predicted=219.698, Expected=279\n",
      ">Predicted=261.506, Expected=268\n",
      ">Predicted=264.287, Expected=287\n",
      ">Predicted=282.759, Expected=238\n",
      ">Predicted=255.843, Expected=213\n",
      ">Predicted=235.189, Expected=257\n",
      ">Predicted=257.622, Expected=293\n",
      ">Predicted=280.345, Expected=212\n",
      ">Predicted=235.564, Expected=246\n",
      ">Predicted=255.342, Expected=353\n",
      ">Predicted=318.613, Expected=339\n",
      ">Predicted=310.335, Expected=308\n",
      ">Predicted=306.789, Expected=247\n",
      ">Predicted=270.213, Expected=257\n",
      ">Predicted=283.318, Expected=322\n",
      ">Predicted=316.063, Expected=298\n",
      ">Predicted=294.466, Expected=273\n",
      ">Predicted=289.635, Expected=312\n",
      ">Predicted=314.759, Expected=249\n",
      ">Predicted=268.675, Expected=286\n",
      ">Predicted=303.095, Expected=279\n",
      ">Predicted=286.441, Expected=309\n",
      ">Predicted=309.455, Expected=401\n",
      ">Predicted=363.141, Expected=309\n",
      ">Predicted=304.979, Expected=328\n",
      ">Predicted=336.240, Expected=353\n",
      ">Predicted=342.814, Expected=354\n",
      ">Predicted=347.675, Expected=327\n",
      ">Predicted=335.842, Expected=324\n",
      ">Predicted=338.449, Expected=285\n",
      ">Predicted=314.714, Expected=243\n",
      ">Predicted=290.336, Expected=241\n",
      ">Predicted=280.614, Expected=287\n",
      ">Predicted=302.079, Expected=355\n",
      ">Predicted=340.210, Expected=460\n",
      ">Predicted=405.172, Expected=364\n",
      ">Predicted=333.755, Expected=487\n",
      ">Predicted=438.376, Expected=452\n",
      ">Predicted=413.255, Expected=391\n",
      ">Predicted=396.183, Expected=500\n",
      ">Predicted=474.024, Expected=451\n",
      ">Predicted=442.055, Expected=375\n",
      ">Predicted=404.172, Expected=372\n",
      ">Predicted=404.607, Expected=302\n",
      ">Predicted=356.322, Expected=316\n",
      ">Predicted=375.677, Expected=398\n",
      ">Predicted=409.058, Expected=394\n",
      ">Predicted=393.766, Expected=431\n",
      ">Predicted=426.014, Expected=431\n",
      "RMSE: 51.007\n"
     ]
    }
   ],
   "source": [
    "from sklearn.metrics import mean_squared_error\n",
    "from statsmodels.tsa.arima_model import ARIMA\n",
    "from math import sqrt\n",
    "# load data\n",
    "##########\n",
    "# walk-forward validation\n",
    "history = [x for x in train]\n",
    "predictions = list()\n",
    "for i in range(len(test)):\n",
    "    # predict\n",
    "    model = ARIMA(history, order=(0,1,2))\n",
    "    model_fit = model.fit(disp=0)\n",
    "    yhat = model_fit.forecast()[0]\n",
    "    predictions.append(yhat)\n",
    "    # observation\n",
    "    obs = test[i]\n",
    "    history.append(obs)\n",
    "    print('>Predicted=%.3f, Expected=%3.f' % (yhat, obs))\n",
    "# report performance\n",
    "rmse = sqrt(mean_squared_error(test, predictions)) \n",
    "print('RMSE: %.3f' % rmse)"
   ]
  },
  {
   "cell_type": "markdown",
   "metadata": {},
   "source": [
    "Running this example results in an RMSE of 51, which is lower than the persistence model."
   ]
  },
  {
   "cell_type": "markdown",
   "metadata": {},
   "source": [
    "### Grid Search ARIMA Hyperparameters\n",
    "Many ARIMA configurations are unstable on this dataset, but there may be other hyperparameters that result in a well-performing model. In this section, we will search values of `p`, `d`, and `q` for combinations that do not result in error, and find the combination that results in the best performance. We will use a grid search to explore all combinations in a subset of integer values. Specifically, we will search all combinations of the following parameters:\n",
    "- `p`: 0 to 12. \n",
    "- `d`: 0 to 3. \n",
    "- `q`: 0 to 12."
   ]
  },
  {
   "cell_type": "code",
   "execution_count": null,
   "metadata": {},
   "outputs": [],
   "source": [
    "import warnings\n",
    "from statsmodels.tsa.arima_model import ARIMA\n",
    "from pandas import read_csv\n",
    "from sklearn.metrics import mean_squared_error\n",
    "from math import sqrt\n",
    "\n",
    "# evaluate an ARIMA model for a given order (p,d,q) and return RMSE\n",
    "def evaluate_arima_model(X, arima_order):\n",
    "    # prepare training dataset\n",
    "    X = X.astype('float32')\n",
    "    train_size = int(len(X) * 0.50)\n",
    "    train, test = X[0:train_size], X[train_size:]\n",
    "    history = [x for x in train]\n",
    "    # make predictions\n",
    "    predictions = list()\n",
    "    for t in range(len(test)):\n",
    "        model = ARIMA(history, order=arima_order)\n",
    "        model_fit = model.fit(disp=0)\n",
    "        yhat = model_fit.forecast()[0]\n",
    "        predictions.append(yhat)\n",
    "        history.append(test[t])\n",
    "    # calculate out of sample error\n",
    "    rmse = sqrt(mean_squared_error(test, predictions))\n",
    "    return rmse\n",
    "\n",
    "# evaluate combinations of p, d and q values for an ARIMA model\n",
    "def evaluate_models(dataset, p_values, d_values, q_values): \n",
    "    dataset = dataset.astype('float32')\n",
    "    best_score, best_cfg = float(\"inf\"), None\n",
    "    for p in p_values:\n",
    "        for d in d_values:\n",
    "            for q in q_values:\n",
    "                order = (p,d,q)\n",
    "                try:\n",
    "                    rmse = evaluate_arima_model(dataset, order)\n",
    "                    if rmse < best_score:\n",
    "                        best_score, best_cfg = rmse, order \n",
    "                        print('ARIMA%s RMSE=%.3f' % (order,rmse))\n",
    "                except:\n",
    "                    continue\n",
    "    print('Best ARIMA%s RMSE=%.3f' % (best_cfg, best_score))\n",
    "\n",
    "# load dataset\n",
    "series = read_csv('dataset.csv', header=None, index_col=0, parse_dates=True, squeeze=True)\n",
    "# evaluate parameters\n",
    "p_values = range(0,13)\n",
    "d_values = range(0, 4)\n",
    "q_values = range(0, 13)\n",
    "warnings.filterwarnings(\"ignore\")\n",
    "evaluate_models(series.values, p_values, d_values, q_values)    "
   ]
  },
  {
   "cell_type": "markdown",
   "metadata": {},
   "source": [
    "Running the example runs through all combinations and reports the results on those that converge without error. The example takes a little less than 2 hours to run on modern hardware. The results show that the best configuration discovered was `ARIMA(0,1,2)`"
   ]
  },
  {
   "cell_type": "markdown",
   "metadata": {},
   "source": [
    "### Review Residual Errors\n",
    "A good final check of a model is to review residual forecast errors. Ideally, the distribution of residual errors should be a Gaussian with a zero mean. We can check this by plotting the residuals with a histogram and density plots."
   ]
  },
  {
   "cell_type": "code",
   "execution_count": 22,
   "metadata": {},
   "outputs": [
    {
     "data": {
      "image/png": "[encoded data removed]",
      "text/plain": [
       "<Figure size 432x288 with 2 Axes>"
      ]
     },
     "metadata": {
      "needs_background": "light"
     },
     "output_type": "display_data"
    }
   ],
   "source": [
    "# plot residual errors for ARIMA model\n",
    "from pandas import read_csv\n",
    "from pandas import DataFrame\n",
    "from statsmodels.tsa.arima_model import ARIMA\n",
    "from matplotlib import pyplot\n",
    "# load data\n",
    "series = read_csv('dataset.csv', header=None, index_col=0, parse_dates=True, squeeze=True)\n",
    "# prepare data\n",
    "X = series.values\n",
    "X = X.astype('float32')\n",
    "train_size = int(len(X) * 0.50)\n",
    "train, test = X[0:train_size], X[train_size:]\n",
    "# walk-forward validation\n",
    "history = [x for x in train]\n",
    "predictions = list()\n",
    "for i in range(len(test)):\n",
    "    # predict\n",
    "    model = ARIMA(history, order=(0,1,2))\n",
    "    model_fit = model.fit(disp=0)\n",
    "    yhat = model_fit.forecast()[0]\n",
    "    predictions.append(yhat)\n",
    "    # observation\n",
    "    obs = test[i]\n",
    "    history.append(obs)\n",
    "# errors\n",
    "residuals = [test[i]-predictions[i] for i in range(len(test))]\n",
    "residuals = DataFrame(residuals)\n",
    "pyplot.figure()\n",
    "pyplot.subplot(211)\n",
    "residuals.hist(ax=pyplot.gca())\n",
    "pyplot.subplot(212)\n",
    "residuals.plot(kind='kde', ax=pyplot.gca())\n",
    "pyplot.show()"
   ]
  },
  {
   "cell_type": "markdown",
   "metadata": {},
   "source": [
    "Running the example creates the two plots. The graphs suggest a Gaussian-like distribution with a longer right tail. This is perhaps a sign that the predictions are biased, and in this case that perhaps a power-based transform of the raw data before modeling might be useful."
   ]
  },
  {
   "cell_type": "markdown",
   "metadata": {},
   "source": [
    "It is also a good idea to check the time series of the residual errors for any type of autocorrelation. If present, it would suggest that the model has more opportunity to model the temporal structure in the data. The example below re-calculates the residual errors and creates ACF and PACF plots to check for any significant autocorrelation."
   ]
  },
  {
   "cell_type": "code",
   "execution_count": 2,
   "metadata": {},
   "outputs": [
    {
     "ename": "ValueError",
     "evalue": "could not convert string to float: 'Robberies'",
     "output_type": "error",
     "traceback": [
      "\u001b[0;31m---------------------------------------------------------------------------\u001b[0m",
      "\u001b[0;31mValueError\u001b[0m                                Traceback (most recent call last)",
      "\u001b[0;32m<ipython-input-2-dc22f6c122f0>\u001b[0m in \u001b[0;36m<module>\u001b[0;34m\u001b[0m\n\u001b[1;32m      9\u001b[0m \u001b[0mseries\u001b[0m \u001b[0;34m=\u001b[0m \u001b[0mread_csv\u001b[0m\u001b[0;34m(\u001b[0m\u001b[0;34m'robberies.csv'\u001b[0m\u001b[0;34m,\u001b[0m \u001b[0mheader\u001b[0m\u001b[0;34m=\u001b[0m\u001b[0;32mNone\u001b[0m\u001b[0;34m,\u001b[0m \u001b[0mindex_col\u001b[0m\u001b[0;34m=\u001b[0m\u001b[0;36m0\u001b[0m\u001b[0;34m,\u001b[0m \u001b[0mparse_dates\u001b[0m\u001b[0;34m=\u001b[0m\u001b[0;32mTrue\u001b[0m\u001b[0;34m,\u001b[0m \u001b[0msqueeze\u001b[0m\u001b[0;34m=\u001b[0m\u001b[0;32mTrue\u001b[0m\u001b[0;34m)\u001b[0m \u001b[0;31m# prepare data\u001b[0m\u001b[0;34m\u001b[0m\u001b[0;34m\u001b[0m\u001b[0m\n\u001b[1;32m     10\u001b[0m \u001b[0mX\u001b[0m \u001b[0;34m=\u001b[0m \u001b[0mseries\u001b[0m\u001b[0;34m.\u001b[0m\u001b[0mvalues\u001b[0m\u001b[0;34m\u001b[0m\u001b[0;34m\u001b[0m\u001b[0m\n\u001b[0;32m---> 11\u001b[0;31m \u001b[0mX\u001b[0m \u001b[0;34m=\u001b[0m \u001b[0mX\u001b[0m\u001b[0;34m.\u001b[0m\u001b[0mastype\u001b[0m\u001b[0;34m(\u001b[0m\u001b[0;34m'float32'\u001b[0m\u001b[0;34m)\u001b[0m\u001b[0;34m\u001b[0m\u001b[0;34m\u001b[0m\u001b[0m\n\u001b[0m\u001b[1;32m     12\u001b[0m \u001b[0mtrain_size\u001b[0m \u001b[0;34m=\u001b[0m \u001b[0mint\u001b[0m\u001b[0;34m(\u001b[0m\u001b[0mlen\u001b[0m\u001b[0;34m(\u001b[0m\u001b[0mX\u001b[0m\u001b[0;34m)\u001b[0m \u001b[0;34m*\u001b[0m \u001b[0;36m0.50\u001b[0m\u001b[0;34m)\u001b[0m\u001b[0;34m\u001b[0m\u001b[0;34m\u001b[0m\u001b[0m\n\u001b[1;32m     13\u001b[0m \u001b[0mtrain\u001b[0m\u001b[0;34m,\u001b[0m \u001b[0mtest\u001b[0m \u001b[0;34m=\u001b[0m \u001b[0mX\u001b[0m\u001b[0;34m[\u001b[0m\u001b[0;36m0\u001b[0m\u001b[0;34m:\u001b[0m\u001b[0mtrain_size\u001b[0m\u001b[0;34m]\u001b[0m\u001b[0;34m,\u001b[0m \u001b[0mX\u001b[0m\u001b[0;34m[\u001b[0m\u001b[0mtrain_size\u001b[0m\u001b[0;34m:\u001b[0m\u001b[0;34m]\u001b[0m\u001b[0;34m\u001b[0m\u001b[0;34m\u001b[0m\u001b[0m\n",
      "\u001b[0;31mValueError\u001b[0m: could not convert string to float: 'Robberies'"
     ]
    }
   ],
   "source": [
    "# ACF and PACF plots of forecast residual errors\n",
    "from pandas import read_csv\n",
    "from pandas import DataFrame\n",
    "from statsmodels.tsa.arima_model import ARIMA\n",
    "from statsmodels.graphics.tsaplots import plot_acf\n",
    "from statsmodels.graphics.tsaplots import plot_pacf\n",
    "from matplotlib import pyplot\n",
    "# load data\n",
    "series = read_csv('robberies.csv', header=None, index_col=0, parse_dates=True, squeeze=True) # prepare data\n",
    "X = series.values\n",
    "X = X.astype('float32')\n",
    "train_size = int(len(X) * 0.50)\n",
    "train, test = X[0:train_size], X[train_size:]\n",
    "# walk-forward validation\n",
    "history = [x for x in train]\n",
    "predictions = list()\n",
    "for i in range(len(test)):\n",
    "    # predict\n",
    "    model = ARIMA(history, order=(0,1,2))\n",
    "    model_fit = model.fit(disp=0)\n",
    "    yhat = model_fit.forecast()[0]\n",
    "    predictions.append(yhat)\n",
    "    # observation\n",
    "    obs = test[i]\n",
    "    history.append(obs)\n",
    "# errors\n",
    "residuals = [test[i]-predictions[i]\n",
    "             for i in range(len(test))]\n",
    "residuals = DataFrame(residuals)\n",
    "pyplot.figure()\n",
    "pyplot.subplot(211)\n",
    "plot_acf(residuals, lags=25, ax=pyplot.gca())\n",
    "pyplot.subplot(212)\n",
    "plot_pacf(residuals, lags=25, ax=pyplot.gca())\n",
    "pyplot.show()\n",
    "\n",
    "                                    "
   ]
  },
  {
   "cell_type": "markdown",
   "metadata": {},
   "source": [
    "The results suggest that what little autocorrelation is present in the time series has been captured by the model."
   ]
  },
  {
   "cell_type": "markdown",
   "metadata": {},
   "source": [
    "### Box-Cox Transformed Dataset\n",
    "The Box-Cox transform is a method that is able to evaluate a suite of power transforms, including, but not limited to, log, square root, and reciprocal transforms of the data. The example below performs a log transform of the data and generates some plots to review the effect on the time series."
   ]
  },
  {
   "cell_type": "code",
   "execution_count": 5,
   "metadata": {},
   "outputs": [
    {
     "ename": "ValueError",
     "evalue": "could not convert string to float: 'Robberies'",
     "output_type": "error",
     "traceback": [
      "\u001b[0;31m---------------------------------------------------------------------------\u001b[0m",
      "\u001b[0;31mValueError\u001b[0m                                Traceback (most recent call last)",
      "\u001b[0;32m<ipython-input-5-c6062e3a12c6>\u001b[0m in \u001b[0;36m<module>\u001b[0;34m\u001b[0m\n\u001b[1;32m      6\u001b[0m \u001b[0mseries\u001b[0m \u001b[0;34m=\u001b[0m \u001b[0mread_csv\u001b[0m\u001b[0;34m(\u001b[0m\u001b[0;34m'robberies.csv'\u001b[0m\u001b[0;34m,\u001b[0m \u001b[0mheader\u001b[0m\u001b[0;34m=\u001b[0m\u001b[0;32mNone\u001b[0m\u001b[0;34m,\u001b[0m \u001b[0mindex_col\u001b[0m\u001b[0;34m=\u001b[0m\u001b[0;36m0\u001b[0m\u001b[0;34m,\u001b[0m \u001b[0mparse_dates\u001b[0m\u001b[0;34m=\u001b[0m\u001b[0;32mTrue\u001b[0m\u001b[0;34m,\u001b[0m \u001b[0msqueeze\u001b[0m\u001b[0;34m=\u001b[0m\u001b[0;32mTrue\u001b[0m\u001b[0;34m)\u001b[0m\u001b[0;34m\u001b[0m\u001b[0;34m\u001b[0m\u001b[0m\n\u001b[1;32m      7\u001b[0m \u001b[0mX\u001b[0m \u001b[0;34m=\u001b[0m \u001b[0mseries\u001b[0m\u001b[0;34m.\u001b[0m\u001b[0mvalues\u001b[0m\u001b[0;34m\u001b[0m\u001b[0;34m\u001b[0m\u001b[0m\n\u001b[0;32m----> 8\u001b[0;31m \u001b[0mX\u001b[0m \u001b[0;34m=\u001b[0m \u001b[0mX\u001b[0m\u001b[0;34m.\u001b[0m\u001b[0mastype\u001b[0m\u001b[0;34m(\u001b[0m\u001b[0;34m'float32'\u001b[0m\u001b[0;34m)\u001b[0m\u001b[0;34m\u001b[0m\u001b[0;34m\u001b[0m\u001b[0m\n\u001b[0m\u001b[1;32m      9\u001b[0m \u001b[0mtransformed\u001b[0m\u001b[0;34m,\u001b[0m \u001b[0mlam\u001b[0m \u001b[0;34m=\u001b[0m \u001b[0mboxcox\u001b[0m\u001b[0;34m(\u001b[0m\u001b[0mX\u001b[0m\u001b[0;34m)\u001b[0m\u001b[0;34m\u001b[0m\u001b[0;34m\u001b[0m\u001b[0m\n\u001b[1;32m     10\u001b[0m \u001b[0mprint\u001b[0m\u001b[0;34m(\u001b[0m\u001b[0;34m'Lambda: %f'\u001b[0m \u001b[0;34m%\u001b[0m \u001b[0mlam\u001b[0m\u001b[0;34m)\u001b[0m\u001b[0;34m\u001b[0m\u001b[0;34m\u001b[0m\u001b[0m\n",
      "\u001b[0;31mValueError\u001b[0m: could not convert string to float: 'Robberies'"
     ]
    }
   ],
   "source": [
    "# plots of box-cox transformed dataset\n",
    "from pandas import read_csv\n",
    "from scipy.stats import boxcox\n",
    "from matplotlib import pyplot\n",
    "from statsmodels.graphics.gofplots import qqplot\n",
    "series = read_csv('robberies.csv', header=None, index_col=0, parse_dates=True, squeeze=True)\n",
    "X = series.values\n",
    "X = X.astype('float32')\n",
    "transformed, lam = boxcox(X)\n",
    "print('Lambda: %f' % lam)\n",
    "pyplot.figure(1)\n",
    "# line plot\n",
    "pyplot.subplot(311)\n",
    "pyplot.plot(transformed)\n",
    "# histogram\n",
    "pyplot.subplot(312)\n",
    "pyplot.hist(transformed)\n",
    "# q-q plot\n",
    "pyplot.subplot(313)\n",
    "qqplot(transformed, line='r', ax=pyplot.gca())\n",
    "pyplot.show()"
   ]
  },
  {
   "cell_type": "markdown",
   "metadata": {},
   "source": [
    "Running the example creates three graphs: a line chart of the transformed time series, a histogram showing the distribution of transformed values, and a Q-Q plot showing how the distribution of values compared to an idealized Gaussian distribution. Some observations from these plots are follows:\n",
    "- The large fluctuations have been removed from the line plot of the time series.\n",
    "- The histogram shows a flatter or more uniform (well behaved) distribution of values.\n",
    "- The Q-Q plot is reasonable, but still not a perfect fit for a Gaussian distribution."
   ]
  },
  {
   "cell_type": "markdown",
   "metadata": {},
   "source": [
    "Undoubtedly, the Box-Cox transform has done something to the time series and may be useful. Before proceeding to test the ARIMA model with the transformed data, we must have a way to reverse the transform in order to convert predictions made with a model trained on the transformed data back into the original scale. The `boxcox()` function used in the example finds an ideal `lambda` value by optimizing a cost function. The `lambda` is used in the following function to transform the data:\n",
    "\n",
    "$$\n",
    "    transform= \n",
    "\\begin{cases}\n",
    "    \\log(x),& \\text{if } \\lambda=0\\\\\n",
    "    \\frac{x^\\lambda-1}{\\lambda},  & \\text{if } \\lambda \\neq 0\n",
    "\\end{cases}\n",
    "$$\n",
    "\n",
    "This transform function can be reversed directly, as follows:\n",
    "\n",
    "$$\n",
    "    x= \n",
    "\\begin{cases}\n",
    "    \\exp(transform),& \\text{if } \\lambda=0\\\\   \n",
    "   \\frac{\\exp(\\log(\\lambda \\times transform +1)) }{\\lambda},  & \\text{if } \\lambda \\neq 0\n",
    "\\end{cases}\n",
    "$$"
   ]
  },
  {
   "cell_type": "code",
   "execution_count": null,
   "metadata": {},
   "outputs": [],
   "source": [
    "# invert Box-Cox transform\n",
    "from math import log\n",
    "from math import exp\n",
    "def boxcox_inverse(value, lam):\n",
    "    if lam == 0:\n",
    "        return exp(value)\n",
    "    return exp(log(lam * value + 1) / lam)"
   ]
  },
  {
   "cell_type": "markdown",
   "metadata": {},
   "source": [
    "We can re-evaluate the `ARIMA(0,1,2)` model with the Box-Cox transform. This involves first transforming the history prior to fitting the ARIMA model, then inverting the transform on the prediction before storing it for later comparison with the expected values. The `boxcox()` function can fail. In practice, I have seen this and it appears to be signaled by a returned `lambda` value of less than -5. By convention, `lambda` values are evaluated between -5 and 5.\n",
    "A check is added for a `lambda` value less than -5, and if this the case, a `lambda` value of 1 is assumed and the raw history is used to fit the model. A `lambda` value of 1 is the same as no-transform and therefore the inverse transform has no effect. The complete example is listed below."
   ]
  },
  {
   "cell_type": "code",
   "execution_count": 25,
   "metadata": {},
   "outputs": [
    {
     "name": "stdout",
     "output_type": "stream",
     "text": [
      ">Predicted=349.341, Expected=487\n",
      "RMSE: 49.103\n"
     ]
    }
   ],
   "source": [
    "# evaluate ARIMA models with box-cox transformed time series\n",
    "from pandas import read_csv\n",
    "from sklearn.metrics import mean_squared_error\n",
    "from statsmodels.tsa.arima_model import ARIMA\n",
    "from math import sqrt\n",
    "from math import log\n",
    "from math import exp\n",
    "from scipy.stats import boxcox\n",
    "# invert box-cox transform\n",
    "def boxcox_inverse(value, lam):\n",
    "    if lam == 0:\n",
    "        return exp(value)\n",
    "    return exp(log(lam * value + 1) / lam)\n",
    "# load data\n",
    "series = read_csv('dataset.csv', header=None, index_col=0, parse_dates=True, squeeze=True)\n",
    "# prepare data\n",
    "X = series.values\n",
    "X = X.astype('float32')\n",
    "train_size = int(len(X) * 0.50)\n",
    "train, test = X[0:train_size], X[train_size:]\n",
    "# walk-forward validation\n",
    "history = [x for x in train]\n",
    "predictions = list()\n",
    "for i in range(len(test)):\n",
    "  # transform\n",
    "    transformed, lam = boxcox(history)\n",
    "    if lam < -5:\n",
    "        transformed, lam = history, 1\n",
    "  # predict\n",
    "    model = ARIMA(transformed, order=(0,1,2))\n",
    "    model_fit = model.fit(disp=0)\n",
    "    yhat = model_fit.forecast()[0]\n",
    "    # invert transformed prediction\n",
    "    yhat = boxcox_inverse(yhat, lam) \n",
    "    predictions.append(yhat)\n",
    "    # observation\n",
    "    obs = test[i]\n",
    "    history.append(obs)\n",
    "print('>Predicted=%.3f, Expected=%3.f' % (yhat, obs))\n",
    "# report performance\n",
    "rmse = sqrt(mean_squared_error(test, predictions)) \n",
    "print('RMSE: %.3f' % rmse)\n",
    "                                           "
   ]
  },
  {
   "cell_type": "markdown",
   "metadata": {},
   "source": [
    "### Model Validation"
   ]
  },
  {
   "cell_type": "markdown",
   "metadata": {},
   "source": [
    "#### Finalize Model\n",
    "Finalizing the model involves fitting an ARIMA model on the entire dataset, in this case, on a transformed version of the entire dataset. Once fit, the model can be saved to file for later use. Because a Box-Cox transform is also performed on the data, we need to know the chosen `lambda` so that any predictions from the model can be converted back to the original, untransformed scale. The example below fits an `ARIMA(0,1,2)` model on the Box-Cox transform dataset and saves the whole fit object and the `lambda` value to file."
   ]
  },
  {
   "cell_type": "code",
   "execution_count": 7,
   "metadata": {},
   "outputs": [
    {
     "name": "stderr",
     "output_type": "stream",
     "text": [
      "/Users/gceran/opt/anaconda3/lib/python3.7/site-packages/numpy/core/_methods.py:195: RuntimeWarning: overflow encountered in multiply\n",
      "  x = um.multiply(x, x, out=x)\n"
     ]
    }
   ],
   "source": [
    "# finalize model and save to file with workaround\n",
    "from pandas import read_csv\n",
    "from statsmodels.tsa.arima_model import ARIMA\n",
    "from scipy.stats import boxcox\n",
    "import numpy\n",
    "# monkey patch around bug in ARIMA class\n",
    "def __getnewargs__(self):\n",
    "    return ((self.endog),(self.k_lags, self.k_diff, self.k_ma))\n",
    "ARIMA.__getnewargs__ = __getnewargs__\n",
    "# load data\n",
    "series = read_csv('dataset.csv', header=None, index_col=0, parse_dates=True, squeeze=True)\n",
    "# prepare data\n",
    "X = series.values\n",
    "X = X.astype('float32')\n",
    "# transform data\n",
    "transformed, lam = boxcox(X)\n",
    "# fit model\n",
    "model = ARIMA(transformed, order=(0,1,2))\n",
    "model_fit = model.fit(disp=0)\n",
    "# save model\n",
    "model_fit.save('model.pkl') \n",
    "numpy.save('model_lambda.npy', [lam])"
   ]
  },
  {
   "cell_type": "markdown",
   "metadata": {},
   "source": [
    "#### Make Prediction\n",
    "A natural case may be to load the model and make a single forecast. This is relatively straight- forward and involves restoring the saved model and the `lambda` and calling the `forecast()` function. The example below loads the model, makes a prediction for the next time step, inverses the Box-Cox transform, and prints the prediction."
   ]
  },
  {
   "cell_type": "code",
   "execution_count": 8,
   "metadata": {},
   "outputs": [
    {
     "name": "stdout",
     "output_type": "stream",
     "text": [
      "Predicted: 452.039\n"
     ]
    }
   ],
   "source": [
    "# load the finalized model and make a prediction\n",
    "from statsmodels.tsa.arima_model import ARIMAResults\n",
    "from math import exp\n",
    "from math import log\n",
    "import numpy\n",
    "# invert box-cox transform\n",
    "def boxcox_inverse(value, lam):\n",
    "    if lam == 0:\n",
    "        return exp(value)\n",
    "    return exp(log(lam * value + 1) / lam)\n",
    "model_fit = ARIMAResults.load('model.pkl') \n",
    "lam = numpy.load('model_lambda.npy')\n",
    "yhat = model_fit.forecast()[0]\n",
    "yhat = boxcox_inverse(yhat, lam) \n",
    "print('Predicted: %.3f' % yhat)"
   ]
  },
  {
   "cell_type": "markdown",
   "metadata": {},
   "source": [
    "#### Validate Model\n",
    "We can load the model and use it in a pretend operational manner. In the test harness section, we saved the final 12 months of the original dataset in a separate file to validate the final model. We can load this `validation.csv` file now and use it see how well our model really is on unseen data."
   ]
  },
  {
   "cell_type": "code",
   "execution_count": 10,
   "metadata": {},
   "outputs": [
    {
     "name": "stdout",
     "output_type": "stream",
     "text": [
      ">Predicted=452.039, Expected=452\n",
      "(array([14.33244655]), array([0.67380751]), array([[13.01180811, 15.653085  ]]))\n",
      "[14.33244655]\n",
      ">Predicted=423.097, Expected=391\n",
      "(array([14.49298543]), array([0.69200356]), array([[13.13668337, 15.84928749]]))\n",
      "[14.49298543]\n",
      ">Predicted=408.375, Expected=500\n"
     ]
    },
    {
     "name": "stderr",
     "output_type": "stream",
     "text": [
      "/Users/gceran/opt/anaconda3/lib/python3.7/site-packages/numpy/core/_methods.py:195: RuntimeWarning: overflow encountered in multiply\n",
      "  x = um.multiply(x, x, out=x)\n"
     ]
    },
    {
     "name": "stdout",
     "output_type": "stream",
     "text": [
      "(array([14.57855271]), array([0.65257877]), array([[13.29952181, 15.8575836 ]]))\n",
      "[14.57855271]\n",
      ">Predicted=482.456, Expected=451\n",
      "(array([14.19312586]), array([0.64853986]), array([[12.92201108, 15.46424063]]))\n",
      "[14.19312586]\n",
      ">Predicted=445.943, Expected=375\n",
      "(array([14.32816746]), array([0.67900109]), array([[12.99734978, 15.65898514]]))\n",
      "[14.32816746]\n",
      ">Predicted=413.894, Expected=372\n",
      "(array([14.88447332]), array([0.71358537]), array([[13.4858717 , 16.28307493]]))\n",
      "[14.88447332]\n",
      ">Predicted=413.210, Expected=302\n",
      "(array([14.85440397]), array([0.77457829]), array([[13.33625842, 16.37254952]]))\n",
      "[14.85440397]\n",
      ">Predicted=355.157, Expected=316\n",
      "(array([15.72733595]), array([0.82692287]), array([[14.1065969 , 17.34807499]]))\n",
      "[15.72733595]\n",
      ">Predicted=363.514, Expected=398\n",
      "(array([16.83434305]), array([0.8562023]), array([[15.15621737, 18.51246872]]))\n",
      "[16.83434305]\n",
      ">Predicted=406.362, Expected=394\n",
      "(array([17.2039821]), array([0.89071263]), array([[15.45821742, 18.94974677]]))\n",
      "[17.2039821]\n",
      ">Predicted=394.186, Expected=431\n",
      "(array([18.02749313]), array([0.90775503]), array([[16.24832597, 19.80666029]]))\n",
      "[18.02749313]\n",
      ">Predicted=428.175, Expected=431\n",
      "RMSE: 53.079\n"
     ]
    },
    {
     "data": {
      "image/png": "[encoded data removed]",
      "text/plain": [
       "<Figure size 432x288 with 1 Axes>"
      ]
     },
     "metadata": {
      "needs_background": "light"
     },
     "output_type": "display_data"
    }
   ],
   "source": [
    "# evaluate the finalized model on the validation dataset\n",
    "from pandas import read_csv\n",
    "from matplotlib import pyplot\n",
    "from statsmodels.tsa.arima_model import ARIMA\n",
    "from statsmodels.tsa.arima_model import ARIMAResults\n",
    "from scipy.stats import boxcox\n",
    "from sklearn.metrics import mean_squared_error\n",
    "from math import sqrt\n",
    "from math import exp\n",
    "from math import log\n",
    "import numpy\n",
    "# invert box-cox transform\n",
    "def boxcox_inverse(value, lam):\n",
    "    if lam == 0:\n",
    "        return exp(value)\n",
    "    return exp(log(lam * value + 1) / lam)\n",
    "# load and prepare datasets\n",
    "dataset = read_csv('dataset.csv', header=None, index_col=0, parse_dates=True, squeeze=True) \n",
    "X = dataset.values.astype('float32')\n",
    "history = [x for x in X]\n",
    "validation = read_csv('validation.csv', header=None, index_col=0, parse_dates=True,\n",
    "squeeze=True)\n",
    "y = validation.values.astype('float32')\n",
    "# load model\n",
    "model_fit = ARIMAResults.load('model.pkl')\n",
    "lam = numpy.load('model_lambda.npy')\n",
    "# make first prediction\n",
    "predictions = list()\n",
    "yhat = model_fit.forecast()[0]\n",
    "yhat = boxcox_inverse(yhat, lam) \n",
    "predictions.append(yhat)\n",
    "history.append(y[0])\n",
    "print('>Predicted=%.3f, Expected=%3.f' % (yhat, y[0]))\n",
    "# rolling forecasts\n",
    "for i in range(1, len(y)):\n",
    "    # transform\n",
    "    transformed, lam = boxcox(history)\n",
    "    if lam < -5:\n",
    "        transformed, lam = history, 1\n",
    "    # predict\n",
    "    model = ARIMA(transformed, order=(0,1,2))\n",
    "    model_fit = model.fit(disp=0)\n",
    "    print(model_fit.forecast())\n",
    "    yhat = model_fit.forecast()[0]\n",
    "    print(yhat)\n",
    "    # invert transformed prediction\n",
    "    yhat = boxcox_inverse(yhat, lam)\n",
    "    predictions.append(yhat)\n",
    "    # observation\n",
    "    obs = y[i]\n",
    "    history.append(obs)\n",
    "    print('>Predicted=%.3f, Expected=%3.f' % (yhat, obs))\n",
    "# report performance\n",
    "rmse = sqrt(mean_squared_error(y, predictions))\n",
    "print('RMSE: %.3f' % rmse)\n",
    "pyplot.plot(y)\n",
    "pyplot.plot(predictions, color='red')\n",
    "pyplot.show()"
   ]
  },
  {
   "cell_type": "code",
   "execution_count": null,
   "metadata": {},
   "outputs": [],
   "source": []
  }
 ],
 "metadata": {
  "kernelspec": {
   "display_name": "Python 3",
   "language": "python",
   "name": "python3"
  },
  "language_info": {
   "codemirror_mode": {
    "name": "ipython",
    "version": 3
   },
   "file_extension": ".py",
   "mimetype": "text/x-python",
   "name": "python",
   "nbconvert_exporter": "python",
   "pygments_lexer": "ipython3",
   "version": "3.7.4"
  }
 },
 "nbformat": 4,
 "nbformat_minor": 2
}
