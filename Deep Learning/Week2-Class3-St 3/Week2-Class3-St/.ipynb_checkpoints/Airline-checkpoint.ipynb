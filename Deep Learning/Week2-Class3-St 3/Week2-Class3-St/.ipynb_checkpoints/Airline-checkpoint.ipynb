{
 "cells": [
  {
   "cell_type": "markdown",
   "metadata": {},
   "source": [
    "### 1. Problem Description\n",
    "\n",
    "The problem we are going to look at in this lesson is the international airline passengers prediction problem. This is a problem where given a year and a month, the task is to predict the number of international airline passengers in units of 1,000. The data ranges from January 1949 to December 1960 or 12 years, with 144 observations."
   ]
  },
  {
   "cell_type": "code",
   "execution_count": null,
   "metadata": {},
   "outputs": [],
   "source": []
  },
  {
   "cell_type": "code",
   "execution_count": 3,
   "metadata": {},
   "outputs": [],
   "source": [
    "# load and plot a time series\n",
    "from pandas import read_csv\n",
    "from matplotlib import pyplot\n",
    "series = read_csv('airline-passengers.csv', header=0, index_col=0, parse_dates=True,\n",
    "    squeeze=True)\n"
   ]
  },
  {
   "cell_type": "markdown",
   "metadata": {},
   "source": [
    "Running the example creates two plots, the first showing the time series as a line plot and\n",
    "the second showing the observations as a histogram."
   ]
  },
  {
   "cell_type": "markdown",
   "metadata": {},
   "source": [
    "The dataset is non-stationary, meaning that the mean and the variance of the observations change over time. This makes it difficult to model by both classical statistical methods, like ARIMA, and more sophisticated machine learning methods, like neural networks. This is caused by what appears to be both an increasing trend and a seasonality component.\n",
    "In addition, the amount of change, or the variance, is increasing with time. This is clear when you look at the size of the seasonal component and notice that from one cycle to the next, the amplitude (from bottom to top of the cycle) is increasing."
   ]
  },
  {
   "cell_type": "code",
   "execution_count": 22,
   "metadata": {},
   "outputs": [],
   "source": [
    "X = series.values\n",
    "X = X.astype('float32')\n",
    "train_size = int(len(X) * 0.50)\n",
    "train, test = X[0:train_size], X[train_size:]"
   ]
  },
  {
   "cell_type": "code",
   "execution_count": 23,
   "metadata": {},
   "outputs": [
    {
     "name": "stdout",
     "output_type": "stream",
     "text": [
      ">Predicted=229.000, Expected=242\n",
      ">Predicted=242.000, Expected=233\n",
      ">Predicted=233.000, Expected=267\n",
      ">Predicted=267.000, Expected=269\n",
      ">Predicted=269.000, Expected=270\n",
      ">Predicted=270.000, Expected=315\n",
      ">Predicted=315.000, Expected=364\n",
      ">Predicted=364.000, Expected=347\n",
      ">Predicted=347.000, Expected=312\n",
      ">Predicted=312.000, Expected=274\n",
      ">Predicted=274.000, Expected=237\n",
      ">Predicted=237.000, Expected=278\n",
      ">Predicted=278.000, Expected=284\n",
      ">Predicted=284.000, Expected=277\n",
      ">Predicted=277.000, Expected=317\n",
      ">Predicted=317.000, Expected=313\n",
      ">Predicted=313.000, Expected=318\n",
      ">Predicted=318.000, Expected=374\n",
      ">Predicted=374.000, Expected=413\n",
      ">Predicted=413.000, Expected=405\n",
      ">Predicted=405.000, Expected=355\n",
      ">Predicted=355.000, Expected=306\n",
      ">Predicted=306.000, Expected=271\n",
      ">Predicted=271.000, Expected=306\n",
      ">Predicted=306.000, Expected=315\n",
      ">Predicted=315.000, Expected=301\n",
      ">Predicted=301.000, Expected=356\n",
      ">Predicted=356.000, Expected=348\n",
      ">Predicted=348.000, Expected=355\n",
      ">Predicted=355.000, Expected=422\n",
      ">Predicted=422.000, Expected=465\n",
      ">Predicted=465.000, Expected=467\n",
      ">Predicted=467.000, Expected=404\n",
      ">Predicted=404.000, Expected=347\n",
      ">Predicted=347.000, Expected=305\n",
      ">Predicted=305.000, Expected=336\n",
      ">Predicted=336.000, Expected=340\n",
      ">Predicted=340.000, Expected=318\n",
      ">Predicted=318.000, Expected=362\n",
      ">Predicted=362.000, Expected=348\n",
      ">Predicted=348.000, Expected=363\n",
      ">Predicted=363.000, Expected=435\n",
      ">Predicted=435.000, Expected=491\n",
      ">Predicted=491.000, Expected=505\n",
      ">Predicted=505.000, Expected=404\n",
      ">Predicted=404.000, Expected=359\n",
      ">Predicted=359.000, Expected=310\n",
      ">Predicted=310.000, Expected=337\n",
      ">Predicted=337.000, Expected=360\n",
      ">Predicted=360.000, Expected=342\n",
      ">Predicted=342.000, Expected=406\n",
      ">Predicted=406.000, Expected=396\n",
      ">Predicted=396.000, Expected=420\n",
      ">Predicted=420.000, Expected=472\n",
      ">Predicted=472.000, Expected=548\n",
      ">Predicted=548.000, Expected=559\n",
      ">Predicted=559.000, Expected=463\n",
      ">Predicted=463.000, Expected=407\n",
      ">Predicted=407.000, Expected=362\n",
      ">Predicted=362.000, Expected=405\n",
      ">Predicted=405.000, Expected=417\n",
      ">Predicted=417.000, Expected=391\n",
      ">Predicted=391.000, Expected=419\n",
      ">Predicted=419.000, Expected=461\n",
      ">Predicted=461.000, Expected=472\n",
      ">Predicted=472.000, Expected=535\n",
      ">Predicted=535.000, Expected=622\n",
      ">Predicted=622.000, Expected=606\n",
      ">Predicted=606.000, Expected=508\n",
      ">Predicted=508.000, Expected=461\n",
      ">Predicted=461.000, Expected=390\n",
      ">Predicted=390.000, Expected=432\n",
      "RMSE: 43.529\n"
     ]
    }
   ],
   "source": [
    "# evaluate a persistence model\n",
    "\n",
    "from sklearn.metrics import mean_squared_error\n",
    "from math import sqrt\n",
    "\n",
    "# walk-forward validation\n",
    "history = [x for x in train]\n",
    "predictions = list()\n",
    "for i in range(len(test)):\n",
    "   # predict\n",
    "    yhat = history[-1]\n",
    "    predictions.append(yhat)\n",
    "    # observation\n",
    "    obs = test[i]\n",
    "    history.append(obs)\n",
    "    print('>Predicted=%.3f, Expected=%3.f' % (yhat, obs))\n",
    "# report performance\n",
    "rmse = sqrt(mean_squared_error(test, predictions))\n",
    "print('RMSE: %.3f' % rmse)"
   ]
  },
  {
   "cell_type": "markdown",
   "metadata": {},
   "source": [
    "### Data Analysis"
   ]
  },
  {
   "cell_type": "code",
   "execution_count": 24,
   "metadata": {},
   "outputs": [
    {
     "name": "stdout",
     "output_type": "stream",
     "text": [
      "count    144.000000\n",
      "mean     280.298611\n",
      "std      119.966317\n",
      "min      104.000000\n",
      "25%      180.000000\n",
      "50%      265.500000\n",
      "75%      360.500000\n",
      "max      622.000000\n",
      "Name: Passengers, dtype: float64\n"
     ]
    }
   ],
   "source": [
    "print(series.describe())"
   ]
  },
  {
   "cell_type": "code",
   "execution_count": 25,
   "metadata": {},
   "outputs": [
    {
     "name": "stdout",
     "output_type": "stream",
     "text": [
      "<class 'pandas.core.series.Series'>\n",
      "Month\n",
      "1949-01-01    112\n",
      "1949-02-01    118\n",
      "1949-03-01    132\n",
      "1949-04-01    129\n",
      "1949-05-01    121\n",
      "Name: Passengers, dtype: int64\n"
     ]
    },
    {
     "data": {
      "image/png": "[encoded data removed]",
      "text/plain": [
       "<Figure size 432x288 with 3 Axes>"
      ]
     },
     "metadata": {
      "needs_background": "light"
     },
     "output_type": "display_data"
    }
   ],
   "source": [
    "print(type(series))\n",
    "print(series.head())\n",
    "pyplot.figure(1)\n",
    "# line plot\n",
    "pyplot.subplot(311)\n",
    "pyplot.plot(series)\n",
    "# histogram\n",
    "pyplot.subplot(312)\n",
    "pyplot.hist(series)\n",
    "pyplot.subplot(313)\n",
    "series.plot(kind='kde')\n",
    "pyplot.show()\n",
    "pyplot.show()"
   ]
  },
  {
   "cell_type": "markdown",
   "metadata": {},
   "source": [
    "The dataset is non-stationary, meaning that the mean and the variance of the observations change over time. This makes it difficult to model by both classical statistical methods, like ARIMA, and more sophisticated machine learning methods, like neural networks. This is caused by what appears to be both an increasing trend and a seasonality component.\n",
    "In addition, the amount of change, or the variance, is increasing with time. This is clear when you look at the size of the seasonal component and notice that from one cycle to the next, the amplitude (from bottom to top of the cycle) is increasing."
   ]
  },
  {
   "cell_type": "markdown",
   "metadata": {},
   "source": [
    "It is possible that the Airline Passengers dataset shows a quadratic growth. If this is the case, then we could expect a square root transform to reduce the growth trend to be linear and change the distribution of observations to be perhaps nearly Gaussian. Below we perform a square root of the dataset and plot the results."
   ]
  },
  {
   "cell_type": "code",
   "execution_count": 28,
   "metadata": {},
   "outputs": [
    {
     "data": {
      "image/png": "[encoded data removed]",
      "text/plain": [
       "<Figure size 432x288 with 2 Axes>"
      ]
     },
     "metadata": {
      "needs_background": "light"
     },
     "output_type": "display_data"
    }
   ],
   "source": [
    "from numpy import sqrt\n",
    "dataframe = DataFrame(X)\n",
    "dataframe.columns = ['passengers'] \n",
    "dataframe['passengers'] = sqrt(dataframe['passengers']) \n",
    "pyplot.figure(1)\n",
    "# line plot\n",
    "pyplot.subplot(211) \n",
    "pyplot.plot(dataframe['passengers'])\n",
    "# histogram\n",
    "pyplot.subplot(212) \n",
    "pyplot.hist(dataframe['passengers'])\n",
    "pyplot.show()"
   ]
  },
  {
   "cell_type": "markdown",
   "metadata": {},
   "source": [
    "We can see that the trend was reduced, but was not removed. The line plot still shows an increasing variance from cycle to cycle. The histogram still shows a long tail to the right of the distribution, suggesting an exponential or long-tail distribution."
   ]
  },
  {
   "cell_type": "code",
   "execution_count": 29,
   "metadata": {},
   "outputs": [
    {
     "data": {
      "image/png": "[encoded data removed]",
      "text/plain": [
       "<Figure size 432x288 with 2 Axes>"
      ]
     },
     "metadata": {
      "needs_background": "light"
     },
     "output_type": "display_data"
    }
   ],
   "source": [
    "from numpy import log\n",
    "\n",
    "dataframe = DataFrame(X)\n",
    "dataframe.columns = ['passengers'] \n",
    "dataframe['passengers'] = log(dataframe['passengers']) \n",
    "pyplot.figure(1)\n",
    "# line plot\n",
    "pyplot.subplot(211)\n",
    "pyplot.plot(dataframe['passengers']) \n",
    "# histogram\n",
    "pyplot.subplot(212) \n",
    "pyplot.hist(dataframe['passengers']) \n",
    "pyplot.show()"
   ]
  },
  {
   "cell_type": "markdown",
   "metadata": {},
   "source": [
    "Running the example results in a trend that does look a lot more linear than the square root transform above. The line plot shows a seemingly linear growth and variance. The histogram also shows a more uniform or squashed Gaussian-like distribution of observations."
   ]
  },
  {
   "cell_type": "code",
   "execution_count": 30,
   "metadata": {},
   "outputs": [
    {
     "ename": "TypeError",
     "evalue": "slice indices must be integers or None or have an __index__ method",
     "output_type": "error",
     "traceback": [
      "\u001b[0;31m---------------------------------------------------------------------------\u001b[0m",
      "\u001b[0;31mTypeError\u001b[0m                                 Traceback (most recent call last)",
      "\u001b[0;32m<ipython-input-30-3399b68a8738>\u001b[0m in \u001b[0;36m<module>\u001b[0;34m\u001b[0m\n\u001b[1;32m      3\u001b[0m \u001b[0;32mfrom\u001b[0m \u001b[0mpandas\u001b[0m \u001b[0;32mimport\u001b[0m \u001b[0mGrouper\u001b[0m\u001b[0;34m\u001b[0m\u001b[0;34m\u001b[0m\u001b[0m\n\u001b[1;32m      4\u001b[0m \u001b[0;32mfrom\u001b[0m \u001b[0mmatplotlib\u001b[0m \u001b[0;32mimport\u001b[0m \u001b[0mpyplot\u001b[0m\u001b[0;34m\u001b[0m\u001b[0;34m\u001b[0m\u001b[0m\n\u001b[0;32m----> 5\u001b[0;31m \u001b[0mgroups\u001b[0m \u001b[0;34m=\u001b[0m \u001b[0mX\u001b[0m\u001b[0;34m[\u001b[0m\u001b[0;34m'1949'\u001b[0m\u001b[0;34m:\u001b[0m\u001b[0;34m'1960'\u001b[0m\u001b[0;34m]\u001b[0m\u001b[0;34m.\u001b[0m\u001b[0mgroupby\u001b[0m\u001b[0;34m(\u001b[0m\u001b[0mGrouper\u001b[0m\u001b[0;34m(\u001b[0m\u001b[0mfreq\u001b[0m\u001b[0;34m=\u001b[0m\u001b[0;34m'A'\u001b[0m\u001b[0;34m)\u001b[0m\u001b[0;34m)\u001b[0m\u001b[0;34m\u001b[0m\u001b[0;34m\u001b[0m\u001b[0m\n\u001b[0m\u001b[1;32m      6\u001b[0m \u001b[0myears\u001b[0m \u001b[0;34m=\u001b[0m \u001b[0mDataFrame\u001b[0m\u001b[0;34m(\u001b[0m\u001b[0;34m)\u001b[0m\u001b[0;34m\u001b[0m\u001b[0;34m\u001b[0m\u001b[0m\n\u001b[1;32m      7\u001b[0m \u001b[0;32mfor\u001b[0m \u001b[0mname\u001b[0m\u001b[0;34m,\u001b[0m \u001b[0mgroup\u001b[0m \u001b[0;32min\u001b[0m \u001b[0mgroups\u001b[0m\u001b[0;34m:\u001b[0m\u001b[0;34m\u001b[0m\u001b[0;34m\u001b[0m\u001b[0m\n",
      "\u001b[0;31mTypeError\u001b[0m: slice indices must be integers or None or have an __index__ method"
     ]
    }
   ],
   "source": [
    "# boxplots of time series\n",
    "from pandas import DataFrame\n",
    "from pandas import Grouper\n",
    "from matplotlib import pyplot\n",
    "groups = series['1949':'1960'].groupby(Grouper(freq='A'))\n",
    "years = DataFrame()\n",
    "for name, group in groups:\n",
    "    years[name.year] = group.values\n",
    "years.boxplot()\n",
    "pyplot.show()"
   ]
  },
  {
   "cell_type": "markdown",
   "metadata": {},
   "source": [
    "- The median values for each year (green line) show a trend that may be linear.\n",
    "- The spread, or middle 50% of the data (blue boxes), differ, but perhaps not consistently over time.\n",
    "- The earlier years, perhaps first 2-4, are quite different from the rest of the dataset."
   ]
  },
  {
   "cell_type": "markdown",
   "metadata": {},
   "source": [
    "### ARIMA Models\n",
    "Nonseasonal `ARIMA(p,d,q)` requires three parameters and is traditionally configured manually. Analysis of the time series data assumes that we are working with a stationary time series. The time series is almost certainly non-stationary. We can make it stationary by first differencing the series and using a statistical test to confirm that the result is stationary. The example below creates a stationary version of the series and saves it to file `stationary_airline.csv`."
   ]
  },
  {
   "cell_type": "code",
   "execution_count": 12,
   "metadata": {},
   "outputs": [
    {
     "name": "stdout",
     "output_type": "stream",
     "text": [
      "ADF Statistic: -2.829267\n",
      "p-value: 0.054213\n",
      "Critical Values:\n",
      "\t1%: -3.482\n",
      "\t5%: -2.884\n",
      "\t10%: -2.579\n"
     ]
    },
    {
     "name": "stderr",
     "output_type": "stream",
     "text": [
      "/Users/gceran/opt/anaconda3/lib/python3.7/site-packages/ipykernel_launcher.py:22: FutureWarning: The signature of `Series.to_csv` was aligned to that of `DataFrame.to_csv`, and argument 'header' will change its default value from False to True: please pass an explicit value to suppress this warning.\n"
     ]
    }
   ],
   "source": [
    "from pandas import Series\n",
    "from statsmodels.tsa.stattools import adfuller\n",
    "# create a differenced time series\n",
    "def difference(dataset):\n",
    "    diff = list()\n",
    "    for i in range(1, len(dataset)):\n",
    "        value = dataset[i] - dataset[i - 1]\n",
    "        diff.append(value)\n",
    "    return Series(diff)\n",
    "X=series.values\n",
    "# difference data\n",
    "stationary = difference(X)\n",
    "stationary.index = series.index[1:]\n",
    "# check if stationary\n",
    "result = adfuller(stationary) \n",
    "print('ADF Statistic: %f' % result[0])\n",
    "print('p-value: %f' % result[1]) \n",
    "print('Critical Values:')\n",
    "for key, value in result[4].items():\n",
    "    print('\\t%s: %.3f' % (key, value))\n",
    "# save\n",
    "stationary.to_csv('stationary_airline.csv')"
   ]
  },
  {
   "cell_type": "markdown",
   "metadata": {},
   "source": [
    "Running the example outputs the result of a statistical significance test of whether the 1-lag differenced series is stationary. Specifically, the augmented Dickey-Fuller test. The results show that the test statistic value -2.829267 is sligtly smaller than the critical value at 5% of -2.884. This suggests that we can reject the null hypothesis with a significance level of less than 5% (i.e. a low probability that the result is a statistical fluke). Rejecting the null hypothesis means that the process has no unit root, and in turn that the 1-lag differenced time series is stationary or does not have time-dependent structure."
   ]
  },
  {
   "cell_type": "markdown",
   "metadata": {},
   "source": [
    "This suggests that at least one level of differencing is required. The `d` parameter in our ARIMA model should at least be a value of `1`. The next step is to select the lag values for the Autoregression (AR) and Moving Average (MA) parameters, `p` and `q` respectively. We can do this by reviewing Autocorrelation Function (ACF) and Partial Autocorrelation Function (PACF) plots. The example below creates ACF and PACF plots for the series."
   ]
  },
  {
   "cell_type": "code",
   "execution_count": 14,
   "metadata": {},
   "outputs": [
    {
     "data": {
      "image/png": "[encoded data removed]",
      "text/plain": [
       "<Figure size 432x288 with 2 Axes>"
      ]
     },
     "metadata": {
      "needs_background": "light"
     },
     "output_type": "display_data"
    }
   ],
   "source": [
    "# ACF and PACF plots of time series\n",
    "from statsmodels.graphics.tsaplots import plot_acf\n",
    "from statsmodels.graphics.tsaplots import plot_pacf\n",
    "from matplotlib import pyplot\n",
    "pyplot.subplot(211)\n",
    "plot_acf(series, lags=12, ax=pyplot.gca())\n",
    "pyplot.subplot(212)\n",
    "plot_pacf(series, lags=12, ax=pyplot.gca())\n",
    "pyplot.show()"
   ]
  },
  {
   "cell_type": "markdown",
   "metadata": {},
   "source": [
    "Run the example and review the plots for insights into how to set the `p` and `q` variables for the ARIMA model. Below are some observations from the plots.\n",
    "- The ACF shows a significant lag for 10-11 months.\n",
    "- The PACF shows a significant lag for perhaps 2 months.\n",
    "- Both the ACF and PACF show a drop-off at the same point, perhaps suggesting a mix of AR and MA.\n"
   ]
  }
 ],
 "metadata": {
  "kernelspec": {
   "display_name": "Python 3",
   "language": "python",
   "name": "python3"
  },
  "language_info": {
   "codemirror_mode": {
    "name": "ipython",
    "version": 3
   },
   "file_extension": ".py",
   "mimetype": "text/x-python",
   "name": "python",
   "nbconvert_exporter": "python",
   "pygments_lexer": "ipython3",
   "version": "3.7.4"
  }
 },
 "nbformat": 4,
 "nbformat_minor": 2
}
