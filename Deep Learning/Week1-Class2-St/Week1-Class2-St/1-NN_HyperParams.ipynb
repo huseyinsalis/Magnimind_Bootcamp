{
 "cells": [
  {
   "cell_type": "markdown",
   "metadata": {
    "colab_type": "text",
    "id": "O6bAYTDQvA9E"
   },
   "source": [
    "# MLP Neural Network"
   ]
  },
  {
   "cell_type": "markdown",
   "metadata": {},
   "source": [
    "1. Import the relevant packages and dataset, and visualize the input dataset"
   ]
  },
  {
   "cell_type": "code",
   "execution_count": 3,
   "metadata": {
    "colab": {
     "base_uri": "https://localhost:8080/",
     "height": 68
    },
    "colab_type": "code",
    "id": "Ofc-wXYMESXW",
    "outputId": "327e4526-e5e4-42c3-88ad-613a5bf729f4"
   },
   "outputs": [],
   "source": [
    "from keras.datasets import mnist\n",
    "import numpy\n",
    "from keras.datasets import mnist\n",
    "from keras.models import Sequential\n",
    "from keras.layers import Dense\n",
    "from keras.layers import Dropout\n",
    "from keras.utils import np_utils\n",
    "(X_train, y_train), (X_test, y_test) = mnist.load_data()"
   ]
  },
  {
   "cell_type": "markdown",
   "metadata": {},
   "source": [
    "The MNIST dataset contains images of digits where the images are of 28 x 28 in shape. Let's plot a few images to see what they will look like in the code here"
   ]
  },
  {
   "cell_type": "code",
   "execution_count": 2,
   "metadata": {},
   "outputs": [
    {
     "data": {
      "image/png": "[encoded data removed]",
      "text/plain": [
       "<Figure size 432x288 with 4 Axes>"
      ]
     },
     "metadata": {
      "needs_background": "light"
     },
     "output_type": "display_data"
    }
   ],
   "source": [
    "import matplotlib.pyplot as plt\n",
    "%matplotlib inline\n",
    "plt.subplot(221)\n",
    "plt.imshow(X_train[0], cmap=plt.get_cmap('gray'))\n",
    "plt.grid(False)\n",
    "plt.subplot(222)\n",
    "plt.imshow(X_train[1], cmap=plt.get_cmap('gray'))\n",
    "plt.grid(False)\n",
    "plt.subplot(223)\n",
    "plt.imshow(X_train[2], cmap=plt.get_cmap('gray'))\n",
    "plt.grid(False)\n",
    "plt.subplot(224)\n",
    "plt.imshow(X_train[3], cmap=plt.get_cmap('gray'))\n",
    "plt.grid(False)\n",
    "plt.show()"
   ]
  },
  {
   "cell_type": "markdown",
   "metadata": {},
   "source": [
    "2. Flatten the 28 x 28 images so that the input is all the 784 pixel values. Additionally, one-hot encode the outputs. This step is key in the dataset preparation process:"
   ]
  },
  {
   "cell_type": "code",
   "execution_count": 6,
   "metadata": {
    "colab": {},
    "colab_type": "code",
    "id": "OxRIzZdKuizI"
   },
   "outputs": [],
   "source": [
    "num_pixels = X_train.shape[1] * X_train.shape[2]\n",
    "X_train = X_train.reshape(X_train.shape[0], num_pixels).astype('float32')\n",
    "X_test = X_test.reshape(X_test.shape[0], num_pixels).astype('float32')"
   ]
  },
  {
   "cell_type": "code",
   "execution_count": 7,
   "metadata": {},
   "outputs": [
    {
     "data": {
      "text/plain": [
       "(10000, 784)"
      ]
     },
     "execution_count": 7,
     "metadata": {},
     "output_type": "execute_result"
    }
   ],
   "source": [
    "X_test.shape"
   ]
  },
  {
   "cell_type": "markdown",
   "metadata": {},
   "source": [
    "3. In Keras, the one-hot encoding approach on top of labels is performed using the to_categorical method, which figures out the number of unique labels in the target data, and then converts them into a one-hot encoded vector."
   ]
  },
  {
   "cell_type": "code",
   "execution_count": 65,
   "metadata": {},
   "outputs": [
    {
     "name": "stdout",
     "output_type": "stream",
     "text": [
      "[2 1 0 4 1 4 9 5 9 0 6 9 0 1 5 9 7 3 4 9 6 6 5 4 0 7 4 0 1]\n"
     ]
    }
   ],
   "source": [
    "print(y_test[1:30])"
   ]
  },
  {
   "cell_type": "code",
   "execution_count": 66,
   "metadata": {},
   "outputs": [],
   "source": [
    "#enc = OneHotEncoder(categories='auto', sparse=False)\n",
    "#y_test = enc.fit_transform(y_test.reshape([-1, 1]))"
   ]
  },
  {
   "cell_type": "code",
   "execution_count": 67,
   "metadata": {
    "colab": {},
    "colab_type": "code",
    "id": "692WkaMoui3q"
   },
   "outputs": [],
   "source": [
    "y_train = np_utils.to_categorical(y_train)\n",
    "y_test = np_utils.to_categorical(y_test)\n",
    "num_classes = y_test.shape[1]"
   ]
  },
  {
   "cell_type": "markdown",
   "metadata": {},
   "source": [
    "4. The input has 784 values that are connected to 1,000 values in a hidden layer. Additionally, we are also specifying that the activation, which is to be performed in the hidden layer after the matrix multiplication of the input and the weights connecting the input and hidden layer, is the ReLu activation.\n",
    "\n",
    "    Finally, the hidden layer is connected to an output that has 10 values (as there are 10 columns in the vector created by the to_categorical method), and we perform softmax on top of the output so that we obtain the probability of an image belonging to a certain class."
   ]
  },
  {
   "cell_type": "code",
   "execution_count": 68,
   "metadata": {
    "colab": {},
    "colab_type": "code",
    "id": "tksxAR3CuorW"
   },
   "outputs": [],
   "source": [
    "model = Sequential()\n",
    "model.add(Dense(1000,input_dim=784,activation='relu'))\n",
    "model.add(Dense(10,  activation='softmax'))"
   ]
  },
  {
   "cell_type": "markdown",
   "metadata": {},
   "source": [
    "5. The model architecture can be visualized as follows:"
   ]
  },
  {
   "cell_type": "code",
   "execution_count": 69,
   "metadata": {},
   "outputs": [
    {
     "name": "stdout",
     "output_type": "stream",
     "text": [
      "Model: \"sequential_6\"\n",
      "_________________________________________________________________\n",
      "Layer (type)                 Output Shape              Param #   \n",
      "=================================================================\n",
      "dense_11 (Dense)             (None, 1000)              785000    \n",
      "_________________________________________________________________\n",
      "dense_12 (Dense)             (None, 10)                10010     \n",
      "=================================================================\n",
      "Total params: 795,010\n",
      "Trainable params: 795,010\n",
      "Non-trainable params: 0\n",
      "_________________________________________________________________\n"
     ]
    }
   ],
   "source": [
    "model.summary()"
   ]
  },
  {
   "cell_type": "markdown",
   "metadata": {},
   "source": [
    "The number of parameters in the first layer is 785,000, as the 784 input units are connected to 1,000 hidden units, resulting in 784 * 1,000 weight values, and 1,000 bias values, for the 1,000 hidden units, resulting in a total of 785,000 parameters.\n",
    "\n",
    "Similarly, the output layer has 10 outputs, which are connected to each of the 1,000 hidden layers, resulting in 1,000 * 10 parameters and 10 biases—a total of 10,010 parameters.\n",
    "\n",
    "The output layer has 10 units as there are 10 possible labels in the output. The output layer now gives us a probability value for each class for a given input image."
   ]
  },
  {
   "cell_type": "markdown",
   "metadata": {},
   "source": [
    "6. Compile the model as follows.\n",
    "Note that because the target variable is a one-hot encoded vector with multiple classes in it, the loss function will be a categorical cross-entropy loss.\n",
    "\n",
    "    Additionally, we are using the Adam optimizer to minimize the cost function"
   ]
  },
  {
   "cell_type": "code",
   "execution_count": 70,
   "metadata": {},
   "outputs": [],
   "source": [
    "model.compile(loss='categorical_crossentropy', optimizer='adam', metrics=['accuracy'])"
   ]
  },
  {
   "cell_type": "markdown",
   "metadata": {},
   "source": [
    "7. Fit the model as follows"
   ]
  },
  {
   "cell_type": "code",
   "execution_count": 71,
   "metadata": {},
   "outputs": [
    {
     "name": "stdout",
     "output_type": "stream",
     "text": [
      "Train on 60000 samples, validate on 10000 samples\n",
      "Epoch 1/10\n",
      "60000/60000 [==============================] - 3s 49us/step - loss: 18.5036 - accuracy: 0.8393 - val_loss: 2.8778 - val_accuracy: 0.9377\n",
      "Epoch 2/10\n",
      "60000/60000 [==============================] - 3s 47us/step - loss: 1.8782 - accuracy: 0.9455 - val_loss: 1.4653 - val_accuracy: 0.9482\n",
      "Epoch 3/10\n",
      "60000/60000 [==============================] - 3s 47us/step - loss: 0.7918 - accuracy: 0.9627 - val_loss: 1.1236 - val_accuracy: 0.9537\n",
      "Epoch 4/10\n",
      "60000/60000 [==============================] - 3s 52us/step - loss: 0.4565 - accuracy: 0.9722 - val_loss: 0.9472 - val_accuracy: 0.9576\n",
      "Epoch 5/10\n",
      "60000/60000 [==============================] - 3s 50us/step - loss: 0.2447 - accuracy: 0.9807 - val_loss: 0.8382 - val_accuracy: 0.9587\n",
      "Epoch 6/10\n",
      "60000/60000 [==============================] - 4s 64us/step - loss: 0.1523 - accuracy: 0.9847 - val_loss: 0.8724 - val_accuracy: 0.9578\n",
      "Epoch 7/10\n",
      "60000/60000 [==============================] - 3s 55us/step - loss: 0.1122 - accuracy: 0.9876 - val_loss: 0.8378 - val_accuracy: 0.9625\n",
      "Epoch 8/10\n",
      "60000/60000 [==============================] - 4s 66us/step - loss: 0.0688 - accuracy: 0.9909 - val_loss: 0.8134 - val_accuracy: 0.9613\n",
      "Epoch 9/10\n",
      "60000/60000 [==============================] - 3s 55us/step - loss: 0.0500 - accuracy: 0.9930 - val_loss: 0.7863 - val_accuracy: 0.9629\n",
      "Epoch 10/10\n",
      "60000/60000 [==============================] - 3s 51us/step - loss: 0.0441 - accuracy: 0.9931 - val_loss: 0.7975 - val_accuracy: 0.9640\n"
     ]
    }
   ],
   "source": [
    "history = model.fit(X_train, y_train, validation_data=(X_test, y_test), epochs=10, batch_size=1024, verbose=1)"
   ]
  },
  {
   "cell_type": "markdown",
   "metadata": {},
   "source": [
    "8. Extract the training and test loss and accuracy metrics over different epochs.While fitting a model, the history variable will have stored the accuracy and loss values corresponding to the model in each epoch for both the training and the test datasets."
   ]
  },
  {
   "cell_type": "code",
   "execution_count": 73,
   "metadata": {
    "colab": {},
    "colab_type": "code",
    "id": "8r17OnGnwkhj"
   },
   "outputs": [],
   "source": [
    "history_dict = history.history\n",
    "loss_values = history_dict['loss']\n",
    "val_loss_values = history_dict['val_loss']\n",
    "acc_values = history_dict['accuracy']\n",
    "val_acc_values = history_dict['val_accuracy']\n",
    "epochs = range(1, len(val_loss_values) + 1)"
   ]
  },
  {
   "cell_type": "markdown",
   "metadata": {},
   "source": [
    "9.Visualize the training and test loss and the accuracy over a different number of epochs"
   ]
  },
  {
   "cell_type": "code",
   "execution_count": 77,
   "metadata": {
    "colab": {
     "base_uri": "https://localhost:8080/",
     "height": 388
    },
    "colab_type": "code",
    "id": "iDY-zI6wwkqM",
    "outputId": "3a01a910-2879-46ff-d8fb-cc9cbf015bc0"
   },
   "outputs": [
    {
     "data": {
      "image/png": "[encoded data removed]",
      "text/plain": [
       "<Figure size 432x288 with 1 Axes>"
      ]
     },
     "metadata": {
      "needs_background": "light"
     },
     "output_type": "display_data"
    },
    {
     "data": {
      "image/png": "[encoded data removed]",
      "text/plain": [
       "<Figure size 432x288 with 1 Axes>"
      ]
     },
     "metadata": {
      "needs_background": "light"
     },
     "output_type": "display_data"
    }
   ],
   "source": [
    "import matplotlib.ticker as mtick\n",
    "import matplotlib.pyplot as plt\n",
    "%matplotlib inline\n",
    "plt.subplot(211)\n",
    "plt.plot(epochs, history.history['loss'],  label='Training loss')\n",
    "plt.plot(epochs, val_loss_values,  label='Test loss')\n",
    "plt.title('Training and test loss')\n",
    "plt.xlabel('Epochs')\n",
    "plt.ylabel('Loss')\n",
    "plt.legend()\n",
    "#plt.grid(False)\n",
    "plt.show()\n",
    "plt.subplot(212)\n",
    "plt.plot(epochs, history.history['accuracy'], label='Training accuracy')\n",
    "plt.plot(epochs, val_acc_values, label='Test accuracy')\n",
    "plt.title('Training and test accuracy')\n",
    "plt.xlabel('Epochs')\n",
    "plt.ylabel('Accuracy')\n",
    "#plt.gca().set_yticklabels(['{:.0f}%'.format(x*100) for x in plt.gca().get_yticks()]) \n",
    "plt.legend()\n",
    "#plt.grid(False)\n",
    "plt.show()"
   ]
  },
  {
   "cell_type": "markdown",
   "metadata": {},
   "source": [
    "9. Calculate the accuracy of the model manually"
   ]
  },
  {
   "cell_type": "code",
   "execution_count": 42,
   "metadata": {},
   "outputs": [],
   "source": [
    "preds = model.predict(X_test)"
   ]
  },
  {
   "cell_type": "markdown",
   "metadata": {},
   "source": [
    "We are looping all of the test predictions one at a time. For each test prediction, we are perming argmax to obtain the index that has the highest probability value."
   ]
  },
  {
   "cell_type": "code",
   "execution_count": 43,
   "metadata": {},
   "outputs": [
    {
     "data": {
      "text/plain": [
       "0.0912"
      ]
     },
     "execution_count": 43,
     "metadata": {},
     "output_type": "execute_result"
    }
   ],
   "source": [
    "import numpy as np\n",
    "correct = 0\n",
    "for i in range(len(X_test)):\n",
    "    pred = np.argmax(preds[i],axis=0)\n",
    "    act = np.argmax(y_test[i],axis=0)\n",
    "    if(pred==act):\n",
    "        correct+=1\n",
    "    else:\n",
    "        continue\n",
    "\n",
    "correct/len(X_test)"
   ]
  },
  {
   "cell_type": "code",
   "execution_count": 47,
   "metadata": {},
   "outputs": [
    {
     "name": "stdout",
     "output_type": "stream",
     "text": [
      "Baseline Error: 3.16%\n",
      "dict_keys(['val_loss', 'val_accuracy', 'loss', 'accuracy'])\n"
     ]
    },
    {
     "data": {
      "image/png": "[encoded data removed]",
      "text/plain": [
       "<Figure size 432x288 with 1 Axes>"
      ]
     },
     "metadata": {
      "needs_background": "light"
     },
     "output_type": "display_data"
    }
   ],
   "source": [
    "# Baseline MLP for MNIST dataset\n",
    "from keras.datasets import mnist\n",
    "from keras.models import Sequential\n",
    "from keras.layers import Dense\n",
    "from keras.utils import np_utils\n",
    "# load data\n",
    "(X_train, y_train), (X_test, y_test) = mnist.load_data()\n",
    "# flatten 28*28 images to a 784 vector for each image\n",
    "num_pixels = X_train.shape[1] * X_train.shape[2]\n",
    "X_train = X_train.reshape((X_train.shape[0], num_pixels)).astype('float32')\n",
    "X_test = X_test.reshape((X_test.shape[0], num_pixels)).astype('float32')\n",
    "# normalize inputs from 0-255 to 0-1\n",
    "#X_train = X_train / 255\n",
    "#X_test = X_test / 255\n",
    "# one hot encode outputs\n",
    "y_train = np_utils.to_categorical(y_train)\n",
    "y_test = np_utils.to_categorical(y_test)\n",
    "num_classes = y_test.shape[1]\n",
    "# define baseline model\n",
    "def baseline_model():\n",
    "  # create model\n",
    "    model = Sequential()\n",
    "    model.add(Dense(num_pixels, input_dim=num_pixels, activation='relu')) \n",
    "    model.add(Dense(num_classes, activation='softmax'))\n",
    "    # Compile model\n",
    "    model.compile(loss='categorical_crossentropy', optimizer='adam', metrics=['accuracy'])\n",
    "    return model\n",
    "# build the model\n",
    "model = baseline_model()\n",
    "# Fit the model\n",
    "history =model.fit(X_train, y_train, validation_data=(X_test, y_test), epochs=10, batch_size=200,\n",
    "    verbose=0)\n",
    "# Final evaluation of the model\n",
    "scores = model.evaluate(X_test, y_test, verbose=0)\n",
    "print(\"Baseline Error: %.2f%%\" % (100-scores[1]*100))\n",
    "\n",
    "\n",
    "print(history.history.keys())\n",
    "# summarize history for accuracy\n",
    "plt.plot(history.history['accuracy'])\n",
    "plt.plot(history.history['val_accuracy'])\n",
    "plt.title('model accuracy')\n",
    "plt.ylabel('accuracy')\n",
    "plt.xlabel('epoch')\n",
    "plt.legend(['train', 'test'], loc='upper left')\n",
    "plt.show()"
   ]
  },
  {
   "cell_type": "code",
   "execution_count": 80,
   "metadata": {},
   "outputs": [
    {
     "name": "stdout",
     "output_type": "stream",
     "text": [
      "Baseline Error: 3.21%\n",
      "dict_keys(['val_loss', 'val_accuracy', 'loss', 'accuracy'])\n"
     ]
    },
    {
     "data": {
      "image/png": "[encoded data removed]",
      "text/plain": [
       "<Figure size 432x288 with 1 Axes>"
      ]
     },
     "metadata": {
      "needs_background": "light"
     },
     "output_type": "display_data"
    }
   ],
   "source": [
    "# Baseline MLP for MNIST dataset\n",
    "import pandas as pd\n",
    "from keras.datasets import mnist\n",
    "from keras.models import Sequential\n",
    "from keras.layers import Dense\n",
    "from keras.utils import np_utils\n",
    "# load data\n",
    "(X_train, y_train), (X_test, y_test) = mnist.load_data()\n",
    "# flatten 28*28 images to a 784 vector for each image\n",
    "num_pixels = X_train.shape[1] * X_train.shape[2]\n",
    "X_train = X_train.reshape((X_train.shape[0], num_pixels)).astype('float32')\n",
    "X_test = X_test.reshape((X_test.shape[0], num_pixels)).astype('float32')\n",
    "# normalize inputs from 0-255 to 0-1\n",
    "#X_train = X_train / 255\n",
    "#X_test = X_test / 255\n",
    "\n",
    "#### pandas one hot encoding\n",
    "#y_train = pd.get_dummies(y_train).values\n",
    "#y_test = pd.get_dummies(y_test).values\n",
    "\n",
    "###sklearn-one hot encoding\n",
    "from sklearn.preprocessing import OneHotEncoder\n",
    "enc = OneHotEncoder(categories='auto', sparse=False)\n",
    "y_train= enc.fit_transform(y_train.reshape([-1, 1]))\n",
    "y_test= enc.fit_transform(y_test.reshape([-1, 1]))\n",
    "\n",
    "#### np_utils one hot encoding#######\n",
    "#y_train = np_utils.to_categorical(y_train)\n",
    "#y_test = np_utils.to_categorical(y_test)\n",
    "num_classes = y_test.shape[1]\n",
    "# define baseline model\n",
    "def baseline_model():\n",
    "  # create model\n",
    "    model = Sequential()\n",
    "    model.add(Dense(num_pixels, input_dim=num_pixels, activation='relu')) \n",
    "    model.add(Dense(num_classes, activation='softmax'))\n",
    "    # Compile model\n",
    "    model.compile(loss='categorical_crossentropy', optimizer='adam', metrics=['accuracy'])\n",
    "    return model\n",
    "# build the model\n",
    "model = baseline_model()\n",
    "# Fit the model\n",
    "history =model.fit(X_train, y_train, validation_data=(X_test, y_test), epochs=10, batch_size=200,\n",
    "    verbose=0)\n",
    "# Final evaluation of the model\n",
    "scores = model.evaluate(X_test, y_test, verbose=0)\n",
    "print(\"Baseline Error: %.2f%%\" % (100-scores[1]*100))\n",
    "\n",
    "\n",
    "print(history.history.keys())\n",
    "# summarize history for accuracy\n",
    "plt.plot(history.history['accuracy'])\n",
    "plt.plot(history.history['val_accuracy'])\n",
    "plt.title('model accuracy')\n",
    "plt.ylabel('accuracy')\n",
    "plt.xlabel('epoch')\n",
    "plt.legend(['train', 'test'], loc='upper left')\n",
    "plt.show()"
   ]
  },
  {
   "cell_type": "markdown",
   "metadata": {
    "colab_type": "text",
    "id": "cTwAWTGHvKS1"
   },
   "source": [
    "# Building a neural network with scaling"
   ]
  },
  {
   "cell_type": "code",
   "execution_count": null,
   "metadata": {
    "colab": {},
    "colab_type": "code",
    "id": "uxDunHZlEUiZ"
   },
   "outputs": [],
   "source": [
    "# num_pixels = X_train.shape[1] * X_train.shape[2]\n",
    "# X_train = X_train.reshape(X_train.shape[0], num_pixels).astype('float32')\n",
    "# X_test = X_test.reshape(X_test.shape[0], num_pixels).astype('float32')\n",
    "\n",
    "# Commenting this out coz this is already reshaped"
   ]
  },
  {
   "cell_type": "markdown",
   "metadata": {},
   "source": [
    "We have scaled the training and test inputs to a value between zero and one by dividing each value by the maximum possible value in the dataset, which is 255."
   ]
  },
  {
   "cell_type": "code",
   "execution_count": 81,
   "metadata": {
    "colab": {},
    "colab_type": "code",
    "id": "K4b3fPPLEZLc"
   },
   "outputs": [],
   "source": [
    "X_train = X_train/255\n",
    "X_test = X_test/255"
   ]
  },
  {
   "cell_type": "code",
   "execution_count": 82,
   "metadata": {
    "colab": {},
    "colab_type": "code",
    "id": "EplGPwFdEagq"
   },
   "outputs": [],
   "source": [
    "# y_train = np_utils.to_categorical(y_train)\n",
    "# y_test = np_utils.to_categorical(y_test)\n",
    "# num_classes = y_test.shape[1]\n",
    "\n",
    "# Redundant as already done in the first part"
   ]
  },
  {
   "cell_type": "code",
   "execution_count": 83,
   "metadata": {
    "colab": {},
    "colab_type": "code",
    "id": "zv6K4zn6EbvA"
   },
   "outputs": [
    {
     "name": "stdout",
     "output_type": "stream",
     "text": [
      "Train on 60000 samples, validate on 10000 samples\n",
      "Epoch 1/10\n",
      "60000/60000 [==============================] - 4s 60us/step - loss: 0.4771 - accuracy: 0.8713 - val_loss: 0.2280 - val_accuracy: 0.9353\n",
      "Epoch 2/10\n",
      "60000/60000 [==============================] - 4s 59us/step - loss: 0.1962 - accuracy: 0.9450 - val_loss: 0.1653 - val_accuracy: 0.9525\n",
      "Epoch 3/10\n",
      "60000/60000 [==============================] - 3s 50us/step - loss: 0.1425 - accuracy: 0.9602 - val_loss: 0.1271 - val_accuracy: 0.9637\n",
      "Epoch 4/10\n",
      "60000/60000 [==============================] - 3s 53us/step - loss: 0.1083 - accuracy: 0.9699 - val_loss: 0.1083 - val_accuracy: 0.9697\n",
      "Epoch 5/10\n",
      "60000/60000 [==============================] - 3s 56us/step - loss: 0.0867 - accuracy: 0.9753 - val_loss: 0.0955 - val_accuracy: 0.9724\n",
      "Epoch 6/10\n",
      "60000/60000 [==============================] - 4s 60us/step - loss: 0.0697 - accuracy: 0.9813 - val_loss: 0.0820 - val_accuracy: 0.9756\n",
      "Epoch 7/10\n",
      "60000/60000 [==============================] - 4s 63us/step - loss: 0.0577 - accuracy: 0.9844 - val_loss: 0.0819 - val_accuracy: 0.9759\n",
      "Epoch 8/10\n",
      "60000/60000 [==============================] - 4s 67us/step - loss: 0.0480 - accuracy: 0.9871 - val_loss: 0.0739 - val_accuracy: 0.9784\n",
      "Epoch 9/10\n",
      "60000/60000 [==============================] - 3s 58us/step - loss: 0.0412 - accuracy: 0.9894 - val_loss: 0.0728 - val_accuracy: 0.9772\n",
      "Epoch 10/10\n",
      "60000/60000 [==============================] - 4s 59us/step - loss: 0.0357 - accuracy: 0.9910 - val_loss: 0.0650 - val_accuracy: 0.9792\n"
     ]
    }
   ],
   "source": [
    "model = Sequential()\n",
    "model.add(Dense(1000,input_dim=784,activation='relu'))\n",
    "model.add(Dense(10,  activation='softmax'))\n",
    "model.compile(loss='categorical_crossentropy', optimizer='adam', metrics=['accuracy'])\n",
    "history = model.fit(X_train, y_train, validation_data=(X_test, y_test), epochs=10, batch_size=1024, verbose=1)"
   ]
  },
  {
   "cell_type": "code",
   "execution_count": 85,
   "metadata": {
    "colab": {},
    "colab_type": "code",
    "id": "BBEldkcCEduj"
   },
   "outputs": [],
   "source": [
    "history_dict = history.history\n",
    "loss_values = history_dict['loss']\n",
    "val_loss_values = history_dict['val_loss']\n",
    "acc_values = history_dict['accuracy']\n",
    "val_acc_values = history_dict['val_accuracy']\n",
    "epochs = range(1, len(val_loss_values) + 1)"
   ]
  },
  {
   "cell_type": "code",
   "execution_count": 86,
   "metadata": {
    "colab": {
     "base_uri": "https://localhost:8080/",
     "height": 388
    },
    "colab_type": "code",
    "id": "7rxTPoDhEpfY",
    "outputId": "9eab4a38-d679-4afd-a185-f87da5dca8b4"
   },
   "outputs": [
    {
     "data": {
      "image/png": "[encoded data removed]",
      "text/plain": [
       "<Figure size 432x288 with 1 Axes>"
      ]
     },
     "metadata": {
      "needs_background": "light"
     },
     "output_type": "display_data"
    },
    {
     "data": {
      "image/png": "[encoded data removed]",
      "text/plain": [
       "<Figure size 432x288 with 1 Axes>"
      ]
     },
     "metadata": {
      "needs_background": "light"
     },
     "output_type": "display_data"
    }
   ],
   "source": [
    "import matplotlib.ticker as mtick\n",
    "import matplotlib.pyplot as plt\n",
    "%matplotlib inline\n",
    "plt.subplot(211)\n",
    "plt.plot(epochs, history.history['loss'],  label='Training loss')\n",
    "plt.plot(epochs, val_loss_values,  label='Test loss')\n",
    "plt.title('Training and test loss')\n",
    "plt.xlabel('Epochs')\n",
    "plt.ylabel('Loss')\n",
    "plt.legend()\n",
    "plt.show()\n",
    "plt.subplot(212)\n",
    "plt.plot(epochs, history.history['accuracy'], label='Training accuracy')\n",
    "plt.plot(epochs, val_acc_values, label='Test accuracy')\n",
    "plt.title('Training and test accuracy')\n",
    "plt.xlabel('Epochs')\n",
    "plt.ylabel('Accuracy')\n",
    "plt.legend()\n",
    "plt.show()"
   ]
  },
  {
   "cell_type": "code",
   "execution_count": 48,
   "metadata": {},
   "outputs": [
    {
     "name": "stdout",
     "output_type": "stream",
     "text": [
      "Baseline Error: 1.77%\n",
      "dict_keys(['val_loss', 'val_accuracy', 'loss', 'accuracy'])\n"
     ]
    },
    {
     "data": {
      "image/png": "[encoded data removed]",
      "text/plain": [
       "<Figure size 432x288 with 1 Axes>"
      ]
     },
     "metadata": {
      "needs_background": "light"
     },
     "output_type": "display_data"
    }
   ],
   "source": [
    "# Baseline MLP for MNIST dataset\n",
    "from keras.datasets import mnist\n",
    "from keras.models import Sequential\n",
    "from keras.layers import Dense\n",
    "from keras.utils import np_utils\n",
    "# load data\n",
    "(X_train, y_train), (X_test, y_test) = mnist.load_data()\n",
    "# flatten 28*28 images to a 784 vector for each image\n",
    "num_pixels = X_train.shape[1] * X_train.shape[2]\n",
    "X_train = X_train.reshape((X_train.shape[0], num_pixels)).astype('float32')\n",
    "X_test = X_test.reshape((X_test.shape[0], num_pixels)).astype('float32')\n",
    "# normalize inputs from 0-255 to 0-1\n",
    "X_train = X_train / 255\n",
    "X_test = X_test / 255\n",
    "# one hot encode outputs\n",
    "y_train = np_utils.to_categorical(y_train)\n",
    "y_test = np_utils.to_categorical(y_test)\n",
    "num_classes = y_test.shape[1]\n",
    "# define baseline model\n",
    "def baseline_model():\n",
    "  # create model\n",
    "    model = Sequential()\n",
    "    model.add(Dense(num_pixels, input_dim=num_pixels, activation='relu')) \n",
    "    model.add(Dense(num_classes, activation='softmax'))\n",
    "    # Compile model\n",
    "    model.compile(loss='categorical_crossentropy', optimizer='adam', metrics=['accuracy'])\n",
    "    return model\n",
    "# build the model\n",
    "model = baseline_model()\n",
    "# Fit the model\n",
    "history =model.fit(X_train, y_train, validation_data=(X_test, y_test), epochs=10, batch_size=200,\n",
    "    verbose=0)\n",
    "# Final evaluation of the model\n",
    "scores = model.evaluate(X_test, y_test, verbose=0)\n",
    "print(\"Baseline Error: %.2f%%\" % (100-scores[1]*100))\n",
    "\n",
    "\n",
    "print(history.history.keys())\n",
    "# summarize history for accuracy\n",
    "plt.plot(history.history['accuracy'])\n",
    "plt.plot(history.history['val_accuracy'])\n",
    "plt.title('model accuracy')\n",
    "plt.ylabel('accuracy')\n",
    "plt.xlabel('epoch')\n",
    "plt.legend(['train', 'test'], loc='upper left')\n",
    "plt.show()"
   ]
  },
  {
   "cell_type": "markdown",
   "metadata": {
    "colab": {},
    "colab_type": "code",
    "id": "XprbehjnGKnQ"
   },
   "source": [
    "Notice that training and test losses decreased smoothly over increasing epochs when compared to the non-scaled dataset that we saw in the previous section."
   ]
  },
  {
   "cell_type": "markdown",
   "metadata": {
    "colab": {},
    "colab_type": "code",
    "id": "xdJ9hDCuGKqf"
   },
   "source": [
    "Notice that there is a gap between the training and test accuracy/loss values, indicating that there is potential overfitting on top of the training dataset."
   ]
  },
  {
   "cell_type": "markdown",
   "metadata": {
    "colab_type": "text",
    "id": "UoWEn-MzvQs7"
   },
   "source": [
    "# Impact of having high number of non-zero values"
   ]
  },
  {
   "cell_type": "code",
   "execution_count": 87,
   "metadata": {
    "colab": {},
    "colab_type": "code",
    "id": "4uoWbS2ZSase"
   },
   "outputs": [],
   "source": [
    "from keras.datasets import mnist\n",
    "import numpy\n",
    "from keras.datasets import mnist\n",
    "from keras.models import Sequential\n",
    "from keras.layers import Dense\n",
    "from keras.layers import Dropout\n",
    "from keras.utils import np_utils\n",
    "(X_train, y_train), (X_test, y_test) = mnist.load_data()\n",
    "\n",
    "num_pixels = X_train.shape[1] * X_train.shape[2]\n",
    "X_train = X_train.reshape(X_train.shape[0], num_pixels).astype('float32')\n",
    "X_test = X_test.reshape(X_test.shape[0], num_pixels).astype('float32')\n",
    "\n",
    "y_train = np_utils.to_categorical(y_train)\n",
    "y_test = np_utils.to_categorical(y_test)\n",
    "num_classes = y_test.shape[1]"
   ]
  },
  {
   "cell_type": "code",
   "execution_count": 88,
   "metadata": {
    "colab": {
     "base_uri": "https://localhost:8080/",
     "height": 34
    },
    "colab_type": "code",
    "id": "JFWX--OvGKtT",
    "outputId": "601aa347-8aec-4c39-8ec8-9bdee9d105e9"
   },
   "outputs": [
    {
     "data": {
      "text/plain": [
       "47040000"
      ]
     },
     "execution_count": 88,
     "metadata": {},
     "output_type": "execute_result"
    }
   ],
   "source": [
    "28*28*X_train.shape[0]"
   ]
  },
  {
   "cell_type": "code",
   "execution_count": 89,
   "metadata": {
    "colab": {
     "base_uri": "https://localhost:8080/",
     "height": 34
    },
    "colab_type": "code",
    "id": "gJaoAK9TGKwM",
    "outputId": "c53ed7e8-7cda-458d-8e14-57c87448858d"
   },
   "outputs": [
    {
     "data": {
      "text/plain": [
       "(47040000,)"
      ]
     },
     "execution_count": 89,
     "metadata": {},
     "output_type": "execute_result"
    }
   ],
   "source": [
    "X_train.flatten().shape"
   ]
  },
  {
   "cell_type": "code",
   "execution_count": 90,
   "metadata": {
    "colab": {},
    "colab_type": "code",
    "id": "hn0b9j4KS1xu"
   },
   "outputs": [],
   "source": [
    "X_train/=255\n",
    "X_test/=255"
   ]
  },
  {
   "cell_type": "code",
   "execution_count": 91,
   "metadata": {
    "colab": {
     "base_uri": "https://localhost:8080/",
     "height": 363
    },
    "colab_type": "code",
    "id": "0iofD1SfGKyz",
    "outputId": "0ca9d6d4-ad3f-47eb-ec6a-b97bc23ec0df"
   },
   "outputs": [
    {
     "data": {
      "text/plain": [
       "Text(0, 0.5, 'Frequency of input values')"
      ]
     },
     "execution_count": 91,
     "metadata": {},
     "output_type": "execute_result"
    },
    {
     "data": {
      "image/png": "[encoded data removed]",
      "text/plain": [
       "<Figure size 432x288 with 1 Axes>"
      ]
     },
     "metadata": {
      "needs_background": "light"
     },
     "output_type": "display_data"
    }
   ],
   "source": [
    "import matplotlib.pyplot as plt\n",
    "%matplotlib inline\n",
    "plt.hist(X_train.flatten())\n",
    "plt.grid(False)\n",
    "plt.title('Histogram of input values')\n",
    "plt.xlabel('Input values')\n",
    "plt.ylabel('Frequency of input values')"
   ]
  },
  {
   "cell_type": "markdown",
   "metadata": {},
   "source": [
    "We notice that the majority of the inputs are zero (you should note that all the input images have a background that is black hence, a majority of the values are zero, which is the pixel value of the color black).\n",
    "\n",
    "We will invert the background color, and also the foreground color. Essentially, the background will be colored white in this scenario, and the label will be written in black.\n",
    "The intuition for this change impacting the model accuracy is as follows.\n",
    "\n",
    "The pixels in the corner of images do not contribute toward predicting the label of an image. Given that a black pixel (original scenario) has a pixel value of zero, it is automatically taken care of, as when this input is multiplied by any weight value, the output is zero. This will result in the network learning that any change in the weight value connecting this corner pixel to a hidden layer will not have an impact on changing the loss value.\n",
    "\n",
    "However, if we have a white pixel in the corner (where we already know that the corner pixels do not contribute toward predicting the label of an image), it will contribute toward certain hidden unit values, and thus the weights need to be fine-tuned until the impact of the corner pixels on the predicted label is minimal."
   ]
  },
  {
   "cell_type": "code",
   "execution_count": 92,
   "metadata": {
    "colab": {},
    "colab_type": "code",
    "id": "B5BF75GIGeV3"
   },
   "outputs": [],
   "source": [
    "X_train = 1-X_train\n",
    "X_test = 1-X_test"
   ]
  },
  {
   "cell_type": "code",
   "execution_count": 93,
   "metadata": {
    "colab": {
     "base_uri": "https://localhost:8080/",
     "height": 34
    },
    "colab_type": "code",
    "id": "eifmkUNUT_Nq",
    "outputId": "10af79e0-861f-4858-d8f1-4b6a6b521a7b"
   },
   "outputs": [
    {
     "data": {
      "text/plain": [
       "(60000, 784)"
      ]
     },
     "execution_count": 93,
     "metadata": {},
     "output_type": "execute_result"
    }
   ],
   "source": [
    "X_train.shape"
   ]
  },
  {
   "cell_type": "code",
   "execution_count": 94,
   "metadata": {
    "colab": {
     "base_uri": "https://localhost:8080/",
     "height": 320
    },
    "colab_type": "code",
    "id": "jaZA3Jl-TtTE",
    "outputId": "20c5cb14-1494-4a15-8a09-1a632652f104"
   },
   "outputs": [
    {
     "data": {
      "image/png": "[encoded data removed]",
      "text/plain": [
       "<Figure size 432x288 with 4 Axes>"
      ]
     },
     "metadata": {
      "needs_background": "light"
     },
     "output_type": "display_data"
    }
   ],
   "source": [
    "import matplotlib.pyplot as plt\n",
    "%matplotlib inline\n",
    "plt.subplot(221)\n",
    "plt.imshow(X_train[0].reshape(28,28), cmap=plt.get_cmap('gray'))\n",
    "plt.grid(False)\n",
    "plt.subplot(222)\n",
    "plt.imshow(X_train[1].reshape(28,28), cmap=plt.get_cmap('gray'))\n",
    "plt.grid(False)\n",
    "plt.subplot(223)\n",
    "plt.imshow(X_train[2].reshape(28,28), cmap=plt.get_cmap('gray'))\n",
    "plt.grid(False)\n",
    "plt.subplot(224)\n",
    "plt.imshow(X_train[3].reshape(28,28), cmap=plt.get_cmap('gray'))\n",
    "plt.grid(False)\n",
    "plt.show()"
   ]
  },
  {
   "cell_type": "code",
   "execution_count": 95,
   "metadata": {
    "colab": {
     "base_uri": "https://localhost:8080/",
     "height": 363
    },
    "colab_type": "code",
    "id": "KUEeoXAbGj40",
    "outputId": "049e6d67-f415-4f1a-ffb0-3c96f307737e"
   },
   "outputs": [
    {
     "data": {
      "text/plain": [
       "Text(0, 0.5, 'Frequency of input values')"
      ]
     },
     "execution_count": 95,
     "metadata": {},
     "output_type": "execute_result"
    },
    {
     "data": {
      "image/png": "[encoded data removed]",
      "text/plain": [
       "<Figure size 432x288 with 1 Axes>"
      ]
     },
     "metadata": {
      "needs_background": "light"
     },
     "output_type": "display_data"
    }
   ],
   "source": [
    "plt.hist(X_train.flatten())\n",
    "plt.grid(False)\n",
    "plt.title('Histogram of input values')\n",
    "plt.xlabel('Input values')\n",
    "plt.ylabel('Frequency of input values')"
   ]
  },
  {
   "cell_type": "code",
   "execution_count": 96,
   "metadata": {
    "colab": {},
    "colab_type": "code",
    "id": "gFRvtodoGlLm"
   },
   "outputs": [
    {
     "name": "stdout",
     "output_type": "stream",
     "text": [
      "Train on 60000 samples, validate on 10000 samples\n",
      "Epoch 1/10\n",
      "60000/60000 [==============================] - 28s 462us/step - loss: 0.4753 - accuracy: 0.8550 - val_loss: 0.2905 - val_accuracy: 0.9147\n",
      "Epoch 2/10\n",
      "60000/60000 [==============================] - 27s 447us/step - loss: 0.2723 - accuracy: 0.9172 - val_loss: 0.2115 - val_accuracy: 0.9340\n",
      "Epoch 3/10\n",
      "60000/60000 [==============================] - 27s 445us/step - loss: 0.2089 - accuracy: 0.9364 - val_loss: 0.1768 - val_accuracy: 0.9473\n",
      "Epoch 4/10\n",
      "60000/60000 [==============================] - 27s 442us/step - loss: 0.1750 - accuracy: 0.9462 - val_loss: 0.1539 - val_accuracy: 0.9544\n",
      "Epoch 5/10\n",
      "60000/60000 [==============================] - 27s 453us/step - loss: 0.1528 - accuracy: 0.9537 - val_loss: 0.1416 - val_accuracy: 0.9577\n",
      "Epoch 6/10\n",
      "60000/60000 [==============================] - 27s 451us/step - loss: 0.1404 - accuracy: 0.9570 - val_loss: 0.1217 - val_accuracy: 0.9652\n",
      "Epoch 7/10\n",
      "60000/60000 [==============================] - 27s 446us/step - loss: 0.1288 - accuracy: 0.9605 - val_loss: 0.1457 - val_accuracy: 0.9564\n",
      "Epoch 8/10\n",
      "60000/60000 [==============================] - 27s 445us/step - loss: 0.1182 - accuracy: 0.9635 - val_loss: 0.1058 - val_accuracy: 0.9682\n",
      "Epoch 9/10\n",
      "60000/60000 [==============================] - 27s 456us/step - loss: 0.1161 - accuracy: 0.9641 - val_loss: 0.1203 - val_accuracy: 0.9621\n",
      "Epoch 10/10\n",
      "60000/60000 [==============================] - 27s 453us/step - loss: 0.1059 - accuracy: 0.9668 - val_loss: 0.1227 - val_accuracy: 0.9633\n"
     ]
    }
   ],
   "source": [
    "model = Sequential()\n",
    "model.add(Dense(1000,input_dim=784,activation='relu'))\n",
    "model.add(Dense(10,  activation='softmax'))\n",
    "model.compile(loss='categorical_crossentropy', optimizer='adam', metrics=['accuracy'])\n",
    "history = model.fit(X_train, y_train, validation_data=(X_test, y_test), epochs=10, batch_size=32, verbose=1)"
   ]
  },
  {
   "cell_type": "code",
   "execution_count": 97,
   "metadata": {
    "colab": {},
    "colab_type": "code",
    "id": "gEiXKxkcGoIH"
   },
   "outputs": [],
   "source": [
    "history_dict = history.history\n",
    "loss_values = history_dict['loss']\n",
    "val_loss_values = history_dict['val_loss']\n",
    "acc_values = history_dict['accuracy']\n",
    "val_acc_values = history_dict['val_accuracy']\n",
    "epochs = range(1, len(val_loss_values) + 1)"
   ]
  },
  {
   "cell_type": "code",
   "execution_count": 98,
   "metadata": {
    "colab": {
     "base_uri": "https://localhost:8080/",
     "height": 388
    },
    "colab_type": "code",
    "id": "kESfp1MAHmtD",
    "outputId": "7046fbc0-4b91-40d1-bad6-c7568d596f3c"
   },
   "outputs": [
    {
     "data": {
      "image/png": "[encoded data removed]",
      "text/plain": [
       "<Figure size 432x288 with 1 Axes>"
      ]
     },
     "metadata": {
      "needs_background": "light"
     },
     "output_type": "display_data"
    },
    {
     "data": {
      "image/png": "[encoded data removed]",
      "text/plain": [
       "<Figure size 432x288 with 1 Axes>"
      ]
     },
     "metadata": {
      "needs_background": "light"
     },
     "output_type": "display_data"
    }
   ],
   "source": [
    "import matplotlib.pyplot as plt\n",
    "%matplotlib inline\n",
    "plt.subplot(211)\n",
    "plt.plot(epochs, history.history['loss'], label='Training loss')\n",
    "plt.plot(epochs, val_loss_values, label='Test loss')\n",
    "plt.title('Training and test loss')\n",
    "plt.xlabel('Epochs')\n",
    "plt.ylabel('Loss')\n",
    "plt.legend()\n",
    "plt.show()\n",
    "plt.subplot(212)\n",
    "plt.plot(epochs, history.history['accuracy'], label='Training accuracy')\n",
    "plt.plot(epochs, val_acc_values, label='Test accuracy')\n",
    "plt.title('Training and test accuracy')\n",
    "plt.xlabel('Epochs')\n",
    "plt.ylabel('Accuracy')\n",
    "plt.legend()\n",
    "plt.show()"
   ]
  },
  {
   "cell_type": "markdown",
   "metadata": {
    "colab": {},
    "colab_type": "code",
    "id": "FAf4uqKmHqTo"
   },
   "source": [
    "We should note that model accuracy has now fallen to ~97%, compared to ~98% when using the same model for the same number of epochs and batch size, but on a dataset that has a majority of zeros (and not a majority of ones). Additionally, the model achieved an accuracy of 97%, considerably more slowly than in the scenario where the majority of the input pixels are zero."
   ]
  },
  {
   "cell_type": "code",
   "execution_count": null,
   "metadata": {
    "colab": {},
    "colab_type": "code",
    "id": "ef0yyZaJHtTd"
   },
   "outputs": [],
   "source": []
  },
  {
   "cell_type": "markdown",
   "metadata": {
    "colab_type": "text",
    "id": "MnGGemzqvaDZ"
   },
   "source": [
    "# Impact of high batch size on network learning"
   ]
  },
  {
   "cell_type": "markdown",
   "metadata": {},
   "source": [
    "To understand the reason batch size has an impact on model accuracy, let's contrast two scenarios where the total dataset size is 60,000:\n",
    "\n",
    "- Batch size is 30,000\n",
    "- Batch size is 32\n",
    "\n",
    "When the batch size is large, the number of times of weight update per epoch is small, when compared to the scenario when the batch size is small.\n",
    "\n",
    "The reason for a high number of weight updates per epoch when the batch size is small is that less data points are considered to calculate the loss value. This results in more batches per epoch, as, loosely, in an epoch, you would have to go through all the training data points in a dataset."
   ]
  },
  {
   "cell_type": "code",
   "execution_count": 8,
   "metadata": {
    "colab": {},
    "colab_type": "code",
    "id": "YdzfWMfQHtWP"
   },
   "outputs": [
    {
     "name": "stdout",
     "output_type": "stream",
     "text": [
      "Train on 60000 samples, validate on 10000 samples\n",
      "Epoch 1/50\n",
      "60000/60000 [==============================] - 4s 71us/step - loss: 2.1926 - accuracy: 0.2403 - val_loss: 1.7040 - val_accuracy: 0.6599\n",
      "Epoch 2/50\n",
      "60000/60000 [==============================] - 2s 38us/step - loss: 1.5658 - accuracy: 0.7000 - val_loss: 1.1526 - val_accuracy: 0.8029\n",
      "Epoch 3/50\n",
      "60000/60000 [==============================] - 3s 45us/step - loss: 1.0822 - accuracy: 0.8025 - val_loss: 0.8134 - val_accuracy: 0.8366\n",
      "Epoch 4/50\n",
      "60000/60000 [==============================] - 3s 43us/step - loss: 0.7864 - accuracy: 0.8285 - val_loss: 0.6183 - val_accuracy: 0.8514\n",
      "Epoch 5/50\n",
      "60000/60000 [==============================] - 3s 45us/step - loss: 0.6142 - accuracy: 0.8436 - val_loss: 0.5082 - val_accuracy: 0.8649\n",
      "Epoch 6/50\n",
      "60000/60000 [==============================] - 3s 53us/step - loss: 0.5122 - accuracy: 0.8589 - val_loss: 0.4397 - val_accuracy: 0.8820\n",
      "Epoch 7/50\n",
      "60000/60000 [==============================] - 4s 60us/step - loss: 0.4480 - accuracy: 0.8734 - val_loss: 0.3976 - val_accuracy: 0.8900\n",
      "Epoch 8/50\n",
      "60000/60000 [==============================] - 3s 46us/step - loss: 0.4069 - accuracy: 0.8838 - val_loss: 0.3697 - val_accuracy: 0.8961\n",
      "Epoch 9/50\n",
      "60000/60000 [==============================] - 2s 39us/step - loss: 0.3777 - accuracy: 0.8921 - val_loss: 0.3496 - val_accuracy: 0.9013\n",
      "Epoch 10/50\n",
      "60000/60000 [==============================] - 2s 40us/step - loss: 0.3562 - accuracy: 0.8971 - val_loss: 0.3323 - val_accuracy: 0.9070\n",
      "Epoch 11/50\n",
      "60000/60000 [==============================] - 3s 51us/step - loss: 0.3384 - accuracy: 0.9021 - val_loss: 0.3176 - val_accuracy: 0.9102\n",
      "Epoch 12/50\n",
      "60000/60000 [==============================] - 3s 47us/step - loss: 0.3230 - accuracy: 0.9061 - val_loss: 0.3046 - val_accuracy: 0.9143\n",
      "Epoch 13/50\n",
      "60000/60000 [==============================] - 2s 42us/step - loss: 0.3091 - accuracy: 0.9100 - val_loss: 0.2936 - val_accuracy: 0.9163\n",
      "Epoch 14/50\n",
      "60000/60000 [==============================] - 3s 47us/step - loss: 0.2972 - accuracy: 0.9141 - val_loss: 0.2835 - val_accuracy: 0.9194\n",
      "Epoch 15/50\n",
      "60000/60000 [==============================] - 3s 48us/step - loss: 0.2862 - accuracy: 0.9174 - val_loss: 0.2741 - val_accuracy: 0.9218\n",
      "Epoch 16/50\n",
      "60000/60000 [==============================] - 3s 49us/step - loss: 0.2764 - accuracy: 0.9204 - val_loss: 0.2653 - val_accuracy: 0.9238\n",
      "Epoch 17/50\n",
      "60000/60000 [==============================] - 3s 48us/step - loss: 0.2673 - accuracy: 0.9231 - val_loss: 0.2574 - val_accuracy: 0.9262\n",
      "Epoch 18/50\n",
      "60000/60000 [==============================] - 3s 44us/step - loss: 0.2592 - accuracy: 0.9262 - val_loss: 0.2505 - val_accuracy: 0.9260\n",
      "Epoch 19/50\n",
      "60000/60000 [==============================] - 3s 46us/step - loss: 0.2515 - accuracy: 0.9288 - val_loss: 0.2439 - val_accuracy: 0.9271\n",
      "Epoch 20/50\n",
      "60000/60000 [==============================] - 2s 39us/step - loss: 0.2444 - accuracy: 0.9311 - val_loss: 0.2375 - val_accuracy: 0.9296\n",
      "Epoch 21/50\n",
      "60000/60000 [==============================] - 2s 40us/step - loss: 0.2379 - accuracy: 0.9332 - val_loss: 0.2319 - val_accuracy: 0.9320\n",
      "Epoch 22/50\n",
      "60000/60000 [==============================] - 3s 44us/step - loss: 0.2317 - accuracy: 0.9348 - val_loss: 0.2264 - val_accuracy: 0.9341\n",
      "Epoch 23/50\n",
      "60000/60000 [==============================] - 2s 41us/step - loss: 0.2259 - accuracy: 0.9366 - val_loss: 0.2213 - val_accuracy: 0.9348\n",
      "Epoch 24/50\n",
      "60000/60000 [==============================] - 2s 39us/step - loss: 0.2203 - accuracy: 0.9384 - val_loss: 0.2162 - val_accuracy: 0.9375\n",
      "Epoch 25/50\n",
      "60000/60000 [==============================] - 2s 41us/step - loss: 0.2151 - accuracy: 0.9399 - val_loss: 0.2117 - val_accuracy: 0.9384\n",
      "Epoch 26/50\n",
      "60000/60000 [==============================] - 2s 40us/step - loss: 0.2100 - accuracy: 0.9414 - val_loss: 0.2074 - val_accuracy: 0.9406\n",
      "Epoch 27/50\n",
      "60000/60000 [==============================] - 2s 40us/step - loss: 0.2051 - accuracy: 0.9430 - val_loss: 0.2032 - val_accuracy: 0.9422\n",
      "Epoch 28/50\n",
      "60000/60000 [==============================] - 2s 38us/step - loss: 0.2006 - accuracy: 0.9441 - val_loss: 0.1993 - val_accuracy: 0.9433\n",
      "Epoch 29/50\n",
      "60000/60000 [==============================] - 2s 41us/step - loss: 0.1961 - accuracy: 0.9455 - val_loss: 0.1956 - val_accuracy: 0.9439\n",
      "Epoch 30/50\n",
      "60000/60000 [==============================] - 2s 40us/step - loss: 0.1918 - accuracy: 0.9466 - val_loss: 0.1917 - val_accuracy: 0.9454\n",
      "Epoch 31/50\n",
      "60000/60000 [==============================] - 4s 60us/step - loss: 0.1877 - accuracy: 0.9478 - val_loss: 0.1881 - val_accuracy: 0.9463\n",
      "Epoch 32/50\n",
      "60000/60000 [==============================] - 3s 46us/step - loss: 0.1837 - accuracy: 0.9492 - val_loss: 0.1848 - val_accuracy: 0.9469\n",
      "Epoch 33/50\n",
      "60000/60000 [==============================] - 2s 39us/step - loss: 0.1797 - accuracy: 0.9504 - val_loss: 0.1814 - val_accuracy: 0.9478\n",
      "Epoch 34/50\n",
      "60000/60000 [==============================] - 2s 40us/step - loss: 0.1761 - accuracy: 0.9513 - val_loss: 0.1781 - val_accuracy: 0.9485\n",
      "Epoch 35/50\n",
      "60000/60000 [==============================] - 2s 38us/step - loss: 0.1724 - accuracy: 0.9522 - val_loss: 0.1752 - val_accuracy: 0.9496\n",
      "Epoch 36/50\n",
      "60000/60000 [==============================] - 3s 43us/step - loss: 0.1688 - accuracy: 0.9533 - val_loss: 0.1718 - val_accuracy: 0.9501\n",
      "Epoch 37/50\n",
      "60000/60000 [==============================] - 2s 41us/step - loss: 0.1653 - accuracy: 0.9542 - val_loss: 0.1687 - val_accuracy: 0.9510\n",
      "Epoch 38/50\n",
      "60000/60000 [==============================] - 2s 37us/step - loss: 0.1620 - accuracy: 0.9554 - val_loss: 0.1661 - val_accuracy: 0.9517\n",
      "Epoch 39/50\n",
      "60000/60000 [==============================] - 4s 66us/step - loss: 0.1587 - accuracy: 0.9562 - val_loss: 0.1636 - val_accuracy: 0.9528\n",
      "Epoch 40/50\n",
      "60000/60000 [==============================] - 3s 53us/step - loss: 0.1555 - accuracy: 0.9571 - val_loss: 0.1605 - val_accuracy: 0.9526\n",
      "Epoch 41/50\n",
      "60000/60000 [==============================] - 3s 48us/step - loss: 0.1524 - accuracy: 0.9580 - val_loss: 0.1580 - val_accuracy: 0.9533\n",
      "Epoch 42/50\n",
      "60000/60000 [==============================] - 2s 40us/step - loss: 0.1493 - accuracy: 0.9588 - val_loss: 0.1556 - val_accuracy: 0.9543\n",
      "Epoch 43/50\n",
      "60000/60000 [==============================] - 2s 38us/step - loss: 0.1465 - accuracy: 0.9596 - val_loss: 0.1530 - val_accuracy: 0.9545\n",
      "Epoch 44/50\n",
      "60000/60000 [==============================] - 2s 38us/step - loss: 0.1435 - accuracy: 0.9604 - val_loss: 0.1509 - val_accuracy: 0.9557\n",
      "Epoch 45/50\n",
      "60000/60000 [==============================] - 2s 38us/step - loss: 0.1408 - accuracy: 0.9614 - val_loss: 0.1485 - val_accuracy: 0.9555\n",
      "Epoch 46/50\n",
      "60000/60000 [==============================] - 2s 41us/step - loss: 0.1381 - accuracy: 0.9622 - val_loss: 0.1462 - val_accuracy: 0.9570\n",
      "Epoch 47/50\n",
      "60000/60000 [==============================] - 2s 39us/step - loss: 0.1354 - accuracy: 0.9631 - val_loss: 0.1442 - val_accuracy: 0.9578\n",
      "Epoch 48/50\n",
      "60000/60000 [==============================] - 2s 40us/step - loss: 0.1328 - accuracy: 0.9634 - val_loss: 0.1419 - val_accuracy: 0.9587\n",
      "Epoch 49/50\n",
      "60000/60000 [==============================] - 2s 40us/step - loss: 0.1302 - accuracy: 0.9644 - val_loss: 0.1398 - val_accuracy: 0.9592\n",
      "Epoch 50/50\n",
      "60000/60000 [==============================] - 2s 39us/step - loss: 0.1278 - accuracy: 0.9651 - val_loss: 0.1379 - val_accuracy: 0.9595\n"
     ]
    }
   ],
   "source": [
    "(X_train, y_train), (X_test, y_test) = mnist.load_data()\n",
    "num_pixels = X_train.shape[1] * X_train.shape[2]\n",
    "X_train = X_train.reshape(X_train.shape[0], num_pixels).astype('float32')\n",
    "X_test = X_test.reshape(X_test.shape[0], num_pixels).astype('float32')\n",
    "X_train = X_train/255\n",
    "X_test = X_test/255\n",
    "y_train = np_utils.to_categorical(y_train)\n",
    "y_test = np_utils.to_categorical(y_test)\n",
    "num_classes = y_test.shape[1]\n",
    "model = Sequential()\n",
    "model.add(Dense(1000,input_dim=784,activation='relu'))\n",
    "model.add(Dense(10,  activation='softmax'))\n",
    "model.compile(loss='categorical_crossentropy', optimizer='adam', metrics=['accuracy'])\n",
    "history = model.fit(X_train, y_train, validation_data=(X_test, y_test), epochs=50, batch_size=30000, verbose=1)"
   ]
  },
  {
   "cell_type": "code",
   "execution_count": 104,
   "metadata": {
    "colab": {},
    "colab_type": "code",
    "id": "IrpPa_CqICCp"
   },
   "outputs": [],
   "source": [
    "history_dict = history.history\n",
    "loss_values = history_dict['loss']\n",
    "val_loss_values = history_dict['val_loss']\n",
    "acc_values = history_dict['accuracy']\n",
    "val_acc_values = history_dict['val_accuracy']\n",
    "epochs = range(1, len(val_loss_values) + 1)"
   ]
  },
  {
   "cell_type": "code",
   "execution_count": 105,
   "metadata": {
    "colab": {
     "base_uri": "https://localhost:8080/",
     "height": 388
    },
    "colab_type": "code",
    "id": "-f644nmaIGvk",
    "outputId": "25dbc3ca-c4ad-40d3-bc72-2b659978c1c7"
   },
   "outputs": [
    {
     "data": {
      "image/png": "[encoded data removed]",
      "text/plain": [
       "<Figure size 432x288 with 1 Axes>"
      ]
     },
     "metadata": {
      "needs_background": "light"
     },
     "output_type": "display_data"
    },
    {
     "data": {
      "image/png": "[encoded data removed]",
      "text/plain": [
       "<Figure size 432x288 with 1 Axes>"
      ]
     },
     "metadata": {
      "needs_background": "light"
     },
     "output_type": "display_data"
    }
   ],
   "source": [
    "import matplotlib.pyplot as plt\n",
    "%matplotlib inline\n",
    "plt.subplot(211)\n",
    "plt.plot(epochs, history.history['loss'], label='Training loss')\n",
    "plt.plot(epochs, val_loss_values, label='Test loss')\n",
    "plt.title('Training and test loss')\n",
    "plt.xlabel('Epochs')\n",
    "plt.ylabel('Loss')\n",
    "plt.legend()\n",
    "plt.show()\n",
    "plt.subplot(212)\n",
    "plt.plot(epochs, history.history['accuracy'], label='Training accuracy')\n",
    "plt.plot(epochs, val_acc_values, label='Test accuracy')\n",
    "plt.title('Training and test accuracy')\n",
    "plt.xlabel('Epochs')\n",
    "plt.ylabel('Accuracy')\n",
    "plt.legend()\n",
    "plt.show()"
   ]
  },
  {
   "cell_type": "markdown",
   "metadata": {
    "colab": {},
    "colab_type": "code",
    "id": "rPwPwI4GIS3T"
   },
   "source": [
    "You should notice that the model accuracy reached ~98% at a much later epoch, when compared to the model accuracy it reached when the batch size was smaller. The reason for a low accuracy during initial epochs is that the number of times of weight update is much lower in this scenario when compared to the previous scenario (where the batch size was smaller)."
   ]
  },
  {
   "cell_type": "markdown",
   "metadata": {
    "colab": {},
    "colab_type": "code",
    "id": "2APS-DZuIS5z"
   },
   "source": [
    "You should be careful not to have too few examples in the batch size, which might result in not only having a very long training time, but also a potential overfitting scenario."
   ]
  },
  {
   "cell_type": "code",
   "execution_count": null,
   "metadata": {
    "colab": {},
    "colab_type": "code",
    "id": "RkoJFr7PIS87"
   },
   "outputs": [],
   "source": []
  },
  {
   "cell_type": "markdown",
   "metadata": {
    "colab_type": "text",
    "id": "YoD212fDvgpM"
   },
   "source": [
    "# Building a deep neural network"
   ]
  },
  {
   "cell_type": "markdown",
   "metadata": {},
   "source": [
    "We have looked at model architectures where the neural network has only one hidden layer between the input and the output layers. In this section, we will look at the neural network where there are multiple hidden layers (and hence a deep neural network), while reusing the same MNIST training and test dataset that were scaled."
   ]
  },
  {
   "cell_type": "code",
   "execution_count": 106,
   "metadata": {
    "colab": {},
    "colab_type": "code",
    "id": "udSOPT-9IS_O"
   },
   "outputs": [
    {
     "name": "stdout",
     "output_type": "stream",
     "text": [
      "Train on 60000 samples, validate on 10000 samples\n",
      "Epoch 1/10\n",
      "60000/60000 [==============================] - 12s 202us/step - loss: 0.3775 - accuracy: 0.8861 - val_loss: 0.1314 - val_accuracy: 0.9590\n",
      "Epoch 2/10\n",
      "60000/60000 [==============================] - 12s 203us/step - loss: 0.1009 - accuracy: 0.9700 - val_loss: 0.0900 - val_accuracy: 0.9707\n",
      "Epoch 3/10\n",
      "60000/60000 [==============================] - 12s 198us/step - loss: 0.0572 - accuracy: 0.9826 - val_loss: 0.0738 - val_accuracy: 0.9763\n",
      "Epoch 4/10\n",
      "60000/60000 [==============================] - 12s 192us/step - loss: 0.0394 - accuracy: 0.9875 - val_loss: 0.0663 - val_accuracy: 0.9792\n",
      "Epoch 5/10\n",
      "60000/60000 [==============================] - 15s 248us/step - loss: 0.0257 - accuracy: 0.9918 - val_loss: 0.0619 - val_accuracy: 0.9809\n",
      "Epoch 6/10\n",
      "60000/60000 [==============================] - 12s 202us/step - loss: 0.0160 - accuracy: 0.9951 - val_loss: 0.0703 - val_accuracy: 0.9817\n",
      "Epoch 7/10\n",
      "60000/60000 [==============================] - 13s 221us/step - loss: 0.0147 - accuracy: 0.9953 - val_loss: 0.0724 - val_accuracy: 0.9796\n",
      "Epoch 8/10\n",
      "60000/60000 [==============================] - 12s 201us/step - loss: 0.0117 - accuracy: 0.9961 - val_loss: 0.0674 - val_accuracy: 0.9824\n",
      "Epoch 9/10\n",
      "60000/60000 [==============================] - 11s 184us/step - loss: 0.0068 - accuracy: 0.9978 - val_loss: 0.0638 - val_accuracy: 0.9847\n",
      "Epoch 10/10\n",
      "60000/60000 [==============================] - 11s 188us/step - loss: 0.0049 - accuracy: 0.9985 - val_loss: 0.0717 - val_accuracy: 0.9840\n"
     ]
    }
   ],
   "source": [
    "(X_train, y_train), (X_test, y_test) = mnist.load_data()\n",
    "num_pixels = X_train.shape[1] * X_train.shape[2]\n",
    "X_train = X_train.reshape(X_train.shape[0], num_pixels).astype('float32')\n",
    "X_test = X_test.reshape(X_test.shape[0], num_pixels).astype('float32')\n",
    "X_train = X_train/255\n",
    "X_test = X_test/255\n",
    "y_train = np_utils.to_categorical(y_train)\n",
    "y_test = np_utils.to_categorical(y_test)\n",
    "num_classes = y_test.shape[1]\n",
    "model = Sequential()\n",
    "model.add(Dense(1000, input_dim=784, activation='relu'))\n",
    "model.add(Dense(1000,activation='relu'))\n",
    "model.add(Dense(1000,activation='relu'))\n",
    "model.add(Dense(10,  activation='softmax'))\n",
    "model.compile(loss='categorical_crossentropy', optimizer='adam', metrics=['accuracy'])\n",
    "history = model.fit(X_train, y_train, validation_data=(X_test, y_test), epochs=10, batch_size=1024, verbose=1)"
   ]
  },
  {
   "cell_type": "code",
   "execution_count": 107,
   "metadata": {
    "colab": {},
    "colab_type": "code",
    "id": "bkhGMJnkIdtD"
   },
   "outputs": [],
   "source": [
    "history_dict = history.history\n",
    "loss_values = history_dict['loss']\n",
    "val_loss_values = history_dict['val_loss']\n",
    "acc_values = history_dict['accuracy']\n",
    "val_acc_values = history_dict['val_accuracy']\n",
    "epochs = range(1, len(val_loss_values) + 1)"
   ]
  },
  {
   "cell_type": "code",
   "execution_count": 108,
   "metadata": {
    "colab": {
     "base_uri": "https://localhost:8080/",
     "height": 388
    },
    "colab_type": "code",
    "id": "fhDKd4QhKmrR",
    "outputId": "213f3189-82ea-412c-b373-dbd333607edc"
   },
   "outputs": [
    {
     "data": {
      "image/png": "[encoded data removed]",
      "text/plain": [
       "<Figure size 432x288 with 1 Axes>"
      ]
     },
     "metadata": {
      "needs_background": "light"
     },
     "output_type": "display_data"
    },
    {
     "data": {
      "image/png": "[encoded data removed]",
      "text/plain": [
       "<Figure size 432x288 with 1 Axes>"
      ]
     },
     "metadata": {
      "needs_background": "light"
     },
     "output_type": "display_data"
    }
   ],
   "source": [
    "import matplotlib.pyplot as plt\n",
    "%matplotlib inline\n",
    "plt.subplot(211)\n",
    "plt.plot(epochs, history.history['loss'], label='Training loss')\n",
    "plt.plot(epochs, val_loss_values, label='Test loss')\n",
    "plt.title('Training and test loss')\n",
    "plt.xlabel('Epochs')\n",
    "plt.ylabel('Loss')\n",
    "plt.legend()\n",
    "plt.show()\n",
    "plt.subplot(212)\n",
    "plt.plot(epochs, history.history['accuracy'], label='Training accuracy')\n",
    "plt.plot(epochs, val_acc_values, label='Test accuracy')\n",
    "plt.title('Training and test accuracy')\n",
    "plt.xlabel('Epochs')\n",
    "plt.ylabel('Accuracy')\n",
    "plt.legend()\n",
    "plt.show()"
   ]
  },
  {
   "cell_type": "markdown",
   "metadata": {
    "colab": {},
    "colab_type": "code",
    "id": "9NoxtCpDKoiL"
   },
   "source": [
    "Notice that there is a considerable gap between training and test loss, indicating that the deep feedforward neural network specialized on training data."
   ]
  },
  {
   "cell_type": "markdown",
   "metadata": {
    "colab_type": "text",
    "id": "XESDt-TsvoaW"
   },
   "source": [
    "# Impact of varying learning rate on network accuracy"
   ]
  },
  {
   "cell_type": "markdown",
   "metadata": {},
   "source": [
    "The learning rate is used in updating weights and the change in weight is proportional to the amount of loss reduction.\n",
    "\n",
    "Additionally, a change in a weight's value is equal to the decrease in loss multiplied by the learning rate. Hence, the lower the learning rate, the lower the change in the weight value, and vice versa.\n",
    "\n",
    "So far, in the previous recipes, we used the default learning rate of the Adam optimizer, which is 0.0001. In this section, we will manually set the learning rate to a higher number and see the impact of changing the learning rate on model accuracy, while reusing the same MNIST training and test dataset that were scaled in the previous recipes."
   ]
  },
  {
   "cell_type": "code",
   "execution_count": 109,
   "metadata": {
    "colab": {},
    "colab_type": "code",
    "id": "zI97Pn3BKpEC"
   },
   "outputs": [],
   "source": [
    "from keras.optimizers import Adam\n",
    "adam = Adam(lr = 0.01)"
   ]
  },
  {
   "cell_type": "code",
   "execution_count": 110,
   "metadata": {
    "colab": {},
    "colab_type": "code",
    "id": "ylMTLksYKpGs"
   },
   "outputs": [
    {
     "name": "stdout",
     "output_type": "stream",
     "text": [
      "Train on 60000 samples, validate on 10000 samples\n",
      "Epoch 1/10\n",
      "60000/60000 [==============================] - 3s 56us/step - loss: 0.4579 - accuracy: 0.8697 - val_loss: 0.1291 - val_accuracy: 0.9593\n",
      "Epoch 2/10\n",
      "60000/60000 [==============================] - 4s 63us/step - loss: 0.0997 - accuracy: 0.9701 - val_loss: 0.0907 - val_accuracy: 0.9714\n",
      "Epoch 3/10\n",
      "60000/60000 [==============================] - 4s 65us/step - loss: 0.0631 - accuracy: 0.9803 - val_loss: 0.0760 - val_accuracy: 0.9758\n",
      "Epoch 4/10\n",
      "60000/60000 [==============================] - 3s 55us/step - loss: 0.0430 - accuracy: 0.9865 - val_loss: 0.0794 - val_accuracy: 0.9749\n",
      "Epoch 5/10\n",
      "60000/60000 [==============================] - 3s 57us/step - loss: 0.0315 - accuracy: 0.9903 - val_loss: 0.0701 - val_accuracy: 0.9777\n",
      "Epoch 6/10\n",
      "60000/60000 [==============================] - 3s 57us/step - loss: 0.0214 - accuracy: 0.9933 - val_loss: 0.0721 - val_accuracy: 0.9790\n",
      "Epoch 7/10\n",
      "60000/60000 [==============================] - 4s 58us/step - loss: 0.0149 - accuracy: 0.9955 - val_loss: 0.0714 - val_accuracy: 0.9782\n",
      "Epoch 8/10\n",
      "60000/60000 [==============================] - 3s 56us/step - loss: 0.0116 - accuracy: 0.9965 - val_loss: 0.0761 - val_accuracy: 0.9791\n",
      "Epoch 9/10\n",
      "60000/60000 [==============================] - 4s 59us/step - loss: 0.0101 - accuracy: 0.9969 - val_loss: 0.0720 - val_accuracy: 0.9807\n",
      "Epoch 10/10\n",
      "60000/60000 [==============================] - 3s 58us/step - loss: 0.0079 - accuracy: 0.9977 - val_loss: 0.0788 - val_accuracy: 0.9803\n"
     ]
    }
   ],
   "source": [
    "model = Sequential()\n",
    "model.add(Dense(1000,input_dim=784,activation='relu'))\n",
    "model.add(Dense(10,  activation='softmax'))\n",
    "model.compile(loss='categorical_crossentropy', optimizer=adam, metrics=['accuracy'])\n",
    "history = model.fit(X_train, y_train, validation_data=(X_test, y_test), epochs=10, batch_size=1024, verbose=1)"
   ]
  },
  {
   "cell_type": "code",
   "execution_count": 111,
   "metadata": {
    "colab": {},
    "colab_type": "code",
    "id": "dWGWLBB6KpKj"
   },
   "outputs": [],
   "source": [
    "history_dict = history.history\n",
    "loss_values = history_dict['loss']\n",
    "val_loss_values = history_dict['val_loss']\n",
    "acc_values = history_dict['accuracy']\n",
    "val_acc_values = history_dict['val_accuracy']\n",
    "epochs = range(1, len(val_loss_values) + 1)"
   ]
  },
  {
   "cell_type": "code",
   "execution_count": 113,
   "metadata": {
    "colab": {
     "base_uri": "https://localhost:8080/",
     "height": 388
    },
    "colab_type": "code",
    "id": "acGDwHWoMBaV",
    "outputId": "f868702a-8369-4897-ad51-99412fe52280"
   },
   "outputs": [
    {
     "data": {
      "image/png": "[encoded data removed]",
      "text/plain": [
       "<Figure size 432x288 with 1 Axes>"
      ]
     },
     "metadata": {
      "needs_background": "light"
     },
     "output_type": "display_data"
    },
    {
     "data": {
      "image/png": "[encoded data removed]",
      "text/plain": [
       "<Figure size 432x288 with 1 Axes>"
      ]
     },
     "metadata": {
      "needs_background": "light"
     },
     "output_type": "display_data"
    }
   ],
   "source": [
    "import matplotlib.pyplot as plt\n",
    "%matplotlib inline\n",
    "plt.subplot(211)\n",
    "plt.plot(epochs, history.history['loss'], label='Training loss')\n",
    "plt.plot(epochs, val_loss_values, label='Test loss')\n",
    "plt.title('Training and test loss')\n",
    "plt.xlabel('Epochs')\n",
    "plt.ylabel('Loss')\n",
    "plt.legend()\n",
    "plt.show()\n",
    "plt.subplot(212)\n",
    "plt.plot(epochs, history.history['accuracy'], label='Training accuracy')\n",
    "plt.plot(epochs, val_acc_values, label='Test accuracy')\n",
    "plt.title('Training and test accuracy')\n",
    "plt.xlabel('Epochs')\n",
    "plt.ylabel('Accuracy')\n",
    "plt.gca().set_yticklabels(['{:.0f}%'.format(x*100) for x in plt.gca().get_yticks()]) \n",
    "plt.legend()\n",
    "plt.show()"
   ]
  },
  {
   "cell_type": "markdown",
   "metadata": {
    "colab": {},
    "colab_type": "code",
    "id": "qCLaMTJke3Z3"
   },
   "source": [
    "Note that when the learning rate was high (0.01 in the current scenario) compared to 0.0001 (in the scenario considered in the Scaling input dataset case), the loss decreased less smoothly when compared to the low-learning-rate model.\n",
    "\n",
    "The low-learning-rate model updates the weights slowly, thereby resulting in a smoothly reducing loss function, as well as a high accuracy, which was achieved slowly over a higher number of epochs.\n",
    "\n",
    "It is, in general, a good idea to set the learning rate to a low value and let the network learn over a high number of epochs."
   ]
  },
  {
   "cell_type": "code",
   "execution_count": null,
   "metadata": {
    "colab": {},
    "colab_type": "code",
    "id": "3t8abtzVe3W5"
   },
   "outputs": [],
   "source": []
  },
  {
   "cell_type": "markdown",
   "metadata": {
    "colab_type": "text",
    "id": "Eofhnm4HvtT5"
   },
   "source": [
    "# Impact of varying optimizers on network accuracy"
   ]
  },
  {
   "cell_type": "markdown",
   "metadata": {},
   "source": [
    "So far, in the previous recipes, we considered the loss optimizer to be the Adam optimizer. However, there are multiple other variants of optimizers, and a change in the optimizer is likely to impact the speed with which the model learns to fit the input and the output."
   ]
  },
  {
   "cell_type": "code",
   "execution_count": 114,
   "metadata": {
    "colab": {},
    "colab_type": "code",
    "id": "jJ_1s1qcZ_w6"
   },
   "outputs": [],
   "source": [
    "(X_train, y_train), (X_test, y_test) = mnist.load_data()\n",
    "num_pixels = X_train.shape[1] * X_train.shape[2]\n",
    "X_train = X_train.reshape(X_train.shape[0], num_pixels).astype('float32')\n",
    "X_test = X_test.reshape(X_test.shape[0], num_pixels).astype('float32')\n",
    "X_train = X_train/255\n",
    "X_test = X_test/255\n",
    "y_train = np_utils.to_categorical(y_train)\n",
    "y_test = np_utils.to_categorical(y_test)\n",
    "num_classes = y_test.shape[1]"
   ]
  },
  {
   "cell_type": "markdown",
   "metadata": {},
   "source": [
    "To understand the impact of varying the optimizer on network accuracy, let's contrast the scenario laid out in previous sections (which was the Adam optimizer) with using a stochastic gradient descent optimizer in this section, while reusing the same MNIST training and test datasets that were scaled"
   ]
  },
  {
   "cell_type": "code",
   "execution_count": 115,
   "metadata": {
    "colab": {},
    "colab_type": "code",
    "id": "CdRB9liGMBhD"
   },
   "outputs": [
    {
     "name": "stdout",
     "output_type": "stream",
     "text": [
      "Train on 60000 samples, validate on 10000 samples\n",
      "Epoch 1/10\n",
      "60000/60000 [==============================] - 20s 330us/step - loss: 0.5920 - accuracy: 0.8587 - val_loss: 0.3318 - val_accuracy: 0.9130\n",
      "Epoch 2/10\n",
      "60000/60000 [==============================] - 20s 328us/step - loss: 0.3155 - accuracy: 0.9125 - val_loss: 0.2716 - val_accuracy: 0.9251\n",
      "Epoch 3/10\n",
      "60000/60000 [==============================] - 19s 314us/step - loss: 0.2686 - accuracy: 0.9258 - val_loss: 0.2427 - val_accuracy: 0.9317\n",
      "Epoch 4/10\n",
      "60000/60000 [==============================] - 20s 327us/step - loss: 0.2388 - accuracy: 0.9341 - val_loss: 0.2177 - val_accuracy: 0.9391\n",
      "Epoch 5/10\n",
      "60000/60000 [==============================] - 21s 352us/step - loss: 0.2161 - accuracy: 0.9402 - val_loss: 0.2024 - val_accuracy: 0.9434\n",
      "Epoch 6/10\n",
      "60000/60000 [==============================] - 19s 321us/step - loss: 0.1974 - accuracy: 0.9455 - val_loss: 0.1871 - val_accuracy: 0.9468\n",
      "Epoch 7/10\n",
      "60000/60000 [==============================] - 20s 341us/step - loss: 0.1820 - accuracy: 0.9497 - val_loss: 0.1727 - val_accuracy: 0.9500\n",
      "Epoch 8/10\n",
      "60000/60000 [==============================] - 20s 341us/step - loss: 0.1686 - accuracy: 0.9531 - val_loss: 0.1621 - val_accuracy: 0.9521\n",
      "Epoch 9/10\n",
      "60000/60000 [==============================] - 17s 290us/step - loss: 0.1573 - accuracy: 0.9564 - val_loss: 0.1526 - val_accuracy: 0.9556\n",
      "Epoch 10/10\n",
      "60000/60000 [==============================] - 17s 291us/step - loss: 0.1472 - accuracy: 0.9595 - val_loss: 0.1448 - val_accuracy: 0.9577\n"
     ]
    }
   ],
   "source": [
    "model = Sequential()\n",
    "model.add(Dense(1000,input_dim=784,activation='relu'))\n",
    "model.add(Dense(10,  activation='softmax'))\n",
    "model.compile(loss='categorical_crossentropy', optimizer='sgd', metrics=['accuracy'])\n",
    "history = model.fit(X_train, y_train, validation_data=(X_test, y_test), epochs=10, batch_size=32, verbose=1)"
   ]
  },
  {
   "cell_type": "code",
   "execution_count": 116,
   "metadata": {
    "colab": {},
    "colab_type": "code",
    "id": "9mJn0xjd9Vw0"
   },
   "outputs": [],
   "source": [
    "history_dict = history.history\n",
    "loss_values = history_dict['loss']\n",
    "val_loss_values = history_dict['val_loss']\n",
    "acc_values = history_dict['accuracy']\n",
    "val_acc_values = history_dict['val_accuracy']\n",
    "epochs = range(1, len(val_loss_values) + 1)"
   ]
  },
  {
   "cell_type": "code",
   "execution_count": 117,
   "metadata": {
    "colab": {
     "base_uri": "https://localhost:8080/",
     "height": 388
    },
    "colab_type": "code",
    "id": "SGNat5v4MG6x",
    "outputId": "b4bf2441-8772-4ac2-c003-e8343bdfa21e"
   },
   "outputs": [
    {
     "data": {
      "image/png": "[encoded data removed]",
      "text/plain": [
       "<Figure size 432x288 with 1 Axes>"
      ]
     },
     "metadata": {
      "needs_background": "light"
     },
     "output_type": "display_data"
    },
    {
     "data": {
      "image/png": "[encoded data removed]",
      "text/plain": [
       "<Figure size 432x288 with 1 Axes>"
      ]
     },
     "metadata": {
      "needs_background": "light"
     },
     "output_type": "display_data"
    }
   ],
   "source": [
    "import matplotlib.pyplot as plt\n",
    "%matplotlib inline\n",
    "plt.subplot(211)\n",
    "plt.plot(epochs, history.history['loss'], label='Training loss')\n",
    "plt.plot(epochs, val_loss_values,label='Test loss')\n",
    "plt.title('Training and test loss')\n",
    "plt.xlabel('Epochs')\n",
    "plt.ylabel('Loss')\n",
    "plt.legend()\n",
    "plt.show()\n",
    "plt.subplot(212)\n",
    "plt.plot(epochs, history.history['accuracy'], label='Training accuracy')\n",
    "plt.plot(epochs, val_acc_values, label='Test accuracy')\n",
    "plt.title('Training and test accuracy')\n",
    "plt.xlabel('Epochs')\n",
    "plt.ylabel('Accuracy')\n",
    "plt.gca().set_yticklabels(['{:.0f}%'.format(x*100) for x in plt.gca().get_yticks()]) \n",
    "plt.legend()\n",
    "plt.show()"
   ]
  },
  {
   "cell_type": "markdown",
   "metadata": {
    "colab": {},
    "colab_type": "code",
    "id": "EnwiJmjFMupY"
   },
   "source": [
    "When we used the stochastic gradient descent optimizer above, the final accuracy after 10 epochs is ~95%. We should also note that the model achieved the high accuracy levels much more slowly when compared to the model that used Adam optimization."
   ]
  },
  {
   "cell_type": "code",
   "execution_count": null,
   "metadata": {
    "colab": {},
    "colab_type": "code",
    "id": "Gjl6A2SCMuu2"
   },
   "outputs": [],
   "source": []
  },
  {
   "cell_type": "markdown",
   "metadata": {
    "colab_type": "text",
    "id": "hg5uG64Ev1DZ"
   },
   "source": [
    "# Understanding overfitting"
   ]
  },
  {
   "cell_type": "markdown",
   "metadata": {},
   "source": [
    "In some of the cases above, we have noticed that the training accuracy is ~100%, while test accuracy is ~98%, which is a case of overfitting on top of a training dataset. \n",
    "\n",
    "To gain an intuition of the difference between the training and the test accuracies and to understand the phenomenon resulting in overfitting, let's contrast two scenarios where we compare the training and test accuracies along with a histogram of the weights:\n",
    "\n",
    "- Model is run for five epochs\n",
    "- Model is run for 20 epochs"
   ]
  },
  {
   "cell_type": "code",
   "execution_count": 118,
   "metadata": {
    "colab": {
     "base_uri": "https://localhost:8080/",
     "height": 204
    },
    "colab_type": "code",
    "id": "ejzbtndsMuyC",
    "outputId": "cec37a6e-957c-4eaa-d008-a8bce3042609"
   },
   "outputs": [
    {
     "name": "stdout",
     "output_type": "stream",
     "text": [
      "Train on 60000 samples, validate on 10000 samples\n",
      "Epoch 1/5\n",
      "60000/60000 [==============================] - 4s 72us/step - loss: 0.4814 - accuracy: 0.8693 - val_loss: 0.2281 - val_accuracy: 0.9329\n",
      "Epoch 2/5\n",
      "60000/60000 [==============================] - 3s 57us/step - loss: 0.1982 - accuracy: 0.9438 - val_loss: 0.1652 - val_accuracy: 0.9524\n",
      "Epoch 3/5\n",
      "60000/60000 [==============================] - 4s 60us/step - loss: 0.1431 - accuracy: 0.9602 - val_loss: 0.1327 - val_accuracy: 0.9626\n",
      "Epoch 4/5\n",
      "60000/60000 [==============================] - 4s 59us/step - loss: 0.1095 - accuracy: 0.9696 - val_loss: 0.1072 - val_accuracy: 0.9705\n",
      "Epoch 5/5\n",
      "60000/60000 [==============================] - 3s 53us/step - loss: 0.0866 - accuracy: 0.9764 - val_loss: 0.0943 - val_accuracy: 0.9727\n"
     ]
    }
   ],
   "source": [
    "model = Sequential()\n",
    "model.add(Dense(1000,input_dim=784,activation='relu'))\n",
    "model.add(Dense(10,  activation='softmax'))\n",
    "model.compile(loss='categorical_crossentropy', optimizer='adam', metrics=['accuracy'])\n",
    "history = model.fit(X_train, y_train, validation_data=(X_test, y_test), epochs=5, batch_size=1024, verbose=1)"
   ]
  },
  {
   "cell_type": "code",
   "execution_count": 119,
   "metadata": {
    "colab": {
     "base_uri": "https://localhost:8080/",
     "height": 85
    },
    "colab_type": "code",
    "id": "B84iOUgUMutL",
    "outputId": "2017d30f-9473-4ef6-920a-074129aec69c"
   },
   "outputs": [
    {
     "data": {
      "text/plain": [
       "[<tf.Variable 'dense_33/kernel:0' shape=(784, 1000) dtype=float32, numpy=\n",
       " array([[ 0.03298215, -0.00844706,  0.03702267, ..., -0.04177391,\n",
       "          0.03584325, -0.04530009],\n",
       "        [-0.04795167,  0.01499925,  0.02576118, ..., -0.00854138,\n",
       "         -0.05372606,  0.0052348 ],\n",
       "        [ 0.01526398, -0.01227488, -0.00176319, ...,  0.00928093,\n",
       "          0.00150575,  0.03932474],\n",
       "        ...,\n",
       "        [-0.0060682 , -0.04203924,  0.03346897, ...,  0.02197601,\n",
       "          0.04937952, -0.01087161],\n",
       "        [ 0.00851796, -0.04391894, -0.00233813, ...,  0.01684373,\n",
       "          0.00561127, -0.00586624],\n",
       "        [ 0.01812688,  0.00062154,  0.02114534, ..., -0.00726443,\n",
       "         -0.0180827 , -0.00404102]], dtype=float32)>,\n",
       " <tf.Variable 'dense_33/bias:0' shape=(1000,) dtype=float32, numpy=\n",
       " array([ 3.96383461e-03, -7.11028511e-03, -7.57556548e-03,  1.64223218e-03,\n",
       "         3.94703681e-03,  1.07185971e-02,  1.07521890e-02,  2.81292293e-02,\n",
       "         2.14544293e-02, -1.45331686e-02,  9.40860156e-03,  1.20763166e-03,\n",
       "        -3.76122072e-03, -4.52188961e-03,  2.04948783e-02,  1.71345007e-03,\n",
       "         2.20477320e-02, -4.17508511e-03,  2.83982288e-02,  1.86460081e-03,\n",
       "        -7.70128379e-03,  2.38791462e-02,  2.32791603e-02,  1.44539839e-02,\n",
       "        -2.80119886e-04,  2.37586326e-03,  9.86122712e-03, -2.30896715e-02,\n",
       "         6.40522409e-03,  2.07932084e-03,  3.80352251e-02, -9.08864569e-03,\n",
       "         3.94970877e-03,  3.06193042e-03, -2.01536026e-02,  1.54173560e-02,\n",
       "        -2.20179255e-03,  1.35477632e-02,  3.62058682e-03,  1.83183607e-02,\n",
       "         3.13651562e-02,  5.81342727e-03, -1.07737975e-02, -1.49111298e-03,\n",
       "         1.33961737e-02,  7.94333685e-03,  7.73070473e-03,  1.91366766e-02,\n",
       "        -7.20030023e-03,  1.70057435e-02,  3.75311263e-03,  1.49333188e-02,\n",
       "        -2.69005285e-03,  8.34013335e-03,  6.76223636e-03,  3.81840058e-02,\n",
       "         2.51983460e-02,  5.33570303e-03, -8.34419578e-03,  1.47062475e-02,\n",
       "         3.07656568e-03,  4.74391542e-02,  3.78254103e-03, -1.79052670e-02,\n",
       "        -1.01954648e-02,  1.78587083e-02, -1.77616999e-02,  1.86128598e-02,\n",
       "         5.06802984e-02,  2.61979387e-03, -1.14676971e-02, -1.11660045e-02,\n",
       "         4.93505001e-02,  1.79486219e-02,  3.68661173e-02,  1.60088520e-02,\n",
       "         1.31895291e-02,  1.41818514e-02,  7.13048922e-03,  4.24529016e-02,\n",
       "         2.30932515e-03,  1.02269789e-02, -1.73809833e-03,  1.14281457e-02,\n",
       "        -1.28041394e-02,  1.94210056e-02, -7.13703595e-03, -6.62225718e-03,\n",
       "         6.65327115e-03,  1.04545988e-02,  1.29837971e-02,  2.83293100e-03,\n",
       "         6.72938023e-03, -4.71118232e-03,  1.06631708e-03,  1.26942461e-02,\n",
       "         1.50364609e-02,  1.34697817e-02, -1.13225831e-02,  7.70782446e-03,\n",
       "         2.28915992e-03, -2.19193776e-03, -7.58956745e-03,  2.16849670e-02,\n",
       "         1.91344088e-03,  2.27070972e-02,  6.03124173e-03, -1.03458744e-02,\n",
       "         1.30365714e-02,  2.43665315e-02,  7.92717189e-03,  1.53319044e-02,\n",
       "        -2.74419226e-03,  2.07337998e-02,  1.99574847e-02, -5.55979973e-03,\n",
       "         2.19938457e-02, -3.40272374e-02,  1.92989130e-02, -6.44309353e-03,\n",
       "         2.99736205e-03, -1.13887377e-02,  1.39247887e-02,  1.31768091e-02,\n",
       "        -7.00906059e-03,  2.31782049e-02, -1.01036225e-02,  6.31550443e-04,\n",
       "         1.78091954e-02,  2.40924209e-02,  1.00586312e-02,  3.77727412e-02,\n",
       "         1.72202904e-02, -1.33319618e-02,  1.41751161e-02,  1.49874948e-04,\n",
       "        -4.51842695e-03, -6.58108247e-03,  3.05715036e-02,  8.72428436e-03,\n",
       "         1.96259767e-02,  3.36113274e-02, -1.30602554e-03, -4.18809429e-03,\n",
       "        -3.63128912e-03,  2.50682831e-02,  1.87333450e-02, -4.43007145e-03,\n",
       "         5.86338714e-03,  8.20683636e-05, -6.65273750e-03,  1.71318091e-02,\n",
       "         9.60296113e-03,  4.57188999e-03, -1.01021072e-02,  1.21095311e-02,\n",
       "         2.18433030e-02,  1.57668293e-02,  2.01872736e-02,  2.11247709e-02,\n",
       "         1.62490960e-02, -4.74970043e-03,  1.24319848e-02,  3.69471796e-02,\n",
       "        -1.24523276e-02,  1.04735522e-02,  1.52488900e-02, -1.08656595e-02,\n",
       "         2.34265439e-03,  1.64580196e-02,  4.28712973e-03,  2.19641943e-02,\n",
       "        -1.13173190e-03, -2.91951321e-04,  1.99415199e-02, -1.76327094e-03,\n",
       "        -8.02431535e-03, -4.98315319e-04,  1.84906293e-02, -5.11668297e-03,\n",
       "        -1.07115861e-02,  3.64369564e-02, -6.14753738e-03,  1.44214872e-02,\n",
       "        -1.32255219e-02,  1.10616805e-02, -9.35383607e-03,  1.37786055e-02,\n",
       "        -1.94607954e-02,  3.60554783e-03,  8.09087325e-03,  2.29314305e-02,\n",
       "        -1.34540955e-02,  1.56084839e-02, -3.04673705e-03,  4.06422205e-02,\n",
       "         1.22696459e-02, -2.18106527e-02,  5.52745257e-03, -1.43813947e-02,\n",
       "         2.30623707e-02, -1.11079030e-02,  1.26078529e-02, -2.12771795e-03,\n",
       "        -1.70549995e-03,  2.07084138e-02,  2.33716425e-02, -1.66261494e-02,\n",
       "         7.17056403e-03,  2.11634338e-02, -2.78282873e-02,  1.39918439e-02,\n",
       "         1.38312001e-02,  3.70023819e-03,  3.57633899e-03, -1.31481215e-02,\n",
       "         1.16031617e-02,  2.31678318e-02, -3.00856843e-03,  1.30288312e-02,\n",
       "        -1.30358589e-04,  7.55131571e-03,  3.46795842e-02, -8.48884322e-03,\n",
       "         1.02634374e-02,  1.41364252e-02, -3.75471031e-03,  2.07205415e-02,\n",
       "         1.54284798e-02,  5.25853364e-03,  3.16007808e-02,  1.64594091e-02,\n",
       "         1.31437536e-02, -1.98440123e-02,  1.56164002e-02,  1.18441721e-02,\n",
       "         1.68942790e-02, -1.09248450e-02,  1.25555613e-03, -3.95396259e-04,\n",
       "         1.43123893e-02, -5.40754898e-03, -1.44804856e-02,  1.40363071e-02,\n",
       "         8.42707977e-03,  2.27871723e-02,  2.57544569e-03, -2.15046201e-02,\n",
       "         8.58439412e-03, -7.77416630e-03,  1.08579071e-02,  6.06632745e-03,\n",
       "         1.04954801e-02, -7.75677990e-03, -1.41110308e-02, -2.29515790e-04,\n",
       "        -1.60635065e-03,  1.00921961e-02,  1.64381713e-02,  2.62375120e-02,\n",
       "         9.32330266e-03,  1.46303270e-02,  1.00358268e-02,  2.93323118e-02,\n",
       "         1.45198200e-02,  7.47308414e-03,  2.35614972e-03, -1.67199243e-02,\n",
       "         1.24616520e-02,  1.84691623e-02,  1.75828189e-02,  5.50346030e-03,\n",
       "        -9.12049133e-03, -9.82484501e-03,  8.86757858e-03,  2.70779431e-03,\n",
       "         2.78677680e-02, -7.80614931e-03, -9.29876976e-03,  8.61414184e-04,\n",
       "        -1.37260230e-02,  3.24693806e-02,  8.62490200e-03,  1.74631830e-02,\n",
       "        -1.17279822e-02, -1.51170660e-02,  2.72030178e-02,  5.94231207e-03,\n",
       "         2.87721884e-02,  2.01082658e-02,  2.85706911e-02,  2.79869256e-03,\n",
       "        -2.21392810e-02,  2.20760843e-03,  1.15277180e-02,  1.38030257e-02,\n",
       "         1.93492582e-04,  1.76792517e-02, -1.33030844e-04,  1.40374871e-02,\n",
       "        -1.41429214e-03,  3.05815302e-02,  7.25061959e-03,  2.72818953e-02,\n",
       "        -2.89102271e-03,  1.51344044e-02,  2.52307896e-02,  1.01191616e-02,\n",
       "         1.69038456e-02,  2.49214098e-02,  2.07952820e-02,  1.58920605e-02,\n",
       "         2.44893674e-02, -8.02109111e-03,  2.47615743e-02,  1.86539125e-02,\n",
       "         4.65342915e-03,  4.77587106e-03, -2.57899112e-04,  1.13666952e-02,\n",
       "         6.49223477e-03, -5.45068830e-03, -4.78575053e-03, -1.49246836e-02,\n",
       "        -1.01767546e-02,  4.36439598e-03,  1.40251899e-02,  1.32006919e-02,\n",
       "         1.32510122e-02,  1.95013750e-02,  3.76826823e-02,  2.68165022e-03,\n",
       "         2.86949389e-02, -1.25903450e-02,  3.55685763e-02,  7.37698982e-03,\n",
       "         2.06878744e-02,  1.65139418e-02,  3.21737230e-02, -8.82511679e-03,\n",
       "         6.77095726e-03, -5.06027741e-03,  1.70102138e-02, -3.97099555e-03,\n",
       "        -3.54536809e-03,  1.40121365e-02, -4.98914102e-04,  4.99461731e-03,\n",
       "        -1.68640527e-03,  2.45775492e-03,  4.59643686e-03,  2.32037324e-02,\n",
       "         1.07785920e-03,  1.23179201e-02,  1.65986903e-02,  1.97367780e-02,\n",
       "         8.10250919e-03, -5.53142559e-03, -1.09653187e-03,  2.29192823e-02,\n",
       "         1.30131505e-02, -1.34036454e-04,  1.05700595e-02, -8.84239748e-03,\n",
       "         3.47842812e-03,  7.38309696e-03,  2.53289640e-02,  2.18180735e-02,\n",
       "         1.85420401e-02,  8.36766418e-03,  2.92739719e-02,  1.23602874e-03,\n",
       "         7.38021452e-03,  9.31360293e-03, -4.87194210e-03,  8.72055907e-03,\n",
       "         8.64654686e-03, -1.06703816e-02,  2.88694818e-03,  7.89550319e-03,\n",
       "         2.28901636e-02,  3.65783134e-03,  4.00914066e-03,  1.28306355e-02,\n",
       "        -9.09148343e-03,  3.67790274e-02,  3.78685668e-02, -1.99046303e-02,\n",
       "         9.57655627e-03,  9.85125359e-03,  1.91522967e-02, -1.04546538e-02,\n",
       "        -1.68310863e-03,  4.78458032e-03, -1.16464160e-02,  1.46231949e-02,\n",
       "        -1.63094979e-03,  1.63251795e-02,  1.58317611e-02,  2.49797441e-02,\n",
       "         1.45015949e-02,  9.07961745e-03, -7.79632712e-03,  1.91581734e-02,\n",
       "         1.57616753e-02,  2.01369319e-02,  9.78558511e-03,  1.72307733e-02,\n",
       "         2.38513835e-02, -2.45114118e-02, -4.34485590e-03,  3.68246287e-02,\n",
       "         2.77776979e-02, -1.43244239e-02,  2.79671531e-02,  9.85263381e-03,\n",
       "        -3.59043479e-04,  4.39993385e-03,  6.45310618e-03,  2.75690574e-02,\n",
       "         1.47756878e-02,  2.62166169e-02,  1.64323649e-03,  2.16002893e-02,\n",
       "         1.62612498e-02, -1.28085054e-02,  2.29697339e-02, -8.88403784e-03,\n",
       "         1.47679960e-02,  3.57416505e-03,  1.68312509e-02, -1.92535799e-02,\n",
       "         2.30778605e-05,  4.86143725e-03, -7.28063937e-03,  4.85710660e-03,\n",
       "         4.05836059e-03, -7.64218485e-03, -1.07393852e-02, -1.17862783e-02,\n",
       "        -7.15214945e-03, -7.30134221e-03,  4.32719197e-03,  3.55963185e-02,\n",
       "        -3.28405970e-03,  2.62733013e-03, -2.29787640e-03,  1.48320198e-03,\n",
       "        -1.46741737e-02,  1.85176469e-02,  1.99553352e-02,  6.53885026e-03,\n",
       "        -2.83875153e-03,  2.25034673e-02,  7.07994681e-03,  4.27075289e-03,\n",
       "        -8.71047657e-03,  7.65994715e-04,  1.40000191e-02,  3.68848536e-03,\n",
       "         3.10041569e-03, -1.03265112e-02,  3.15429573e-03,  1.37984322e-03,\n",
       "         4.37164083e-02,  2.13198923e-02, -3.19145783e-03,  6.90181693e-03,\n",
       "         1.66840553e-02, -2.77584069e-03,  3.44084017e-03,  1.16523569e-02,\n",
       "        -2.25914698e-02,  5.34009514e-03,  2.52680629e-02,  1.54579978e-03,\n",
       "        -1.13969762e-02,  3.94439045e-03,  8.87684058e-03,  1.44064613e-02,\n",
       "         1.67263523e-02, -4.86839376e-02,  2.88501438e-02,  2.54608411e-03,\n",
       "         1.34875746e-02, -6.31364761e-04,  5.38227009e-03, -2.32590418e-02,\n",
       "         4.63841297e-02,  8.57178420e-02,  3.08995266e-02, -3.62832972e-04,\n",
       "         9.48004425e-03, -8.81570484e-03, -1.62548423e-02, -1.20743616e-02,\n",
       "         2.81790290e-02,  1.98727176e-02,  7.76465517e-03, -2.45605428e-02,\n",
       "         2.18832307e-03,  1.84404086e-02, -2.04917882e-03, -3.21471016e-03,\n",
       "        -8.01256020e-03,  1.58409197e-02,  2.24021468e-02, -4.96805087e-03,\n",
       "        -1.26305697e-02,  5.50704170e-03,  3.75079806e-03,  1.58493198e-03,\n",
       "        -1.30756749e-02,  3.36916223e-02,  8.81475955e-03,  6.51937723e-03,\n",
       "         4.45633475e-03, -7.70918187e-03,  1.92850102e-02,  4.41566370e-02,\n",
       "         1.24880252e-03,  2.14436892e-02, -9.46142524e-03,  1.80277545e-02,\n",
       "         1.34727899e-02,  3.52581441e-02,  2.53209677e-02,  2.46134866e-02,\n",
       "         2.17949916e-02,  1.17706610e-02,  1.06916400e-02, -9.84883215e-03,\n",
       "        -3.21342540e-03, -4.22039954e-03,  1.11538209e-02,  1.42075857e-02,\n",
       "         1.43795880e-02,  1.29203079e-02,  5.42398822e-03, -3.46433418e-03,\n",
       "        -9.60510504e-03,  3.37789953e-02,  9.16969962e-03, -1.10740736e-02,\n",
       "         9.81838442e-03, -2.77734306e-02,  1.13826059e-03,  6.54728245e-03,\n",
       "         7.27494946e-03,  1.38611002e-02,  2.08116304e-02, -2.04786025e-02,\n",
       "         7.45953200e-03, -6.29291497e-03,  3.86591740e-02,  2.90383142e-03,\n",
       "        -2.52452455e-02, -1.38368020e-02, -8.65538511e-03,  2.03442238e-02,\n",
       "        -9.88655072e-03,  1.87705923e-02,  2.22672541e-02, -1.03205200e-02,\n",
       "         1.56135289e-02,  2.04939991e-02,  2.33011227e-02,  3.00388243e-02,\n",
       "         1.03417132e-02,  3.96586908e-03,  1.09068525e-03,  1.12799834e-02,\n",
       "         3.22624967e-02,  7.18189077e-03,  7.33637204e-03,  1.82311479e-02,\n",
       "         1.52901895e-02,  1.14414999e-02,  2.36018337e-02, -2.07665153e-02,\n",
       "         6.47856016e-03,  1.50493626e-02,  1.89486220e-02, -2.22328538e-03,\n",
       "         9.05909576e-03, -5.16171148e-03, -8.40318971e-04,  1.12881763e-02,\n",
       "        -4.16306080e-03, -2.61778366e-02,  4.94567119e-02,  6.29610242e-03,\n",
       "        -1.85482122e-03,  2.44804192e-02,  1.70551555e-03,  1.58714838e-02,\n",
       "         4.45543928e-03,  2.35768892e-02,  1.54005922e-03, -9.64392070e-03,\n",
       "         2.60945261e-02, -1.09858764e-02,  2.62855235e-02, -1.16747562e-02,\n",
       "        -2.35365005e-03,  8.90420191e-03,  5.61339222e-03, -7.66557222e-03,\n",
       "        -6.99595502e-03,  2.81403381e-02, -2.05582790e-02,  1.53176235e-02,\n",
       "         2.18038484e-02, -4.89564938e-03,  2.05616876e-02,  5.52242296e-03,\n",
       "        -1.53751727e-02,  1.07622938e-02,  1.98870618e-02,  3.48144700e-03,\n",
       "        -8.06261227e-03,  2.18797904e-02, -6.36088476e-03,  1.59576838e-03,\n",
       "         2.57509649e-02, -7.50599243e-03,  3.04324720e-02,  1.49324182e-02,\n",
       "        -1.03190891e-03,  1.08875260e-02,  2.71061771e-02,  1.02836592e-02,\n",
       "         1.20976847e-02, -1.62192865e-03,  1.99740473e-02,  1.99934747e-02,\n",
       "         1.96858938e-03,  2.92296428e-02, -9.96843819e-03,  8.78203288e-03,\n",
       "         2.05844827e-02,  1.22640254e-02, -1.63292401e-02, -6.62053470e-03,\n",
       "         2.12652311e-02,  3.08367237e-02, -1.24124251e-02, -8.48542061e-03,\n",
       "         1.03709344e-02, -1.09241251e-02,  1.31016597e-02, -7.39382487e-03,\n",
       "         4.01952071e-03,  1.81250740e-02, -7.05602870e-04,  1.74159240e-02,\n",
       "         7.17572775e-03,  4.81495447e-03, -1.17784757e-02,  1.37651963e-02,\n",
       "         2.03253645e-02,  7.43719691e-04, -1.20844860e-02, -1.43936295e-02,\n",
       "         1.65198911e-02, -9.57760960e-03,  6.71161152e-03,  1.81698482e-02,\n",
       "         4.28177528e-02,  2.09022220e-02,  1.77388433e-02, -2.83915387e-03,\n",
       "        -6.52248785e-03,  9.35533363e-03,  3.50610912e-02,  1.17478827e-02,\n",
       "         8.32877681e-03, -2.74721789e-03,  2.02694386e-02, -1.26302792e-02,\n",
       "        -2.16768421e-02,  1.74986944e-02, -1.87803889e-05, -1.95743283e-03,\n",
       "         7.46449875e-03, -3.54996463e-03, -1.07301325e-02,  1.11392681e-02,\n",
       "         1.86351500e-02,  4.93471585e-02,  9.89918225e-03,  1.67553984e-02,\n",
       "        -5.58658177e-03,  1.88144110e-02,  2.35201288e-02, -7.12362584e-04,\n",
       "         1.66456103e-02, -1.38497595e-02,  8.97785369e-03,  1.39041860e-02,\n",
       "         2.40324512e-02,  1.70860440e-02, -4.86183446e-03,  5.89039002e-04,\n",
       "         1.37548260e-02,  4.35875449e-03, -4.94800648e-03,  1.74830239e-02,\n",
       "         9.07171145e-03,  7.04723084e-03,  1.71530247e-02,  1.72741711e-02,\n",
       "         9.05480981e-03,  2.18219124e-02, -1.08288182e-02, -9.44084581e-03,\n",
       "         9.89880506e-03,  3.88810714e-03,  1.95745993e-02,  8.52992292e-03,\n",
       "         1.63411647e-02, -8.94054491e-03,  2.23291162e-02, -8.99250619e-03,\n",
       "         2.15427801e-02,  2.41089221e-02, -2.65111681e-02,  5.95714385e-03,\n",
       "        -3.82681540e-03,  4.37446579e-06,  1.46256741e-02,  2.66028065e-02,\n",
       "        -3.18574160e-03,  1.73226092e-02, -2.73022190e-04,  1.09683406e-02,\n",
       "        -6.12416305e-03,  6.24327688e-03,  2.86950264e-02, -1.35577992e-02,\n",
       "         1.33210076e-02, -7.61603331e-03, -5.10745961e-03,  1.29855061e-02,\n",
       "         4.76348307e-03,  2.96364594e-02, -4.60560992e-03,  9.90323460e-05,\n",
       "        -1.16288858e-02,  1.22778602e-02,  1.25339357e-02,  7.41833635e-03,\n",
       "         1.46449907e-02, -7.98660051e-03,  6.37639035e-03,  1.22635830e-02,\n",
       "        -2.24272162e-03,  2.46123243e-02, -2.32777675e-03, -1.03768623e-02,\n",
       "        -1.81952920e-02,  3.30733098e-02, -1.18376408e-03, -1.19836433e-02,\n",
       "         2.32845098e-02,  1.53130544e-02, -1.24374675e-02,  1.04453685e-02,\n",
       "        -1.43691646e-02,  3.11680585e-02,  1.71473976e-02,  1.19552230e-02,\n",
       "         2.22101081e-02,  1.87635925e-02,  1.17586004e-02,  1.56923849e-02,\n",
       "         2.75191534e-02,  2.33776160e-02,  1.69928987e-02,  2.23414361e-04,\n",
       "         1.42688560e-03,  7.32730515e-03,  1.32610640e-02,  8.22526496e-03,\n",
       "         2.26551797e-02,  2.35915016e-02,  2.22055539e-02,  1.40174562e-02,\n",
       "         1.20818671e-02, -9.83892661e-03, -4.59611788e-03,  2.63020545e-02,\n",
       "         2.79506873e-02,  2.16946565e-02,  1.01270166e-03, -2.09879931e-02,\n",
       "        -1.57928485e-02, -7.40837865e-03,  1.01665445e-02,  1.74155273e-02,\n",
       "         1.40076522e-02,  1.93015505e-02,  1.13609536e-02,  2.76242886e-02,\n",
       "         6.66211545e-03,  2.03377567e-02,  5.07239103e-02,  3.45167182e-02,\n",
       "        -8.57198890e-03, -1.30322706e-02,  2.16331445e-02, -5.64909773e-04,\n",
       "         1.68874990e-02, -2.47190576e-02,  5.48347924e-03,  2.12244950e-02,\n",
       "         2.16595009e-02,  2.07386296e-02, -8.56053457e-03,  2.43416857e-02,\n",
       "         2.16027373e-03, -7.24608870e-03,  2.49430202e-02,  1.66905466e-02,\n",
       "         8.47951975e-03,  2.94184010e-03, -9.71784629e-03,  5.78690972e-03,\n",
       "         7.35823624e-03, -7.76039343e-03, -5.87046519e-03,  1.23504074e-02,\n",
       "         2.06808522e-02,  1.61266141e-02,  1.54380659e-02,  1.84156224e-02,\n",
       "        -1.59245208e-02, -7.08497176e-03, -6.27273414e-03,  9.17544682e-03,\n",
       "         2.89383018e-03, -5.20632695e-03,  2.79784412e-03, -1.08308215e-02,\n",
       "         6.76155090e-03, -2.31157336e-03,  1.66617781e-02, -1.89679731e-02,\n",
       "         1.08558740e-02,  7.36743351e-03,  1.75559539e-02, -5.13013732e-03,\n",
       "         1.01293558e-02,  6.99096918e-03,  1.61511183e-03,  1.92895979e-02,\n",
       "        -1.35140866e-02,  9.69920028e-03,  1.72235388e-02,  2.43978351e-02,\n",
       "         6.65746280e-04, -4.56879521e-03, -1.36086615e-02, -1.47059029e-02,\n",
       "         9.99596156e-03,  1.31667417e-03,  1.69240572e-02,  8.98264069e-03,\n",
       "         9.36890393e-03,  5.97869162e-04,  1.46029601e-02,  2.30358653e-02,\n",
       "        -1.63580547e-03,  2.94048153e-03, -3.98972556e-02,  2.05427743e-02,\n",
       "        -2.45498912e-03, -8.30288325e-03,  7.07691861e-03,  1.49820317e-02,\n",
       "        -8.79673008e-03,  1.18697984e-02,  1.43701909e-02,  3.13065499e-02,\n",
       "         1.95855498e-02,  1.70341060e-02, -8.70892312e-03,  3.92577983e-03,\n",
       "        -1.30862053e-02, -1.03550032e-02,  2.54778862e-02, -8.24873708e-03,\n",
       "         1.49308769e-02, -5.44054154e-03,  2.45674476e-02,  2.22171471e-02,\n",
       "        -2.38353629e-02,  3.23574319e-02,  1.75236985e-02, -9.60498117e-03,\n",
       "         1.04782181e-02,  4.98710619e-03, -1.08831478e-02, -1.41273988e-02,\n",
       "        -1.34843504e-02,  1.18602784e-02,  1.17460396e-02,  6.11454761e-03,\n",
       "         1.07108848e-02, -1.56628620e-02,  2.59742886e-02, -2.61789584e-03,\n",
       "        -2.45269528e-03,  3.59216183e-02, -1.07435053e-02, -1.01168389e-02,\n",
       "        -8.85649235e-04, -6.66772993e-03, -1.16006415e-02,  1.25404969e-02,\n",
       "        -1.92289706e-02,  6.95815729e-03,  2.11540665e-02, -1.82125419e-02,\n",
       "         2.65391786e-02,  1.51172187e-02,  1.99978370e-02,  2.53804196e-02,\n",
       "         2.43941899e-02,  1.20945517e-02,  1.01830782e-02,  3.37976101e-03,\n",
       "         2.56641284e-02,  1.73482932e-02, -2.67448537e-02,  1.13960039e-02,\n",
       "         2.13208962e-02, -4.51888936e-03,  1.19892955e-02,  1.54191749e-02,\n",
       "        -8.94446019e-03,  1.34960292e-02,  1.03195636e-02,  9.19369981e-03,\n",
       "         9.29806661e-03,  3.47595569e-03,  1.89080071e-02,  2.07246821e-02,\n",
       "         6.14956627e-03,  1.70898214e-02,  3.96545511e-04, -3.88484937e-03,\n",
       "         1.75256003e-03,  1.96199361e-02,  2.18380131e-02, -7.90492445e-03,\n",
       "         2.30683573e-02,  9.71280131e-03,  5.57305431e-03, -3.60926869e-03,\n",
       "        -7.80430203e-03,  2.25547235e-02,  3.29145789e-02,  1.31024821e-02,\n",
       "        -1.06136559e-03, -3.12790670e-03,  3.93793918e-02,  2.06096936e-02,\n",
       "        -1.34367170e-03,  2.04988997e-02,  2.01607402e-02,  9.27679124e-04,\n",
       "         1.79812824e-03, -1.03809536e-02,  2.78924312e-02, -8.16777721e-03,\n",
       "        -1.07263401e-02,  2.59828400e-02, -5.38146729e-03, -1.10444275e-03,\n",
       "         1.64385904e-02,  5.11910161e-03, -7.61487149e-03,  5.25588216e-03,\n",
       "        -2.22230819e-03,  1.18888374e-02,  2.57582553e-02, -3.85594694e-03,\n",
       "         2.30411673e-03,  1.73538066e-02, -1.00133149e-02,  2.12914012e-02,\n",
       "         1.12965675e-02,  2.07293720e-04, -4.63449303e-03, -2.92962529e-02,\n",
       "         4.01402637e-03, -2.94022029e-03,  1.09430458e-02,  5.52850682e-03],\n",
       "       dtype=float32)>,\n",
       " <tf.Variable 'dense_34/kernel:0' shape=(1000, 10) dtype=float32, numpy=\n",
       " array([[-0.04006779, -0.01391605,  0.03074928, ..., -0.14765401,\n",
       "         -0.08112212,  0.08397218],\n",
       "        [-0.05578835, -0.03431762, -0.02145029, ..., -0.01069135,\n",
       "          0.02423232,  0.02578785],\n",
       "        [ 0.00986996, -0.05554753,  0.01945293, ...,  0.0410419 ,\n",
       "          0.04472566,  0.06818774],\n",
       "        ...,\n",
       "        [ 0.03070244,  0.08520605, -0.07613306, ...,  0.08943949,\n",
       "          0.04549852, -0.06551663],\n",
       "        [ 0.02887538, -0.00142297, -0.04164332, ...,  0.05371568,\n",
       "         -0.06479549,  0.08529517],\n",
       "        [-0.07207745,  0.1304042 ,  0.07819955, ...,  0.04446277,\n",
       "         -0.0860022 ,  0.00600997]], dtype=float32)>,\n",
       " <tf.Variable 'dense_34/bias:0' shape=(10,) dtype=float32, numpy=\n",
       " array([-0.02312976,  0.00709006,  0.00047261, -0.01750137,  0.01199935,\n",
       "         0.02826852, -0.01089922,  0.01469652, -0.00748693, -0.00033669],\n",
       "       dtype=float32)>]"
      ]
     },
     "execution_count": 119,
     "metadata": {},
     "output_type": "execute_result"
    }
   ],
   "source": [
    "model.weights"
   ]
  },
  {
   "cell_type": "code",
   "execution_count": 124,
   "metadata": {
    "colab": {
     "base_uri": "https://localhost:8080/",
     "height": 346
    },
    "colab_type": "code",
    "id": "E4SdBnTQNlpN",
    "outputId": "f36f6f03-5fe5-45b0-ad6b-7b96fc93ae4f"
   },
   "outputs": [
    {
     "data": {
      "image/png": "[encoded data removed]",
      "text/plain": [
       "<Figure size 432x288 with 1 Axes>"
      ]
     },
     "metadata": {
      "needs_background": "light"
     },
     "output_type": "display_data"
    }
   ],
   "source": [
    "plt.hist(model.get_weights()[2].flatten())\n",
    "plt.xlabel('Weight values')\n",
    "plt.ylabel('Frequency')\n",
    "plt.title('Histogram of weight values in 5 epochs scenario')\n",
    "plt.grid(False)"
   ]
  },
  {
   "cell_type": "code",
   "execution_count": null,
   "metadata": {
    "colab": {},
    "colab_type": "code",
    "id": "u0adRkuNNyez"
   },
   "outputs": [],
   "source": []
  },
  {
   "cell_type": "code",
   "execution_count": 121,
   "metadata": {
    "colab": {
     "base_uri": "https://localhost:8080/",
     "height": 1000
    },
    "colab_type": "code",
    "id": "46Tru0UQNyjV",
    "outputId": "33947a63-7020-47db-945c-9ea9561b5b7f"
   },
   "outputs": [
    {
     "name": "stdout",
     "output_type": "stream",
     "text": [
      "Train on 60000 samples, validate on 10000 samples\n",
      "Epoch 1/20\n",
      "60000/60000 [==============================] - 3s 53us/step - loss: 0.4686 - accuracy: 0.8742 - val_loss: 0.2260 - val_accuracy: 0.9365\n",
      "Epoch 2/20\n",
      "60000/60000 [==============================] - 3s 54us/step - loss: 0.1927 - accuracy: 0.9459 - val_loss: 0.1587 - val_accuracy: 0.9531\n",
      "Epoch 3/20\n",
      "60000/60000 [==============================] - 3s 55us/step - loss: 0.1366 - accuracy: 0.9616 - val_loss: 0.1262 - val_accuracy: 0.9630\n",
      "Epoch 4/20\n",
      "60000/60000 [==============================] - 3s 53us/step - loss: 0.1057 - accuracy: 0.9707 - val_loss: 0.1064 - val_accuracy: 0.9682\n",
      "Epoch 5/20\n",
      "60000/60000 [==============================] - 3s 51us/step - loss: 0.0835 - accuracy: 0.9772 - val_loss: 0.0919 - val_accuracy: 0.9723\n",
      "Epoch 6/20\n",
      "60000/60000 [==============================] - 3s 54us/step - loss: 0.0667 - accuracy: 0.9820 - val_loss: 0.0840 - val_accuracy: 0.9727\n",
      "Epoch 7/20\n",
      "60000/60000 [==============================] - 4s 61us/step - loss: 0.0562 - accuracy: 0.9848 - val_loss: 0.0771 - val_accuracy: 0.9766\n",
      "Epoch 8/20\n",
      "60000/60000 [==============================] - 3s 53us/step - loss: 0.0479 - accuracy: 0.9868 - val_loss: 0.0756 - val_accuracy: 0.9766\n",
      "Epoch 9/20\n",
      "60000/60000 [==============================] - 4s 60us/step - loss: 0.0388 - accuracy: 0.9903 - val_loss: 0.0669 - val_accuracy: 0.9796\n",
      "Epoch 10/20\n",
      "60000/60000 [==============================] - 4s 61us/step - loss: 0.0327 - accuracy: 0.9921 - val_loss: 0.0657 - val_accuracy: 0.9794\n",
      "Epoch 11/20\n",
      "60000/60000 [==============================] - 4s 64us/step - loss: 0.0280 - accuracy: 0.9939 - val_loss: 0.0702 - val_accuracy: 0.9779\n",
      "Epoch 12/20\n",
      "60000/60000 [==============================] - 4s 61us/step - loss: 0.0245 - accuracy: 0.9946 - val_loss: 0.0617 - val_accuracy: 0.9801\n",
      "Epoch 13/20\n",
      "60000/60000 [==============================] - 4s 66us/step - loss: 0.0203 - accuracy: 0.9963 - val_loss: 0.0607 - val_accuracy: 0.9800\n",
      "Epoch 14/20\n",
      "60000/60000 [==============================] - 4s 62us/step - loss: 0.0174 - accuracy: 0.9970 - val_loss: 0.0581 - val_accuracy: 0.9817\n",
      "Epoch 15/20\n",
      "60000/60000 [==============================] - 3s 55us/step - loss: 0.0150 - accuracy: 0.9978 - val_loss: 0.0586 - val_accuracy: 0.9815\n",
      "Epoch 16/20\n",
      "60000/60000 [==============================] - 4s 64us/step - loss: 0.0133 - accuracy: 0.9980 - val_loss: 0.0580 - val_accuracy: 0.9821\n",
      "Epoch 17/20\n",
      "60000/60000 [==============================] - 4s 64us/step - loss: 0.0110 - accuracy: 0.9988 - val_loss: 0.0587 - val_accuracy: 0.9815\n",
      "Epoch 18/20\n",
      "60000/60000 [==============================] - 3s 58us/step - loss: 0.0096 - accuracy: 0.9989 - val_loss: 0.0577 - val_accuracy: 0.9819\n",
      "Epoch 19/20\n",
      "60000/60000 [==============================] - 3s 57us/step - loss: 0.0084 - accuracy: 0.9993 - val_loss: 0.0581 - val_accuracy: 0.9817\n",
      "Epoch 20/20\n",
      "60000/60000 [==============================] - 3s 54us/step - loss: 0.0074 - accuracy: 0.9994 - val_loss: 0.0570 - val_accuracy: 0.9819\n"
     ]
    }
   ],
   "source": [
    "model = Sequential()\n",
    "model.add(Dense(1000,input_dim=784,activation='relu'))\n",
    "model.add(Dense(10,  activation='softmax'))\n",
    "model.compile(loss='categorical_crossentropy', optimizer='adam', metrics=['accuracy'])\n",
    "history = model.fit(X_train, y_train, validation_data=(X_test, y_test), epochs=20, batch_size=1024, verbose=1)"
   ]
  },
  {
   "cell_type": "code",
   "execution_count": 126,
   "metadata": {
    "colab": {
     "base_uri": "https://localhost:8080/",
     "height": 346
    },
    "colab_type": "code",
    "id": "VkzozWsdOt5a",
    "outputId": "5d8a925c-e2d8-4592-cffb-c7c6eca1998e"
   },
   "outputs": [
    {
     "data": {
      "image/png": "[encoded data removed]",
      "text/plain": [
       "<Figure size 432x288 with 1 Axes>"
      ]
     },
     "metadata": {
      "needs_background": "light"
     },
     "output_type": "display_data"
    }
   ],
   "source": [
    "plt.hist(model.get_weights()[2].flatten())\n",
    "plt.xlabel('Weight values')\n",
    "plt.ylabel('Frequency')\n",
    "plt.title('Histogram of weight values in 20 epochs scenario')\n",
    "plt.grid(False)"
   ]
  },
  {
   "cell_type": "markdown",
   "metadata": {
    "colab": {},
    "colab_type": "code",
    "id": "YMitDZ7xOuOo"
   },
   "source": [
    "Once we plot the histogram of weights that are connecting the hidden layer to the output layer, we will notice that the 100-epochs scenario has a higher spread of weights when compared to the five-epochs scenario. You should note that the 100 epochs scenario had a higher dispersion of weight values when compared to the five-epochs scenario. This is because of the higher amount of opportunity that the model had to overfit on top of the training dataset when the model is run for 100-epochs, when compared to when the model is run for five epochs, as the number of weight updates in the 100-epochs scenario is higher than the number of weight updates in the five-epochs scenario."
   ]
  },
  {
   "cell_type": "markdown",
   "metadata": {
    "colab": {},
    "colab_type": "code",
    "id": "fl9Ky7rSO0Zr"
   },
   "source": [
    "A high value of weight (along with a difference in the training and test dataset) is a good indication of a potential over-fitting of the model and/or a potential opportunity to scale input/weights to increase the accuracy of the model."
   ]
  },
  {
   "cell_type": "markdown",
   "metadata": {
    "colab_type": "text",
    "id": "DHcAO4kjv6Yo"
   },
   "source": [
    "# Adding L2 regularization to reduce overfitting"
   ]
  },
  {
   "cell_type": "markdown",
   "metadata": {},
   "source": [
    "Recall that a high weight magnitude is one of the reasons for over-fitting. In this section, we will look into ways to get around the problem of over-fitting, such as penalizing for high weight magnitude values."
   ]
  },
  {
   "cell_type": "code",
   "execution_count": 127,
   "metadata": {
    "colab": {},
    "colab_type": "code",
    "id": "07C9i6lRO0fK"
   },
   "outputs": [],
   "source": [
    "from keras.regularizers import l2"
   ]
  },
  {
   "cell_type": "markdown",
   "metadata": {},
   "source": [
    "Below, we are providing an additional hyperparameter—kernel_regularizer to the model and also specifying whether it is an L1/L2 regularization. Furthermore, we also specify the lambda value that gives the weight to regularization."
   ]
  },
  {
   "cell_type": "code",
   "execution_count": 128,
   "metadata": {
    "colab": {
     "base_uri": "https://localhost:8080/",
     "height": 1000
    },
    "colab_type": "code",
    "id": "2OjmvbdKO0dX",
    "outputId": "a36e8679-288f-4049-8f0a-ef4bcd25f146"
   },
   "outputs": [
    {
     "name": "stdout",
     "output_type": "stream",
     "text": [
      "Train on 60000 samples, validate on 10000 samples\n",
      "Epoch 1/10\n",
      "60000/60000 [==============================] - 4s 65us/step - loss: 3.9421 - accuracy: 0.8459 - val_loss: 1.0500 - val_accuracy: 0.9058\n",
      "Epoch 2/10\n",
      "60000/60000 [==============================] - 3s 53us/step - loss: 0.8329 - accuracy: 0.9039 - val_loss: 0.7231 - val_accuracy: 0.9133\n",
      "Epoch 3/10\n",
      "60000/60000 [==============================] - 3s 52us/step - loss: 0.7308 - accuracy: 0.9079 - val_loss: 0.7048 - val_accuracy: 0.9147\n",
      "Epoch 4/10\n",
      "60000/60000 [==============================] - 3s 52us/step - loss: 0.7189 - accuracy: 0.9087 - val_loss: 0.6951 - val_accuracy: 0.9139\n",
      "Epoch 5/10\n",
      "60000/60000 [==============================] - 3s 52us/step - loss: 0.7139 - accuracy: 0.9100 - val_loss: 0.6921 - val_accuracy: 0.9182\n",
      "Epoch 6/10\n",
      "60000/60000 [==============================] - 3s 57us/step - loss: 0.7120 - accuracy: 0.9098 - val_loss: 0.6901 - val_accuracy: 0.9158\n",
      "Epoch 7/10\n",
      "60000/60000 [==============================] - 4s 70us/step - loss: 0.7102 - accuracy: 0.9110 - val_loss: 0.6892 - val_accuracy: 0.9166\n",
      "Epoch 8/10\n",
      "60000/60000 [==============================] - 4s 62us/step - loss: 0.7063 - accuracy: 0.9109 - val_loss: 0.6850 - val_accuracy: 0.9143\n",
      "Epoch 9/10\n",
      "60000/60000 [==============================] - 4s 59us/step - loss: 0.7053 - accuracy: 0.9112 - val_loss: 0.6857 - val_accuracy: 0.9159\n",
      "Epoch 10/10\n",
      "60000/60000 [==============================] - 4s 59us/step - loss: 0.7037 - accuracy: 0.9115 - val_loss: 0.6859 - val_accuracy: 0.9180\n"
     ]
    }
   ],
   "source": [
    "model = Sequential()\n",
    "model.add(Dense(1000,input_dim=784,activation='relu',kernel_regularizer=l2(0.01)))\n",
    "model.add(Dense(10,  activation='softmax',kernel_regularizer=l2(0.01)))\n",
    "model.compile(loss='categorical_crossentropy', optimizer='adam', metrics=['accuracy'])\n",
    "history = model.fit(X_train, y_train, validation_data=(X_test, y_test), epochs=10, batch_size=1024, verbose=1)"
   ]
  },
  {
   "cell_type": "code",
   "execution_count": 129,
   "metadata": {
    "colab": {
     "base_uri": "https://localhost:8080/",
     "height": 388
    },
    "colab_type": "code",
    "id": "J5fSB79IPl6i",
    "outputId": "58718e0a-8d49-450f-95df-a2939407783b"
   },
   "outputs": [
    {
     "data": {
      "image/png": "[encoded data removed]",
      "text/plain": [
       "<Figure size 432x288 with 1 Axes>"
      ]
     },
     "metadata": {
      "needs_background": "light"
     },
     "output_type": "display_data"
    },
    {
     "data": {
      "image/png": "[encoded data removed]",
      "text/plain": [
       "<Figure size 432x288 with 1 Axes>"
      ]
     },
     "metadata": {
      "needs_background": "light"
     },
     "output_type": "display_data"
    }
   ],
   "source": [
    "history_dict = history.history\n",
    "loss_values = history_dict['loss']\n",
    "val_loss_values = history_dict['val_loss']\n",
    "acc_values = history_dict['accuracy']\n",
    "val_acc_values = history_dict['val_accuracy']\n",
    "epochs = range(1, len(val_loss_values) + 1)\n",
    "\n",
    "import matplotlib.pyplot as plt\n",
    "%matplotlib inline\n",
    "plt.subplot(211)\n",
    "plt.plot(epochs, history.history['loss'], label='Training loss')\n",
    "plt.plot(epochs, val_loss_values, label='Test loss')\n",
    "plt.title('Training and test loss with regularization')\n",
    "plt.xlabel('Epochs')\n",
    "plt.ylabel('Loss')\n",
    "plt.legend()\n",
    "plt.grid(False)\n",
    "plt.show()\n",
    "plt.subplot(212)\n",
    "plt.plot(epochs, history.history['accuracy'], label='Training accuracy')\n",
    "plt.plot(epochs, val_acc_values, label='Test accuracy')\n",
    "plt.title('Training and test accuracy with regularization')\n",
    "plt.xlabel('Epochs')\n",
    "plt.ylabel('Accuracy')\n",
    "plt.gca().set_yticklabels(['{:.0f}%'.format(x*100) for x in plt.gca().get_yticks()]) \n",
    "plt.legend()\n",
    "plt.grid(False)\n",
    "plt.show()"
   ]
  },
  {
   "cell_type": "code",
   "execution_count": 130,
   "metadata": {
    "colab": {
     "base_uri": "https://localhost:8080/",
     "height": 346
    },
    "colab_type": "code",
    "id": "88CFIYq2jmYo",
    "outputId": "166125d6-0576-43a8-c278-da9406ee5fe5"
   },
   "outputs": [
    {
     "data": {
      "image/png": "[encoded data removed]",
      "text/plain": [
       "<Figure size 432x288 with 1 Axes>"
      ]
     },
     "metadata": {
      "needs_background": "light"
     },
     "output_type": "display_data"
    }
   ],
   "source": [
    "import matplotlib.pyplot as plt\n",
    "%matplotlib inline\n",
    "plt.hist(model.get_weights()[2].flatten())\n",
    "plt.xlabel('Weight values')\n",
    "plt.ylabel('Frequency')\n",
    "plt.title('Histogram of weight values when regularization is applied')\n",
    "plt.grid(False)"
   ]
  },
  {
   "cell_type": "markdown",
   "metadata": {
    "colab": {},
    "colab_type": "code",
    "id": "G-YgL0XLjmdF"
   },
   "source": [
    "We notice that, after regularization, the training dataset accuracy does not happen to be at ~100%, while the test data accuracy is at 91%.\n",
    "\n",
    "We also notice that the majority of weights are now much closer to zero when compared to the previous scenario, thus presenting a case to avoid the overfitting issue."
   ]
  },
  {
   "cell_type": "markdown",
   "metadata": {
    "colab_type": "text",
    "id": "Pc4w26FswEPs"
   },
   "source": [
    "# Applying dropout to reduce overfitting"
   ]
  },
  {
   "cell_type": "markdown",
   "metadata": {},
   "source": [
    "In the previous section of overcoming overfitting using regularization, we used L1/ L2 regularization as a means to avoid overfitting. In this section, we will use another tool that is helpful to achieve the same—dropout.\n",
    "\n",
    "Dropout can be considered a way in which only a certain percentage of weights get updated, while the others do not get updated in a given iteration of weight updates. This way, we are in a position where not all weights get updated in a weight update process, thus avoiding certain weights to achieve a very high magnitude when compared to others.\n"
   ]
  },
  {
   "cell_type": "code",
   "execution_count": 149,
   "metadata": {
    "colab": {
     "base_uri": "https://localhost:8080/",
     "height": 374
    },
    "colab_type": "code",
    "id": "dgl4KOFopPj1",
    "outputId": "fddfecf8-c944-47a3-bb34-3a8b78c1139f"
   },
   "outputs": [
    {
     "name": "stdout",
     "output_type": "stream",
     "text": [
      "Train on 60000 samples, validate on 10000 samples\n",
      "Epoch 1/30\n",
      "60000/60000 [==============================] - 3s 48us/step - loss: 1.5249 - accuracy: 0.6330 - val_loss: 0.7584 - val_accuracy: 0.8464\n",
      "Epoch 2/30\n",
      "60000/60000 [==============================] - 2s 32us/step - loss: 0.5990 - accuracy: 0.8537 - val_loss: 0.4278 - val_accuracy: 0.8811\n",
      "Epoch 3/30\n",
      "60000/60000 [==============================] - 2s 33us/step - loss: 0.4007 - accuracy: 0.8861 - val_loss: 0.3443 - val_accuracy: 0.9015\n",
      "Epoch 4/30\n",
      "60000/60000 [==============================] - 2s 33us/step - loss: 0.3353 - accuracy: 0.9025 - val_loss: 0.3043 - val_accuracy: 0.9134\n",
      "Epoch 5/30\n",
      "60000/60000 [==============================] - 2s 33us/step - loss: 0.2963 - accuracy: 0.9147 - val_loss: 0.2738 - val_accuracy: 0.9210\n",
      "Epoch 6/30\n",
      "60000/60000 [==============================] - 2s 33us/step - loss: 0.2679 - accuracy: 0.9232 - val_loss: 0.2506 - val_accuracy: 0.9273\n",
      "Epoch 7/30\n",
      "60000/60000 [==============================] - 2s 33us/step - loss: 0.2457 - accuracy: 0.9306 - val_loss: 0.2324 - val_accuracy: 0.9330\n",
      "Epoch 8/30\n",
      "60000/60000 [==============================] - 2s 34us/step - loss: 0.2275 - accuracy: 0.9359 - val_loss: 0.2174 - val_accuracy: 0.9379\n",
      "Epoch 9/30\n",
      "60000/60000 [==============================] - 2s 33us/step - loss: 0.2119 - accuracy: 0.9405 - val_loss: 0.2043 - val_accuracy: 0.9417\n",
      "Epoch 10/30\n",
      "60000/60000 [==============================] - 2s 35us/step - loss: 0.1984 - accuracy: 0.9443 - val_loss: 0.1940 - val_accuracy: 0.9455\n",
      "Epoch 11/30\n",
      "60000/60000 [==============================] - 2s 36us/step - loss: 0.1861 - accuracy: 0.9484 - val_loss: 0.1830 - val_accuracy: 0.9483\n",
      "Epoch 12/30\n",
      "60000/60000 [==============================] - 2s 37us/step - loss: 0.1755 - accuracy: 0.9512 - val_loss: 0.1737 - val_accuracy: 0.9510\n",
      "Epoch 13/30\n",
      "60000/60000 [==============================] - 2s 35us/step - loss: 0.1652 - accuracy: 0.9546 - val_loss: 0.1654 - val_accuracy: 0.9532\n",
      "Epoch 14/30\n",
      "60000/60000 [==============================] - 2s 35us/step - loss: 0.1561 - accuracy: 0.9568 - val_loss: 0.1591 - val_accuracy: 0.9544\n",
      "Epoch 15/30\n",
      "60000/60000 [==============================] - 2s 35us/step - loss: 0.1482 - accuracy: 0.9589 - val_loss: 0.1512 - val_accuracy: 0.9579\n",
      "Epoch 16/30\n",
      "60000/60000 [==============================] - 2s 36us/step - loss: 0.1401 - accuracy: 0.9614 - val_loss: 0.1450 - val_accuracy: 0.9584\n",
      "Epoch 17/30\n",
      "60000/60000 [==============================] - 2s 36us/step - loss: 0.1331 - accuracy: 0.9635 - val_loss: 0.1382 - val_accuracy: 0.9608\n",
      "Epoch 18/30\n",
      "60000/60000 [==============================] - 3s 43us/step - loss: 0.1263 - accuracy: 0.9657 - val_loss: 0.1343 - val_accuracy: 0.9611\n",
      "Epoch 19/30\n",
      "60000/60000 [==============================] - 3s 43us/step - loss: 0.1205 - accuracy: 0.9677 - val_loss: 0.1301 - val_accuracy: 0.9625\n",
      "Epoch 20/30\n",
      "60000/60000 [==============================] - 3s 45us/step - loss: 0.1147 - accuracy: 0.9689 - val_loss: 0.1245 - val_accuracy: 0.9632\n",
      "Epoch 21/30\n",
      "60000/60000 [==============================] - 3s 43us/step - loss: 0.1092 - accuracy: 0.9709 - val_loss: 0.1207 - val_accuracy: 0.9642\n",
      "Epoch 22/30\n",
      "60000/60000 [==============================] - 2s 40us/step - loss: 0.1043 - accuracy: 0.9719 - val_loss: 0.1166 - val_accuracy: 0.9654\n",
      "Epoch 23/30\n",
      "60000/60000 [==============================] - 2s 35us/step - loss: 0.0998 - accuracy: 0.9733 - val_loss: 0.1128 - val_accuracy: 0.9671\n",
      "Epoch 24/30\n",
      "60000/60000 [==============================] - 2s 36us/step - loss: 0.0951 - accuracy: 0.9747 - val_loss: 0.1094 - val_accuracy: 0.9676\n",
      "Epoch 25/30\n",
      "60000/60000 [==============================] - 2s 35us/step - loss: 0.0910 - accuracy: 0.9761 - val_loss: 0.1062 - val_accuracy: 0.9688\n",
      "Epoch 26/30\n",
      "60000/60000 [==============================] - 2s 35us/step - loss: 0.0870 - accuracy: 0.9772 - val_loss: 0.1048 - val_accuracy: 0.9686\n",
      "Epoch 27/30\n",
      "60000/60000 [==============================] - 2s 35us/step - loss: 0.0836 - accuracy: 0.9782 - val_loss: 0.1015 - val_accuracy: 0.9697\n",
      "Epoch 28/30\n",
      "60000/60000 [==============================] - 2s 35us/step - loss: 0.0800 - accuracy: 0.9792 - val_loss: 0.0981 - val_accuracy: 0.9711\n",
      "Epoch 29/30\n",
      "60000/60000 [==============================] - 2s 35us/step - loss: 0.0767 - accuracy: 0.9803 - val_loss: 0.0963 - val_accuracy: 0.9714\n",
      "Epoch 30/30\n",
      "60000/60000 [==============================] - 2s 35us/step - loss: 0.0735 - accuracy: 0.9813 - val_loss: 0.0942 - val_accuracy: 0.9722\n"
     ]
    }
   ],
   "source": [
    "model_nodrop = Sequential()\n",
    "model_nodrop.add(Dense(1000, input_dim=784, activation='relu'))\n",
    "model_nodrop.add(Dense(10,  activation='softmax'))\n",
    "model_nodrop.compile(loss='categorical_crossentropy', optimizer='adam', metrics=['accuracy'])\n",
    "history_nodrop = model_nodrop.fit(X_train, y_train, validation_data=(X_test, y_test), epochs=30, batch_size=10000, verbose=1)"
   ]
  },
  {
   "cell_type": "code",
   "execution_count": null,
   "metadata": {
    "colab": {},
    "colab_type": "code",
    "id": "5WzUH8HXjmgp"
   },
   "outputs": [],
   "source": [
    "from keras.layers import Dropout, Activation"
   ]
  },
  {
   "cell_type": "markdown",
   "metadata": {},
   "source": [
    "\n",
    "Below, we are giving a dropout of 0.75; that is, randomly, 75% of weights do not get updated in a certain weight update iteration."
   ]
  },
  {
   "cell_type": "code",
   "execution_count": 147,
   "metadata": {
    "colab": {
     "base_uri": "https://localhost:8080/",
     "height": 1000
    },
    "colab_type": "code",
    "id": "Y-bbz-fhTe61",
    "outputId": "84f012f1-4119-4cd6-c0c0-8c498f9d12ab"
   },
   "outputs": [
    {
     "name": "stdout",
     "output_type": "stream",
     "text": [
      "Train on 60000 samples, validate on 10000 samples\n",
      "Epoch 1/30\n",
      "60000/60000 [==============================] - 3s 53us/step - loss: 1.7258 - accuracy: 0.4502 - val_loss: 0.8541 - val_accuracy: 0.8333\n",
      "Epoch 2/30\n",
      "60000/60000 [==============================] - 2s 41us/step - loss: 0.7907 - accuracy: 0.7745 - val_loss: 0.4638 - val_accuracy: 0.8750\n",
      "Epoch 3/30\n",
      "60000/60000 [==============================] - 2s 41us/step - loss: 0.5399 - accuracy: 0.8349 - val_loss: 0.3623 - val_accuracy: 0.8978\n",
      "Epoch 4/30\n",
      "60000/60000 [==============================] - 3s 46us/step - loss: 0.4423 - accuracy: 0.8661 - val_loss: 0.3176 - val_accuracy: 0.9099\n",
      "Epoch 5/30\n",
      "60000/60000 [==============================] - 3s 43us/step - loss: 0.3830 - accuracy: 0.8843 - val_loss: 0.2855 - val_accuracy: 0.9198\n",
      "Epoch 6/30\n",
      "60000/60000 [==============================] - 3s 42us/step - loss: 0.3419 - accuracy: 0.8992 - val_loss: 0.2635 - val_accuracy: 0.9251\n",
      "Epoch 7/30\n",
      "60000/60000 [==============================] - 2s 41us/step - loss: 0.3144 - accuracy: 0.9084 - val_loss: 0.2454 - val_accuracy: 0.9300\n",
      "Epoch 8/30\n",
      "60000/60000 [==============================] - 3s 42us/step - loss: 0.2914 - accuracy: 0.9165 - val_loss: 0.2281 - val_accuracy: 0.9343\n",
      "Epoch 9/30\n",
      "60000/60000 [==============================] - 3s 42us/step - loss: 0.2734 - accuracy: 0.9214 - val_loss: 0.2140 - val_accuracy: 0.9372\n",
      "Epoch 10/30\n",
      "60000/60000 [==============================] - 3s 42us/step - loss: 0.2574 - accuracy: 0.9251 - val_loss: 0.2015 - val_accuracy: 0.9408\n",
      "Epoch 11/30\n",
      "60000/60000 [==============================] - 3s 42us/step - loss: 0.2448 - accuracy: 0.9291 - val_loss: 0.1923 - val_accuracy: 0.9438\n",
      "Epoch 12/30\n",
      "60000/60000 [==============================] - 3s 42us/step - loss: 0.2345 - accuracy: 0.9319 - val_loss: 0.1830 - val_accuracy: 0.9452\n",
      "Epoch 13/30\n",
      "60000/60000 [==============================] - 3s 42us/step - loss: 0.2243 - accuracy: 0.9353 - val_loss: 0.1755 - val_accuracy: 0.9483\n",
      "Epoch 14/30\n",
      "60000/60000 [==============================] - 3s 42us/step - loss: 0.2134 - accuracy: 0.9388 - val_loss: 0.1676 - val_accuracy: 0.9516\n",
      "Epoch 15/30\n",
      "60000/60000 [==============================] - 3s 42us/step - loss: 0.2042 - accuracy: 0.9420 - val_loss: 0.1614 - val_accuracy: 0.9533\n",
      "Epoch 16/30\n",
      "60000/60000 [==============================] - 3s 42us/step - loss: 0.1970 - accuracy: 0.9434 - val_loss: 0.1548 - val_accuracy: 0.9554\n",
      "Epoch 17/30\n",
      "60000/60000 [==============================] - 2s 42us/step - loss: 0.1910 - accuracy: 0.9460 - val_loss: 0.1507 - val_accuracy: 0.9558\n",
      "Epoch 18/30\n",
      "60000/60000 [==============================] - 2s 42us/step - loss: 0.1830 - accuracy: 0.9475 - val_loss: 0.1450 - val_accuracy: 0.9578\n",
      "Epoch 19/30\n",
      "60000/60000 [==============================] - 3s 42us/step - loss: 0.1788 - accuracy: 0.9486 - val_loss: 0.1410 - val_accuracy: 0.9590\n",
      "Epoch 20/30\n",
      "60000/60000 [==============================] - 3s 42us/step - loss: 0.1709 - accuracy: 0.9511 - val_loss: 0.1367 - val_accuracy: 0.9602\n",
      "Epoch 21/30\n",
      "60000/60000 [==============================] - 3s 42us/step - loss: 0.1684 - accuracy: 0.9523 - val_loss: 0.1323 - val_accuracy: 0.9611\n",
      "Epoch 22/30\n",
      "60000/60000 [==============================] - 2s 41us/step - loss: 0.1630 - accuracy: 0.9528 - val_loss: 0.1286 - val_accuracy: 0.9623\n",
      "Epoch 23/30\n",
      "60000/60000 [==============================] - 2s 41us/step - loss: 0.1576 - accuracy: 0.9550 - val_loss: 0.1251 - val_accuracy: 0.9637\n",
      "Epoch 24/30\n",
      "60000/60000 [==============================] - 2s 41us/step - loss: 0.1535 - accuracy: 0.9562 - val_loss: 0.1219 - val_accuracy: 0.9645\n",
      "Epoch 25/30\n",
      "60000/60000 [==============================] - 3s 42us/step - loss: 0.1482 - accuracy: 0.9573 - val_loss: 0.1190 - val_accuracy: 0.9651\n",
      "Epoch 26/30\n",
      "60000/60000 [==============================] - 2s 41us/step - loss: 0.1454 - accuracy: 0.9574 - val_loss: 0.1163 - val_accuracy: 0.9662\n",
      "Epoch 27/30\n",
      "60000/60000 [==============================] - 2s 42us/step - loss: 0.1417 - accuracy: 0.9592 - val_loss: 0.1140 - val_accuracy: 0.9666\n",
      "Epoch 28/30\n",
      "60000/60000 [==============================] - 2s 42us/step - loss: 0.1381 - accuracy: 0.9598 - val_loss: 0.1109 - val_accuracy: 0.9675\n",
      "Epoch 29/30\n",
      "60000/60000 [==============================] - 2s 41us/step - loss: 0.1358 - accuracy: 0.9611 - val_loss: 0.1091 - val_accuracy: 0.9679\n",
      "Epoch 30/30\n",
      "60000/60000 [==============================] - 2s 41us/step - loss: 0.1309 - accuracy: 0.9623 - val_loss: 0.1068 - val_accuracy: 0.9690\n"
     ]
    }
   ],
   "source": [
    "model_drop = Sequential()\n",
    "model_drop.add(Dense(1000, input_dim=784, activation='relu'))\n",
    "model_drop.add(Dropout(0.75))\n",
    "model_drop.add(Dense(10,  activation='softmax'))\n",
    "model_drop.compile(loss='categorical_crossentropy', optimizer='adam', metrics=['accuracy'])\n",
    "history_drop = model_drop.fit(X_train, y_train, validation_data=(X_test, y_test), epochs=30, batch_size=10000, verbose=1)"
   ]
  },
  {
   "cell_type": "code",
   "execution_count": 151,
   "metadata": {
    "colab": {
     "base_uri": "https://localhost:8080/",
     "height": 294
    },
    "colab_type": "code",
    "id": "gDYiLlRLj9Bf",
    "outputId": "7dbf2a15-acf0-4298-f05c-949ac6aa0d50"
   },
   "outputs": [
    {
     "data": {
      "image/png": "[encoded data removed]",
      "text/plain": [
       "<Figure size 432x288 with 1 Axes>"
      ]
     },
     "metadata": {
      "needs_background": "light"
     },
     "output_type": "display_data"
    },
    {
     "data": {
      "image/png": "[encoded data removed]",
      "text/plain": [
       "<Figure size 432x288 with 1 Axes>"
      ]
     },
     "metadata": {
      "needs_background": "light"
     },
     "output_type": "display_data"
    }
   ],
   "source": [
    "\n",
    "import matplotlib.pyplot as plt\n",
    "%matplotlib inline\n",
    "plt.subplot(211)\n",
    "plt.plot(history_nodrop.history['accuracy'])\n",
    "plt.plot(history_nodrop.history['val_accuracy'])\n",
    "plt.title('model accuracy without drop off')\n",
    "plt.ylabel('accuracy')\n",
    "plt.xlabel('epoch')\n",
    "plt.legend(['train', 'test'], loc='lower right')\n",
    "plt.show()\n",
    "plt.subplot(212)\n",
    "plt.plot(history_drop.history['accuracy'])\n",
    "plt.plot(history_drop.history['val_accuracy'])\n",
    "plt.title('model accuracy with drop off')\n",
    "plt.ylabel('accuracy')\n",
    "plt.xlabel('epoch')\n",
    "plt.legend(['train', 'test'], loc='lower right')\n",
    "plt.show()"
   ]
  },
  {
   "cell_type": "code",
   "execution_count": null,
   "metadata": {
    "colab": {},
    "colab_type": "code",
    "id": "e4S-d9frqccr"
   },
   "outputs": [],
   "source": []
  },
  {
   "cell_type": "markdown",
   "metadata": {
    "colab_type": "text",
    "id": "YwiyAZZYwTur"
   },
   "source": [
    "# Adding batch normalization"
   ]
  },
  {
   "cell_type": "markdown",
   "metadata": {},
   "source": [
    "We learned that optimization is slow when the input data is not scaled (that is, it is not between zero and one). \n",
    "\n",
    "The hidden layer value could be high in the following scenarios:\n",
    "\n",
    "- Input data values are high\n",
    "- Weight values are high\n",
    "- The multiplication of weight and input are high\n",
    "Any of these scenarios can result in a large output value on the hidden layer.\n",
    "\n",
    "Note that the hidden layer is the input layer to output layer. Hence, the phenomenon of high input values resulting in a slow optimization holds true when hidden layer values are large as well.\n",
    "\n",
    "To increase the stability of a neural network, batch normalization normalizes the output of a previous activation layer by subtracting the batch mean and dividing by the batch standard deviation.\n",
    "\n",
    "However, after this shift/scale of activation outputs by some randomly initialized parameters, the weights in the next layer are no longer optimal. SGD ( Stochastic gradient descent) undoes this normalization if it’s a way for it to minimize the loss function.\n",
    "\n",
    "Consequently, batch normalization adds two trainable parameters to each layer, so the normalized output is multiplied by a “standard deviation” parameter (gamma) and add a “mean” parameter (beta). In other words, batch normalization lets SGD do the denormalization by changing only these two weights for each activation, instead of losing the stability of the network by changing all the weights."
   ]
  },
  {
   "cell_type": "markdown",
   "metadata": {},
   "source": [
    "$$\\text{Batch mean: } \\mu_B=\\frac{1}{m}\\sum_{i=1}^{m} x_i$$\n",
    "$$\\text{Batch variance: } \\sigma^2_B=\\frac{1}{m}\\sum_{i=1}^{m} (x_i-\\mu_B)^2$$\n",
    "$$\\overline{x}_i=\\frac{x_i-\\mu_b}{\\sqrt{\\sigma^2_B+\\epsilon}}$$\n",
    "$$y_i=\\gamma \\overline{x}_i + \\beta $$"
   ]
  },
  {
   "cell_type": "code",
   "execution_count": 9,
   "metadata": {
    "colab": {},
    "colab_type": "code",
    "id": "m-sHn3wCqci8"
   },
   "outputs": [],
   "source": [
    "from keras.layers.normalization import BatchNormalization\n",
    "from keras.regularizers import l2"
   ]
  },
  {
   "cell_type": "markdown",
   "metadata": {},
   "source": [
    "The only addition to the model is that we perform batch normalization in a hidden layer."
   ]
  },
  {
   "cell_type": "code",
   "execution_count": 10,
   "metadata": {},
   "outputs": [],
   "source": [
    "model_nobatch = Sequential()\n",
    "model_nobatch.add(Dense(1000, input_dim=784,activation='relu', kernel_regularizer = l2(0.01)))\n",
    "model_nobatch.add(Dense(10,  activation='softmax', kernel_regularizer = l2(0.01)))\n",
    "from keras.optimizers import Adam\n",
    "#adam = Adam(lr = 0.01)\n",
    "model_nobatch.compile(loss='categorical_crossentropy', optimizer='adam', metrics=['accuracy'])\n",
    "history_nobatch = model_nobatch.fit(X_train, y_train, validation_data=(X_test, y_test), epochs=10, batch_size=1024, verbose=0)"
   ]
  },
  {
   "cell_type": "code",
   "execution_count": 163,
   "metadata": {
    "colab": {
     "base_uri": "https://localhost:8080/",
     "height": 3434
    },
    "colab_type": "code",
    "id": "SEtPeuB8qcnO",
    "outputId": "0d9f5e26-ae05-44d8-f483-5bdf57623d05"
   },
   "outputs": [],
   "source": [
    "model_batch = Sequential()\n",
    "model_batch.add(Dense(1000, input_dim=784,activation='relu', kernel_regularizer = l2(0.01)))\n",
    "model_batch.add(BatchNormalization())\n",
    "model_batch.add(Dense(10,  activation='softmax', kernel_regularizer = l2(0.01)))\n",
    "from keras.optimizers import Adam\n",
    "#adam = Adam(lr = 0.01)\n",
    "model_batch.compile(loss='categorical_crossentropy', optimizer='adam', metrics=['accuracy'])\n",
    "history_batch = model_batch.fit(X_train, y_train, validation_data=(X_test, y_test), epochs=10, batch_size=1024, verbose=0)"
   ]
  },
  {
   "cell_type": "code",
   "execution_count": 164,
   "metadata": {
    "colab": {
     "base_uri": "https://localhost:8080/",
     "height": 335
    },
    "colab_type": "code",
    "id": "H31OmOGjL3mj",
    "outputId": "ac828561-5a27-4d5f-ee91-d044fcf00960"
   },
   "outputs": [
    {
     "data": {
      "image/png": "[encoded data removed]",
      "text/plain": [
       "<Figure size 432x288 with 1 Axes>"
      ]
     },
     "metadata": {
      "needs_background": "light"
     },
     "output_type": "display_data"
    },
    {
     "data": {
      "image/png": "[encoded data removed]",
      "text/plain": [
       "<Figure size 432x288 with 1 Axes>"
      ]
     },
     "metadata": {
      "needs_background": "light"
     },
     "output_type": "display_data"
    }
   ],
   "source": [
    "import matplotlib.pyplot as plt\n",
    "%matplotlib inline\n",
    "plt.subplot(211)\n",
    "plt.plot(history_nobatch.history['accuracy'])\n",
    "plt.plot(history_nobatch.history['val_accuracy'])\n",
    "plt.title('model accuracy without batch normalization')\n",
    "plt.ylabel('accuracy')\n",
    "plt.xlabel('epoch')\n",
    "plt.legend(['train', 'test'], loc='lower right')\n",
    "plt.show()\n",
    "plt.subplot(212)\n",
    "plt.plot(history_batch.history['accuracy'])\n",
    "plt.plot(history_batch.history['val_accuracy'])\n",
    "plt.title('model accuracy with batch normalization')\n",
    "plt.ylabel('accuracy')\n",
    "plt.xlabel('epoch')\n",
    "plt.legend(['train', 'test'], loc='lower right')\n",
    "plt.show()"
   ]
  },
  {
   "cell_type": "markdown",
   "metadata": {},
   "source": [
    "We see much faster training when we perform batch normalization (test dataset accuracy of ~97%) than compared to when we don't (test dataset accuracy of ~91%).\n",
    "\n",
    "Thus, batch normalization results in much quicker training."
   ]
  },
  {
   "cell_type": "code",
   "execution_count": 139,
   "metadata": {
    "colab": {
     "base_uri": "https://localhost:8080/",
     "height": 294
    },
    "colab_type": "code",
    "id": "keLoH4eXqcgu",
    "outputId": "32819559-be79-4dd1-ea58-78e9e7790a98"
   },
   "outputs": [
    {
     "data": {
      "image/png": "[encoded data removed]",
      "text/plain": [
       "<Figure size 432x288 with 1 Axes>"
      ]
     },
     "metadata": {
      "needs_background": "light"
     },
     "output_type": "display_data"
    }
   ],
   "source": [
    "plt.hist(model.get_weights()[-2].flatten())\n",
    "plt.xlabel('Weight values')\n",
    "plt.ylabel('Frequency')\n",
    "plt.title('Histogram of weight values when batch normalization is applied')\n",
    "plt.grid('off')"
   ]
  },
  {
   "cell_type": "code",
   "execution_count": null,
   "metadata": {},
   "outputs": [],
   "source": []
  }
 ],
 "metadata": {
  "accelerator": "GPU",
  "colab": {
   "collapsed_sections": [],
   "name": "Neural_network_hyper_parameters.ipynb",
   "provenance": []
  },
  "kernelspec": {
   "display_name": "Python 3",
   "language": "python",
   "name": "python3"
  },
  "language_info": {
   "codemirror_mode": {
    "name": "ipython",
    "version": 3
   },
   "file_extension": ".py",
   "mimetype": "text/x-python",
   "name": "python",
   "nbconvert_exporter": "python",
   "pygments_lexer": "ipython3",
   "version": "3.7.6"
  }
 },
 "nbformat": 4,
 "nbformat_minor": 4
}
