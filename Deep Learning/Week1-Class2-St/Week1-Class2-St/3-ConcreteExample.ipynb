{
 "cells": [
  {
   "cell_type": "markdown",
   "metadata": {},
   "source": [
    "Concrete is the most important material in civil engineering. Its compressive strength is a highly nonlinear function of age and ingredients. These ingredients include cement, blast furnace slag, fly ash, water, superplasticizer, coarse aggregate, and fine aggregate. The test to calculate compressive strength is carried out on either a concrete cube or cylinder through the use of a compression testing machine (2,000 kilonewtons). The test is destructive and takes a long time, so the possibility of predicting the compressive strength takes on significant importance. \n",
    "\n",
    "The data is available at http://archive.ics.uci.edu/ml/datasets/concrete+compressive+strength"
   ]
  },
  {
   "cell_type": "code",
   "execution_count": 1,
   "metadata": {},
   "outputs": [
    {
     "name": "stderr",
     "output_type": "stream",
     "text": [
      "Using TensorFlow backend.\n"
     ]
    }
   ],
   "source": [
    "import numpy as np\n",
    "import pandas as pd\n",
    "from keras.models import Sequential\n",
    "from keras.layers import Dense\n",
    "from keras.wrappers.scikit_learn import KerasRegressor\n",
    "from sklearn.model_selection import cross_val_score\n",
    "from sklearn.model_selection import KFold\n",
    "from sklearn.preprocessing import StandardScaler, MinMaxScaler\n",
    "from sklearn.pipeline import Pipeline\n",
    "from sklearn import metrics"
   ]
  },
  {
   "cell_type": "markdown",
   "metadata": {},
   "source": [
    "### 1. Load Dataset and split into Input and Output"
   ]
  },
  {
   "cell_type": "code",
   "execution_count": 2,
   "metadata": {},
   "outputs": [
    {
     "name": "stdout",
     "output_type": "stream",
     "text": [
      "    Cement    BFS  FLA  Water   SP      CA     FA  Age        CCS\n",
      "0    540.0    0.0  0.0  162.0  2.5  1055.0  676.0   28  61.887366\n",
      "1    332.5  142.5  0.0  228.0  0.0   932.0  594.0  270  40.269535\n",
      "2    332.5  142.5  0.0  228.0  0.0   932.0  594.0  365  41.052780\n",
      "3    198.6  132.4  0.0  192.0  0.0   978.4  825.5  360  44.296075\n",
      "4    266.0  114.0  0.0  228.0  0.0   932.0  670.0   90  47.029847\n",
      "5    380.0   95.0  0.0  228.0  0.0   932.0  594.0  365  43.698299\n",
      "6    380.0   95.0  0.0  228.0  0.0   932.0  594.0   28  36.447770\n",
      "7    266.0  114.0  0.0  228.0  0.0   932.0  670.0   28  45.854291\n",
      "8    475.0    0.0  0.0  228.0  0.0   932.0  594.0   28  39.289790\n",
      "9    198.6  132.4  0.0  192.0  0.0   978.4  825.5   90  38.074244\n",
      "10   198.6  132.4  0.0  192.0  0.0   978.4  825.5   28  28.021684\n",
      "11   427.5   47.5  0.0  228.0  0.0   932.0  594.0  270  43.012960\n",
      "12   190.0  190.0  0.0  228.0  0.0   932.0  670.0   90  42.326932\n",
      "13   304.0   76.0  0.0  228.0  0.0   932.0  670.0   28  47.813782\n",
      "14   380.0    0.0  0.0  228.0  0.0   932.0  670.0   90  52.908320\n",
      "15   139.6  209.4  0.0  192.0  0.0  1047.0  806.9   90  39.358048\n",
      "16   342.0   38.0  0.0  228.0  0.0   932.0  670.0  365  56.141962\n",
      "17   380.0   95.0  0.0  228.0  0.0   932.0  594.0   90  40.563252\n",
      "18   475.0    0.0  0.0  228.0  0.0   932.0  594.0  180  42.620648\n",
      "19   427.5   47.5  0.0  228.0  0.0   932.0  594.0  180  41.836714\n",
      "<class 'pandas.core.frame.DataFrame'>\n",
      "RangeIndex: 1029 entries, 0 to 1028\n",
      "Data columns (total 9 columns):\n",
      "Cement    1029 non-null float64\n",
      "BFS       1029 non-null float64\n",
      "FLA       1029 non-null float64\n",
      "Water     1029 non-null float64\n",
      "SP        1029 non-null float64\n",
      "CA        1029 non-null float64\n",
      "FA        1029 non-null float64\n",
      "Age       1029 non-null int64\n",
      "CCS       1029 non-null float64\n",
      "dtypes: float64(8), int64(1)\n",
      "memory usage: 72.5 KB\n",
      "None\n",
      "            Cement          BFS          FLA        Water           SP  \\\n",
      "count  1029.000000  1029.000000  1029.000000  1029.000000  1029.000000   \n",
      "mean    280.914091    73.967298    54.239796   181.585374     6.206710   \n",
      "std     104.245542    86.290255    64.005258    21.357226     5.975279   \n",
      "min     102.000000     0.000000     0.000000   121.750000     0.000000   \n",
      "25%     192.000000     0.000000     0.000000   164.900000     0.000000   \n",
      "50%     272.800000    22.000000     0.000000   185.000000     6.350000   \n",
      "75%     350.000000   143.000000   118.270000   192.000000    10.160000   \n",
      "max     540.000000   359.400000   200.100000   247.000000    32.200000   \n",
      "\n",
      "                CA           FA          Age          CCS  \n",
      "count  1029.000000  1029.000000  1029.000000  1029.000000  \n",
      "mean    972.853401   773.673712    45.679300    35.774912  \n",
      "std      77.763459    80.156602    63.198226    16.656880  \n",
      "min     801.000000   594.000000     1.000000     2.331808  \n",
      "25%     932.000000   732.600000     7.000000    23.696601  \n",
      "50%     968.000000   779.700000    28.000000    34.397958  \n",
      "75%    1029.400000   824.000000    56.000000    45.939786  \n",
      "max    1145.000000   992.600000   365.000000    82.599225  \n"
     ]
    }
   ],
   "source": [
    "# load dataset\n",
    "HDNames= ['Cement','BFS','FLA','Water','SP','CA','FA','Age','CCS']\n",
    "Data = pd.read_excel('3-ConcreteData.xlsx', names=HDNames)\n",
    "print(Data.head(20))\n",
    "print(Data.info())\n",
    "summary = Data.describe()\n",
    "print(summary)\n"
   ]
  },
  {
   "cell_type": "code",
   "execution_count": null,
   "metadata": {},
   "outputs": [],
   "source": []
  },
  {
   "cell_type": "markdown",
   "metadata": {},
   "source": [
    "### 2. Create a Baseline Model with one hidden layer\n",
    "\n",
    "Use Keras wrapper class, you can also try without the wrapper class."
   ]
  },
  {
   "cell_type": "markdown",
   "metadata": {},
   "source": [
    "### 3. Incorporate a Pipeline to your Baseline Model\n",
    "Standardize your data and then evaluate your model using `kfold` and `cros_val_score`."
   ]
  },
  {
   "cell_type": "markdown",
   "metadata": {},
   "source": [
    "### 4. Repeat Step 3 with a Deeper Network\n",
    "Add another hidden layer, and then repeat Step 4 after increase the width of one of the hidden layers"
   ]
  },
  {
   "cell_type": "code",
   "execution_count": null,
   "metadata": {},
   "outputs": [],
   "source": []
  }
 ],
 "metadata": {
  "kernelspec": {
   "display_name": "Python 3",
   "language": "python",
   "name": "python3"
  },
  "language_info": {
   "codemirror_mode": {
    "name": "ipython",
    "version": 3
   },
   "file_extension": ".py",
   "mimetype": "text/x-python",
   "name": "python",
   "nbconvert_exporter": "python",
   "pygments_lexer": "ipython3",
   "version": "3.7.6"
  }
 },
 "nbformat": 4,
 "nbformat_minor": 4
}
