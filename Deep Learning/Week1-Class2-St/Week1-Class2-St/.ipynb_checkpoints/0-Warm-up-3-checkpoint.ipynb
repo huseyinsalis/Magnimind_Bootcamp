{
 "cells": [
  {
   "cell_type": "code",
   "execution_count": 1,
   "metadata": {},
   "outputs": [
    {
     "name": "stdout",
     "output_type": "stream",
     "text": [
      "Number of Examples in the Dataset =  908\n",
      "Number of Features for each example =  6\n",
      "Output Range = [0.053000, 9.612000]\n"
     ]
    }
   ],
   "source": [
    "# import data\n",
    "import pandas as pd\n",
    "import numpy as np\n",
    "\n",
    "colnames = ['CIC0', 'SM1_Dz(Z)', 'GATS1i', 'NdsCH', 'NdssC','MLOGP', 'LC50']\n",
    "data = pd.read_csv('0-fish_toxicity.csv', sep=';', names=colnames)\n",
    "X = data.drop('LC50', axis=1)\n",
    "y = data['LC50']\n",
    "\n",
    "# Print the sizes of the dataset\n",
    "\n",
    "# print output range (min and max), just to determine if the model should be a classification or regression\n",
    "# In this example, let us not split data into train and test datasets\n"
   ]
  },
  {
   "cell_type": "code",
   "execution_count": 2,
   "metadata": {},
   "outputs": [
    {
     "name": "stderr",
     "output_type": "stream",
     "text": [
      "Using TensorFlow backend.\n"
     ]
    }
   ],
   "source": [
    "# Defne the Keras models\n",
    "from keras.models import Sequential\n",
    "from keras.layers import Dense\n",
    "\n",
    "# Create the functions that returns the keras models, \n",
    "# model1: \n",
    "   #use one input layer with 4 nodes and one output layer with a single node\n",
    "   # Use `mean_suared_error` for loss and `adam` for optimizer\n",
    "\n",
    "# model2: \n",
    "   #use one input layer with 8 nodes and one output layer with a single node\n",
    "   # Use `mean_suared_error` for loss and `adam` for optimizer\n",
    "\n",
    "# model3: \n",
    "   #use one input layer with 4 nodes, one hidden layer of 2 nodes, and one output layer with a single node\n",
    "   # Use `mean_suared_error` for loss and `adam` for optimizer\n",
    "\n",
    "#Use relu for intermediate layers and no activation for the output\n",
    "\n"
   ]
  },
  {
   "cell_type": "code",
   "execution_count": 3,
   "metadata": {},
   "outputs": [],
   "source": [
    "# define a seed for random number generator so the result will be reproducible\n",
    "from tensorflow import random \n",
    "seed = 1\n",
    "np.random.seed(seed)\n",
    "random.set_seed(seed)\n",
    "\n",
    "# perform cross validation on each model, you can create a empty list for results, i.e., `results=[]`, and\n",
    "#another list for the three models you built. you can iterate through the three models in a for loop\n",
    "#and record the results\n",
    "from keras.wrappers.scikit_learn import KerasRegressor\n",
    "from sklearn.model_selection import KFold\n",
    "from sklearn.model_selection import cross_val_score\n"
   ]
  },
  {
   "cell_type": "code",
   "execution_count": 4,
   "metadata": {},
   "outputs": [
    {
     "name": "stdout",
     "output_type": "stream",
     "text": [
      "Cross Validation Loss for Model 1 = 1.0304891858847403\n",
      "Cross Validation Loss for Model 2 = 0.9583476809877253\n",
      "Cross Validation Loss for Model 3 = 1.7218542151593959\n"
     ]
    }
   ],
   "source": [
    "# print the cross validation scores for three models one by one\n"
   ]
  },
  {
   "cell_type": "code",
   "execution_count": 5,
   "metadata": {},
   "outputs": [],
   "source": [
    "# define a seed for random number generator so the result will be reproducible\n",
    "np.random.seed(seed)\n",
    "random.set_seed(seed)\n",
    "# Create a new empty list for results\n",
    "results_2 = []\n",
    "epochs = [100, 150]\n",
    "batches = [20, 15]\n",
    "\n",
    "# Loop over pairs of epochs and batch_size for the second model you created above\n"
   ]
  },
  {
   "cell_type": "code",
   "execution_count": 6,
   "metadata": {},
   "outputs": [
    {
     "name": "stdout",
     "output_type": "stream",
     "text": [
      "batch_size = 20 , epochs = 100 , Test Loss = 0.9574524474039251\n",
      "batch_size = 15 , epochs = 100 , Test Loss = 0.9478728140969382\n",
      "batch_size = 20 , epochs = 150 , Test Loss = 0.8896153777520778\n",
      "batch_size = 15 , epochs = 150 , Test Loss = 0.9501340622995701\n"
     ]
    }
   ],
   "source": [
    "# Print cross validation score for each possible pair of epochs, batch_size\n"
   ]
  },
  {
   "cell_type": "code",
   "execution_count": 7,
   "metadata": {},
   "outputs": [],
   "source": [
    "# Modify build_model_2 function so that activation and optimizer becomes parameters to the model\n",
    "# create a new empty list to hold the results\n",
    "\n",
    "\n",
    "results_3 = []\n",
    "activations = ['relu', 'tanh']\n",
    "optimizers = ['sgd', 'adam', 'rmsprop']\n",
    "\n",
    "# define a seed for random number generator so the result will be reproducible\n",
    "np.random.seed(seed)\n",
    "random.set_seed(seed)\n",
    "# Loop over pairs of activation and optimizer\n"
   ]
  },
  {
   "cell_type": "code",
   "execution_count": 8,
   "metadata": {},
   "outputs": [
    {
     "name": "stdout",
     "output_type": "stream",
     "text": [
      "activation =  relu , optimizer =  sgd , Test Loss =  0.9575929883722436\n",
      "activation =  tanh , optimizer =  sgd , Test Loss =  0.9583991325450517\n",
      "activation =  relu , optimizer =  adam , Test Loss =  0.9003895352626167\n",
      "activation =  tanh , optimizer =  adam , Test Loss =  0.9860042032158066\n",
      "activation =  relu , optimizer =  rmsprop , Test Loss =  0.9364833819585648\n",
      "activation =  tanh , optimizer =  rmsprop , Test Loss =  0.9719708495282869\n"
     ]
    }
   ],
   "source": [
    "# Print cross validation score for each possible pair of optimizer, activation\n"
   ]
  }
 ],
 "metadata": {
  "kernelspec": {
   "display_name": "Python 3",
   "language": "python",
   "name": "python3"
  },
  "language_info": {
   "codemirror_mode": {
    "name": "ipython",
    "version": 3
   },
   "file_extension": ".py",
   "mimetype": "text/x-python",
   "name": "python",
   "nbconvert_exporter": "python",
   "pygments_lexer": "ipython3",
   "version": "3.7.4"
  }
 },
 "nbformat": 4,
 "nbformat_minor": 4
}
