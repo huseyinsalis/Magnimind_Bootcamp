{
 "cells": [
  {
   "cell_type": "code",
   "execution_count": 1,
   "metadata": {},
   "outputs": [
    {
     "name": "stdout",
     "output_type": "stream",
     "text": [
      "The data size is: (908, 6)\n",
      "Output range=[0.053,9.612]\n"
     ]
    }
   ],
   "source": [
    "# import data\n",
    "import pandas as pd\n",
    "\n",
    "colnames = ['CIC0', 'SM1_Dz(Z)', 'GATS1i', 'NdsCH', 'NdssC','MLOGP', 'LC50']\n",
    "data = pd.read_csv('0-fish_toxicity.csv', sep=';', names=colnames)\n",
    "X = data.drop('LC50', axis=1)\n",
    "y = data['LC50']\n",
    "\n",
    "\n",
    "\n",
    "# Print the sizes of the dataset\n",
    "print('The data size is:',X.shape)\n",
    "\n",
    "# print output range (min and max), just to determine if the model should be a classification or regression\n",
    "# In this example, let us not split data into train and test datasets\n",
    "print('Output range=[{},{}]'.format(min(y),max(y)))"
   ]
  },
  {
   "cell_type": "code",
   "execution_count": 7,
   "metadata": {},
   "outputs": [],
   "source": [
    "from keras.models import Sequential\n",
    "from keras.layers import Dense, Activation\n",
    "# Create the function that returns the keras model, \n",
    "#use one input layer with 8 nodes and one output layer with a single node\n",
    "# Use `mean_squared_error` for loss and `adam` for optimizer\n",
    "def model1():\n",
    "    model=Sequential()\n",
    "    model.add(Dense(8,input_dim=X.shape[1],activation='relu'))\n",
    "    model.add(Dense(1))\n",
    "    model.compile(loss='mean_squared_error',optimizer='adam')\n",
    "    return model"
   ]
  },
  {
   "cell_type": "code",
   "execution_count": 8,
   "metadata": {},
   "outputs": [],
   "source": [
    "# build the scikit-Learn interface for the keras model\n",
    "# Use 100 epochs, and a batch size of 20\n",
    "from keras.wrappers.scikit_learn import KerasRegressor\n",
    "from tensorflow import random\n",
    "import numpy as np\n",
    "seed = 1\n",
    "np.random.seed(seed)\n",
    "random.set_seed(seed)\n",
    "\n",
    "mymodel=KerasRegressor(build_fn=model1,epochs=100,batch_size=20,verbose=0)\n"
   ]
  },
  {
   "cell_type": "code",
   "execution_count": 9,
   "metadata": {},
   "outputs": [],
   "source": [
    "# define the iterator to perform 5-fold cross validation\n",
    "from sklearn.model_selection import KFold\n",
    "kf=KFold(n_splits=5)"
   ]
  },
  {
   "cell_type": "code",
   "execution_count": 10,
   "metadata": {},
   "outputs": [],
   "source": [
    "# perform cross validation on X, y, and assign the result of the cross validation to a `results` variable\n",
    "from sklearn.model_selection import cross_val_score\n",
    "results=cross_val_score(mymodel,X,y,cv=kf)"
   ]
  },
  {
   "cell_type": "code",
   "execution_count": 14,
   "metadata": {},
   "outputs": [
    {
     "name": "stdout",
     "output_type": "stream",
     "text": [
      "Final Cross Validation Loss=0.93\n"
     ]
    }
   ],
   "source": [
    "# print the mean of the result\n",
    "print(\"Final Cross Validation Loss={:.2f}\".format(abs(results.mean())))"
   ]
  },
  {
   "cell_type": "code",
   "execution_count": null,
   "metadata": {},
   "outputs": [],
   "source": []
  }
 ],
 "metadata": {
  "kernelspec": {
   "display_name": "Python 3",
   "language": "python",
   "name": "python3"
  },
  "language_info": {
   "codemirror_mode": {
    "name": "ipython",
    "version": 3
   },
   "file_extension": ".py",
   "mimetype": "text/x-python",
   "name": "python",
   "nbconvert_exporter": "python",
   "pygments_lexer": "ipython3",
   "version": "3.7.4"
  }
 },
 "nbformat": 4,
 "nbformat_minor": 4
}
