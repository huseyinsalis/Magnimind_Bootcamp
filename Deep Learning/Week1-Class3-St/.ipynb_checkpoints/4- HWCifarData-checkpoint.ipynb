{
 "cells": [
  {
   "cell_type": "markdown",
   "metadata": {},
   "source": [
    "### CIFAR DATA\n",
    "The problem of automatically identifying objects in photographs is difficult because of the near infinite number of permutations of objects, positions, lighting and so on. It’s a really hard problem. This is a well studied problem in computer vision and more recently an important demonstration of the capability of deep learning. A standard computer vision and deep learning dataset for this problem was developed by the Canadian Institute for Advanced Research\n",
    "(CIFAR).\n",
    "The CIFAR-10 dataset consists of 60,000 photos divided into 10 classes (hence the name\n",
    "CIFAR-10). Classes include common objects such as airplanes, automobiles, birds, cats and so on. The dataset is split in a standard way, where 50,000 images are used for training a model and the remaining 10,000 for evaluating its performance. The photos are in color with red, green and blue channels, but are small measuring 32 × 32 pixel squares."
   ]
  },
  {
   "cell_type": "markdown",
   "metadata": {},
   "source": [
    "1. Load the  data set using `from keras.datasets import cifar10` and `(X_train, y_train), (X_test, y_test) = cifar10.load_data()`\n",
    "2. Train and test a simple CNN Model for this dataset\n",
    "  1. Convolutional input layer, 32 feature maps with a size of 3 × 3, a rectifier activation function and a weight constraint of max norm set to 3.\n",
    "  2. Dropout set to 20%.\n",
    "  3. Convolutional layer, 32 feature maps with a size of 3 × 3, a rectifier activation function and a weight constraint of max norm set to 3.\n",
    "  4. Max Pool layer with the size 2 × 2.\n",
    "  5. Flatten layer.\n",
    "  6. Fully connected layer with 512 units and a rectifier activation function.\n",
    "  7. Dropout set to 50%.\n",
    "  8. Fully connected output layer with 10 units and a softmax activation function.\n",
    "3. Train and test a larger CNN Model\n",
    "  1. Convolutional input layer, 32 feature maps with a size of 3 × 3 and a rectifier activation function.\n",
    "  2. Dropout layer at 20%.\n",
    "  3. Convolutional layer, 32 feature maps with a size of 3 × 3 and a rectifier activation function.\n",
    "  4. Max Pool layer with size 2 × 2.\n",
    "  5. Convolutional layer, 64 feature maps with a size of 3 × 3 and a rectifier activation function.\n",
    "  6. Dropout layer at 20%.\n",
    "  7. Convolutional layer, 64 feature maps with a size of 3 × 3 and a rectifier activation function.\n",
    "  8. Max Pool layer with size 2 × 2.\n",
    "  9. Convolutional layer, 128 feature maps with a size of 3×3 and a rectifier activation function.\n",
    "  10. Dropout layer at 20%.\n",
    "  11. Convolutional layer, 128 feature maps with a size of 3×3 and a rectifier activation function.\n",
    "  12. Max Pool layer with size 2 × 2.\n",
    "  13. Flatten layer.\n",
    "  14. Dropout layer at 20%.\n",
    "  15. Fully connected layer with 1,024 units and a rectifier activation function.\n",
    "  16. Dropout layer at 20%.\n",
    "  17. Fully connected layer with 512 units and a rectifier activation function.\n",
    "  18. Dropout layer at 20%.\n",
    "  19. Fully connected output layer with 10 units and a softmax activation function.\n",
    "  \n",
    "4. Extensions to Improve Model Performance\n",
    "  1. Train for More Epochs\n",
    "  2. Image Data Augmentation\n",
    "  3. Deeper Network Topology"
   ]
  },
  {
   "cell_type": "code",
   "execution_count": null,
   "metadata": {},
   "outputs": [],
   "source": []
  }
 ],
 "metadata": {
  "kernelspec": {
   "display_name": "Python 3",
   "language": "python",
   "name": "python3"
  },
  "language_info": {
   "codemirror_mode": {
    "name": "ipython",
    "version": 3
   },
   "file_extension": ".py",
   "mimetype": "text/x-python",
   "name": "python",
   "nbconvert_exporter": "python",
   "pygments_lexer": "ipython3",
   "version": "3.7.4"
  }
 },
 "nbformat": 4,
 "nbformat_minor": 2
}
