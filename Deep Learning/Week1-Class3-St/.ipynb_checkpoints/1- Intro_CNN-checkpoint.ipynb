{
 "cells": [
  {
   "cell_type": "markdown",
   "metadata": {},
   "source": [
    "### 1. Limitations of Traditional Deep Feedforward Neural Networks\n",
    "\n",
    "- One of the limitations of a traditional deep feedforward neural network is that it is not translation-invariant, that is, a cat image in the upper-right corner of an image would be considered different from an image that has a cat in the center of the image. \n",
    "\n",
    "- Traditional neural networks are affected by the scale of an object. If the object is big in the majority of the images and a new image has the same object in it but with a smaller scale (occupies a smaller portion of the image), traditional neural networks are likely to fail in classifying the image.\n",
    "\n",
    "- Convolutional Neural Networks (CNNs) are used to deal with such issues. Given that a CNN is able to deal with translation in images and also the scale of images, it is considered a lot more useful in object classification/ detection."
   ]
  },
  {
   "cell_type": "markdown",
   "metadata": {},
   "source": [
    "### 2. NN when images are translated"
   ]
  },
  {
   "cell_type": "markdown",
   "metadata": {},
   "source": [
    "I. Download the dataset and extract the train and test MNIST datasets:"
   ]
  },
  {
   "cell_type": "code",
   "execution_count": 1,
   "metadata": {},
   "outputs": [
    {
     "name": "stderr",
     "output_type": "stream",
     "text": [
      "Using TensorFlow backend.\n"
     ]
    }
   ],
   "source": [
    "from keras.datasets import mnist\n",
    "from keras.layers import Flatten, Dense\n",
    "from keras.models import Sequential\n",
    "import matplotlib.pyplot as plt\n",
    "import numpy as np\n",
    "%matplotlib inline\n",
    "(X_train, y_train), (X_test, y_test) = mnist.load_data()"
   ]
  },
  {
   "cell_type": "markdown",
   "metadata": {},
   "source": [
    "II. Fetch the training set corresponding to label 1 only:"
   ]
  },
  {
   "cell_type": "code",
   "execution_count": 2,
   "metadata": {},
   "outputs": [],
   "source": [
    "X_train1 = X_train[y_train==1]"
   ]
  },
  {
   "cell_type": "markdown",
   "metadata": {},
   "source": [
    "III. Reshape and normalize the original training dataset:"
   ]
  },
  {
   "cell_type": "code",
   "execution_count": 3,
   "metadata": {},
   "outputs": [],
   "source": [
    "num_pixels = X_train.shape[1] * X_train.shape[2]\n",
    "X_train = X_train.reshape(X_train.shape[0],num_pixels).astype('float32')\n",
    "X_test = X_test.reshape(X_test.shape[0],num_pixels).astype('float32')\n",
    "X_train = X_train / 255\n",
    "X_test = X_test / 255"
   ]
  },
  {
   "cell_type": "code",
   "execution_count": 4,
   "metadata": {},
   "outputs": [
    {
     "data": {
      "text/plain": [
       "(60000, 784)"
      ]
     },
     "execution_count": 4,
     "metadata": {},
     "output_type": "execute_result"
    }
   ],
   "source": [
    "X_train.shape"
   ]
  },
  {
   "cell_type": "code",
   "execution_count": 10,
   "metadata": {},
   "outputs": [
    {
     "data": {
      "text/plain": [
       "(6742, 28, 28)"
      ]
     },
     "execution_count": 10,
     "metadata": {},
     "output_type": "execute_result"
    }
   ],
   "source": [
    "X_train1.shape"
   ]
  },
  {
   "cell_type": "markdown",
   "metadata": {},
   "source": [
    "IV. One-hot-encode the output labels:"
   ]
  },
  {
   "cell_type": "code",
   "execution_count": 5,
   "metadata": {},
   "outputs": [],
   "source": [
    "from keras.utils import np_utils\n",
    "y_train = np_utils.to_categorical(y_train)\n",
    "y_test = np_utils.to_categorical(y_test)\n",
    "num_classes = y_train.shape[1]"
   ]
  },
  {
   "cell_type": "code",
   "execution_count": 6,
   "metadata": {},
   "outputs": [
    {
     "data": {
      "text/plain": [
       "(60000, 10)"
      ]
     },
     "execution_count": 6,
     "metadata": {},
     "output_type": "execute_result"
    }
   ],
   "source": [
    "y_train.shape"
   ]
  },
  {
   "cell_type": "code",
   "execution_count": 9,
   "metadata": {},
   "outputs": [
    {
     "data": {
      "text/plain": [
       "array([0., 0., 0., 1., 0., 0., 0., 0., 0., 0.], dtype=float32)"
      ]
     },
     "execution_count": 9,
     "metadata": {},
     "output_type": "execute_result"
    }
   ],
   "source": [
    "y_train[30000,:]"
   ]
  },
  {
   "cell_type": "markdown",
   "metadata": {},
   "source": [
    "V. Build a model and fit it:"
   ]
  },
  {
   "cell_type": "code",
   "execution_count": 5,
   "metadata": {},
   "outputs": [
    {
     "name": "stdout",
     "output_type": "stream",
     "text": [
      "Train on 60000 samples, validate on 10000 samples\n",
      "Epoch 1/5\n",
      "60000/60000 [==============================] - 3s 57us/step - loss: 0.4741 - accuracy: 0.8715 - val_loss: 0.2337 - val_accuracy: 0.9341\n",
      "Epoch 2/5\n",
      "60000/60000 [==============================] - 4s 73us/step - loss: 0.1946 - accuracy: 0.9452 - val_loss: 0.1595 - val_accuracy: 0.9543\n",
      "Epoch 3/5\n",
      "60000/60000 [==============================] - 5s 78us/step - loss: 0.1411 - accuracy: 0.9606 - val_loss: 0.1303 - val_accuracy: 0.9624\n",
      "Epoch 4/5\n",
      "60000/60000 [==============================] - 4s 73us/step - loss: 0.1076 - accuracy: 0.9697 - val_loss: 0.1085 - val_accuracy: 0.9673\n",
      "Epoch 5/5\n",
      "60000/60000 [==============================] - 4s 61us/step - loss: 0.0858 - accuracy: 0.9764 - val_loss: 0.0932 - val_accuracy: 0.9717\n"
     ]
    },
    {
     "data": {
      "text/plain": [
       "<keras.callbacks.callbacks.History at 0x146b881d0>"
      ]
     },
     "execution_count": 5,
     "metadata": {},
     "output_type": "execute_result"
    }
   ],
   "source": [
    "model = Sequential()\n",
    "model.add(Dense(1000, input_dim=num_pixels, activation='relu'))\n",
    "model.add(Dense(num_classes, activation='softmax'))\n",
    "model.compile(loss='categorical_crossentropy', optimizer='adam',metrics=['accuracy'])\n",
    "model.fit(X_train, y_train, validation_data=(X_test, y_test),epochs=5, batch_size=1024, verbose=1)"
   ]
  },
  {
   "cell_type": "markdown",
   "metadata": {},
   "source": [
    "VI. Let's plot the average 1 image that we obtained in step II"
   ]
  },
  {
   "cell_type": "code",
   "execution_count": 8,
   "metadata": {},
   "outputs": [
    {
     "data": {
      "image/png": "[encoded data removed]",
      "text/plain": [
       "<Figure size 432x288 with 1 Axes>"
      ]
     },
     "metadata": {
      "needs_background": "light"
     },
     "output_type": "display_data"
    }
   ],
   "source": [
    "pic=np.zeros((28,28))\n",
    "pic2=np.copy(pic)\n",
    "for i in range(X_train1.shape[0]): \n",
    "    pic2=X_train1[i,:,:] \n",
    "    pic=pic+pic2\n",
    "    pic=(pic/X_train1.shape[0])\n",
    "    plt.imshow(pic)"
   ]
  },
  {
   "cell_type": "markdown",
   "metadata": {},
   "source": [
    "It is to be noted that the more yellow (thick) the pixel is, the more often people have written on top of the pixel,"
   ]
  },
  {
   "cell_type": "markdown",
   "metadata": {},
   "source": [
    "**Scenario 1**: Let's create a new image where the original image is translated by 1 pixel toward the left. In the following code, we are looping through the columns of the image and copying the pixel values of the next column to the current column:"
   ]
  },
  {
   "cell_type": "code",
   "execution_count": 9,
   "metadata": {},
   "outputs": [
    {
     "data": {
      "image/png": "[encoded data removed]",
      "text/plain": [
       "<Figure size 432x288 with 1 Axes>"
      ]
     },
     "metadata": {
      "needs_background": "light"
     },
     "output_type": "display_data"
    }
   ],
   "source": [
    "for i in range(pic.shape[0]):\n",
    "    if i<20:\n",
    "        pic[:,i]=pic[:,i+1] \n",
    "        plt.imshow(pic)"
   ]
  },
  {
   "cell_type": "markdown",
   "metadata": {},
   "source": [
    "Let’s go ahead and predict the label of the image before it is transformed using the built model:"
   ]
  },
  {
   "cell_type": "code",
   "execution_count": 18,
   "metadata": {},
   "outputs": [
    {
     "data": {
      "text/plain": [
       "1"
      ]
     },
     "execution_count": 18,
     "metadata": {},
     "output_type": "execute_result"
    }
   ],
   "source": [
    "np.argmax(model.predict(X_train1[6,:,:].reshape(1,784)/255))"
   ]
  },
  {
   "cell_type": "markdown",
   "metadata": {},
   "source": [
    "Let’s go ahead and predict the label of the image using the built model:"
   ]
  },
  {
   "cell_type": "code",
   "execution_count": 19,
   "metadata": {},
   "outputs": [
    {
     "data": {
      "text/plain": [
       "5"
      ]
     },
     "execution_count": 19,
     "metadata": {},
     "output_type": "execute_result"
    }
   ],
   "source": [
    "np.argmax(model.predict(pic.reshape(1,784)/255))"
   ]
  },
  {
   "cell_type": "markdown",
   "metadata": {},
   "source": [
    "**Scenario 2**: A new image is created in which the pixels of the original average 1 image are shifted by 2 pixels to the right:"
   ]
  },
  {
   "cell_type": "code",
   "execution_count": 23,
   "metadata": {},
   "outputs": [
    {
     "data": {
      "text/plain": [
       "<matplotlib.image.AxesImage at 0x1417fd990>"
      ]
     },
     "execution_count": 23,
     "metadata": {},
     "output_type": "execute_result"
    },
    {
     "data": {
      "image/png": "[encoded data removed]",
      "text/plain": [
       "<Figure size 432x288 with 1 Axes>"
      ]
     },
     "metadata": {
      "needs_background": "light"
     },
     "output_type": "display_data"
    }
   ],
   "source": [
    "pic=np.zeros((28,28))\n",
    "pic2=np.copy(pic)\n",
    "for i in range(X_train1.shape[0]):\n",
    "    pic2=X_train1[i,:,:]\n",
    "    pic=pic+pic2\n",
    "pic=(pic/X_train1.shape[0])\n",
    "pic2=np.copy(pic)\n",
    "for i in range(pic.shape[0]):\n",
    "    if ((i>6) and (i<26)):\n",
    "        pic[:,i]=pic2[:,(i-2)]\n",
    "plt.imshow(pic)"
   ]
  },
  {
   "cell_type": "code",
   "execution_count": 24,
   "metadata": {},
   "outputs": [
    {
     "data": {
      "text/plain": [
       "3"
      ]
     },
     "execution_count": 24,
     "metadata": {},
     "output_type": "execute_result"
    }
   ],
   "source": [
    "np.argmax(model.predict(pic.reshape(1,784)/255))"
   ]
  },
  {
   "cell_type": "markdown",
   "metadata": {},
   "source": [
    "### 3. Building a CNN from scratch using Python"
   ]
  },
  {
   "cell_type": "markdown",
   "metadata": {},
   "source": [
    "In this section, we will learn about how a CNN works by building a feedforward network from scratch using NumPy.\n",
    "\n",
    "A typical CNN has multiple components. In this section, we will go through the various components of a CNN before we understand how the CNN improves prediction accuracy when an image is translated."
   ]
  },
  {
   "cell_type": "markdown",
   "metadata": {},
   "source": [
    "#### 3.1. Understanding convolution\n",
    "A convolution is a multiplication between two matrices—one matrix being big and the other being small. To understand convolution, consider the following example:"
   ]
  },
  {
   "attachments": {
    "conv1.png": {
     "image/png": "[encoded data removed]"
    },
    "conv2.png": {
     "image/png": "[encoded data removed]"
    }
   },
   "cell_type": "markdown",
   "metadata": {},
   "source": [
    "![conv1.png](attachment:conv1.png)![conv2.png](attachment:conv2.png)"
   ]
  },
  {
   "attachments": {
    "conv3.png": {
     "image/png": "[encoded data removed]"
    }
   },
   "cell_type": "markdown",
   "metadata": {},
   "source": [
    "When performing convolutions, think of it as we are sliding the smaller matrix over the larger matrix, that is, we can potentially come up with nine such multiplications as the smaller matrix is slid over the entire area of the bigger matrix. Note that it is not matrix multiplication.\n",
    "\n",
    "- {1, 2, 5, 6} of the bigger matrix is multiplied with {1, 2, 3, 4} of the smaller matrix:\n",
    "1*1 + 2*2 + 5*3 + 6*4 = 44\n",
    "- {2, 3, 6, 7} of the bigger matrix is multiplied with {1, 2, 3, 4} of the smaller matrix:\n",
    "2*1 + 3*2 + 6*3 + 7*4 = 54\n",
    "- ......\n",
    "\n",
    "The resulting matrix is:\n",
    "![conv3.png](attachment:conv3.png)"
   ]
  },
  {
   "cell_type": "markdown",
   "metadata": {},
   "source": [
    "**Filter:** The filters are essentially the neurons of the layer. They have both weighted inputs and generate an output value like a neuron. The input size is a fixed square called a patch or a receptive field. If the convolutional layer is an input layer, then the input patch will be pixel values. If they deeper in the network architecture, then the convolutional layer will take input from a feature map from the previous layer. A filter will have as many channels as the number of channels in the matrix it multiplies with."
   ]
  },
  {
   "cell_type": "markdown",
   "metadata": {},
   "source": [
    "**Stride:** In the example above, given that the filter moved one step at a time both horizontally and vertically, the strides for the filter are (1, 1). The higher the number of strides, the higher the number of values that are skipped from the matrix multiplication."
   ]
  },
  {
   "cell_type": "markdown",
   "metadata": {},
   "source": [
    "**Padding:** In the example above, we missed out on multiplying the leftmost values of the filter with the rightmost values of the original matrix. If we were to perform such an operation, we would have ensure that there is zero padding around the edges (the edges of the image padded with zeros) of the original matrix. This form of padding is called valid padding."
   ]
  },
  {
   "cell_type": "markdown",
   "metadata": {},
   "source": [
    "#### 3.2 From Convolution to Activation\n",
    "\n",
    "In a traditional NN, a hidden layer not only multiplies the input values by the weights, but also applies a non-linearity to the data, that is, it passes the values through an activation function.\n",
    "\n",
    "A similar activity happens in a typical CNN too, where the convolution is passed through an activation function. CNN supports the traditional activations functions we have seen so far: sigmoid, ReLU, tanh.."
   ]
  },
  {
   "attachments": {
    "conv4.png": {
     "image/png": "[encoded data removed]"
    },
    "conv5.png": {
     "image/png": "[encoded data removed]"
    },
    "conv6.png": {
     "image/png": "[encoded data removed]"
    }
   },
   "cell_type": "markdown",
   "metadata": {},
   "source": [
    "#### 3.3 From Convolution Activation to Pooling\n",
    "\n",
    "Imagine that the output of a convolution step is the following matrix:\n",
    "![conv4.png](attachment:conv4.png)\n",
    "Max pooling divides the big matrix into non-overlapping blocks of 2 x 2 (when the stride value is 2), as follows:\n",
    "![conv5.png](attachment:conv5.png)\n",
    "From each block, only the element that has the highest value is chosen. So, the output of the max pooling operation on the preceding matrix would be the following:\n",
    "![conv6.png](attachment:conv6.png)"
   ]
  },
  {
   "cell_type": "markdown",
   "metadata": {},
   "source": [
    "#### 3.4 How do convolution and pooling help?\n",
    "\n",
    "One of the drawbacks of traditional NN in the MNIST example is that each pixel is associated with a distinct weight.\n",
    "\n",
    "Thus, if an adjacent pixel, other than the original pixel, were to be highlighted, instead of the original pixel, the output would not be very accurate (the example of scenario 1, where the average one was slightly to the left of the middle).\n",
    "\n",
    "This scenario is now addressed, as the pixels share weights that are constituted within each filter.\n",
    "\n",
    "All the pixels get multiplied by all the weights that constitute a filter. In the pooling layer, only the values post convolution that have a high value are chosen.\n",
    "\n",
    "This way, irrespective of whether the highlighted pixel is at the center or is slightly away from the center, the output would more often than not be the expected value."
   ]
  },
  {
   "cell_type": "markdown",
   "metadata": {},
   "source": [
    "### 3.5. Time to Build CNN"
   ]
  },
  {
   "cell_type": "code",
   "execution_count": null,
   "metadata": {},
   "outputs": [],
   "source": []
  },
  {
   "cell_type": "code",
   "execution_count": 25,
   "metadata": {
    "colab": {
     "base_uri": "https://localhost:8080/",
     "height": 34
    },
    "colab_type": "code",
    "id": "puIsEWkkpuMK",
    "outputId": "be577f62-6701-4d06-b830-a542e7a8bfb3"
   },
   "outputs": [],
   "source": [
    "from keras.models import Sequential\n",
    "from keras.layers import Dense\n",
    "from keras.layers import Dropout\n",
    "from keras.utils import np_utils\n",
    "from keras.layers import Conv2D, MaxPooling2D, Flatten\n",
    "from keras.utils import to_categorical"
   ]
  },
  {
   "cell_type": "markdown",
   "metadata": {},
   "source": [
    "Create the input and output dataset:"
   ]
  },
  {
   "cell_type": "code",
   "execution_count": 35,
   "metadata": {
    "colab": {},
    "colab_type": "code",
    "id": "pcpyCqxkrknA"
   },
   "outputs": [],
   "source": [
    "import numpy as np\n",
    "X_train=np.array([[[1,2,3,4],[2,3,4,5],[5,6,7,8],[1,3,4,5]],[[-1,2,3,-4],[2,-3,4,5],[-5,6,-7,8],[-1,-3,-4,-5]]])\n",
    "y_train=np.array([0,1])"
   ]
  },
  {
   "cell_type": "code",
   "execution_count": 36,
   "metadata": {},
   "outputs": [
    {
     "name": "stdout",
     "output_type": "stream",
     "text": [
      "[[[ 1  2  3  4]\n",
      "  [ 2  3  4  5]\n",
      "  [ 5  6  7  8]\n",
      "  [ 1  3  4  5]]\n",
      "\n",
      " [[-1  2  3 -4]\n",
      "  [ 2 -3  4  5]\n",
      "  [-5  6 -7  8]\n",
      "  [-1 -3 -4 -5]]]\n"
     ]
    }
   ],
   "source": [
    "print(X_train)"
   ]
  },
  {
   "cell_type": "code",
   "execution_count": 37,
   "metadata": {},
   "outputs": [
    {
     "data": {
      "text/plain": [
       "(2, 4, 4)"
      ]
     },
     "execution_count": 37,
     "metadata": {},
     "output_type": "execute_result"
    }
   ],
   "source": [
    "X_train.shape"
   ]
  },
  {
   "cell_type": "code",
   "execution_count": 38,
   "metadata": {},
   "outputs": [
    {
     "name": "stdout",
     "output_type": "stream",
     "text": [
      "[0 1]\n"
     ]
    }
   ],
   "source": [
    "print(y_train)"
   ]
  },
  {
   "cell_type": "markdown",
   "metadata": {},
   "source": [
    "Scale the input dataset:"
   ]
  },
  {
   "cell_type": "code",
   "execution_count": 39,
   "metadata": {
    "colab": {},
    "colab_type": "code",
    "id": "7hZUsu5Us16k"
   },
   "outputs": [],
   "source": [
    "X_train = X_train / 8\n",
    "#y_train = to_categorical(y_train)"
   ]
  },
  {
   "cell_type": "markdown",
   "metadata": {},
   "source": [
    "Reshape the input dataset so that each input image is represented in the format of width x height x number of channels:"
   ]
  },
  {
   "cell_type": "code",
   "execution_count": 40,
   "metadata": {
    "colab": {},
    "colab_type": "code",
    "id": "W-miAKq2s19j"
   },
   "outputs": [],
   "source": [
    "X_train = X_train.reshape(X_train.shape[0],X_train.shape[1],X_train.shape[1],1 ).astype('float32')"
   ]
  },
  {
   "cell_type": "code",
   "execution_count": 41,
   "metadata": {},
   "outputs": [
    {
     "name": "stdout",
     "output_type": "stream",
     "text": [
      "[[[[ 0.125]\n",
      "   [ 0.25 ]\n",
      "   [ 0.375]\n",
      "   [ 0.5  ]]\n",
      "\n",
      "  [[ 0.25 ]\n",
      "   [ 0.375]\n",
      "   [ 0.5  ]\n",
      "   [ 0.625]]\n",
      "\n",
      "  [[ 0.625]\n",
      "   [ 0.75 ]\n",
      "   [ 0.875]\n",
      "   [ 1.   ]]\n",
      "\n",
      "  [[ 0.125]\n",
      "   [ 0.375]\n",
      "   [ 0.5  ]\n",
      "   [ 0.625]]]\n",
      "\n",
      "\n",
      " [[[-0.125]\n",
      "   [ 0.25 ]\n",
      "   [ 0.375]\n",
      "   [-0.5  ]]\n",
      "\n",
      "  [[ 0.25 ]\n",
      "   [-0.375]\n",
      "   [ 0.5  ]\n",
      "   [ 0.625]]\n",
      "\n",
      "  [[-0.625]\n",
      "   [ 0.75 ]\n",
      "   [-0.875]\n",
      "   [ 1.   ]]\n",
      "\n",
      "  [[-0.125]\n",
      "   [-0.375]\n",
      "   [-0.5  ]\n",
      "   [-0.625]]]]\n"
     ]
    }
   ],
   "source": [
    "print(X_train)"
   ]
  },
  {
   "cell_type": "code",
   "execution_count": 34,
   "metadata": {},
   "outputs": [
    {
     "data": {
      "text/plain": [
       "(2, 4, 4, 1)"
      ]
     },
     "execution_count": 34,
     "metadata": {},
     "output_type": "execute_result"
    }
   ],
   "source": [
    "X_train.shape"
   ]
  },
  {
   "cell_type": "markdown",
   "metadata": {},
   "source": [
    "Build the model architecture:"
   ]
  },
  {
   "cell_type": "code",
   "execution_count": 71,
   "metadata": {},
   "outputs": [],
   "source": [
    "from keras.layers import Conv2D, MaxPooling2D, Flatten, Dense\n",
    "from keras.models import Sequential\n",
    "model = Sequential()"
   ]
  },
  {
   "cell_type": "markdown",
   "metadata": {},
   "source": [
    "In the next step, we are performing the convolution operation:"
   ]
  },
  {
   "cell_type": "code",
   "execution_count": 72,
   "metadata": {},
   "outputs": [],
   "source": [
    "model.add(Conv2D(1, (3,3), input_shape=(4,4,1),activation='relu'))"
   ]
  },
  {
   "cell_type": "markdown",
   "metadata": {},
   "source": [
    "In the preceding step, we are performing a 2D convolution on input data where we have 1 filter of size 3 x 3.\n",
    "\n",
    "Additionally, given that this is the first layer since instantiating a model, we specify the input shape, which is (4 , 4, 1)\n",
    "\n",
    "Finally, we perform ReLu activation on top of the output of the convolution.\n",
    "\n",
    "The output of the convolution operation in this scenario is 2 x 2 x 1 in shape, as the matrix multiplication of weights with input would yield a 2 x 2 matrix (given that the default strides is 1 x 1).\n",
    "\n",
    "Additionally, the size of output would shrink, as we have not padded the input (put zeros around the input image)."
   ]
  },
  {
   "cell_type": "markdown",
   "metadata": {},
   "source": [
    "In the following step, we are adding a layer that performs a max pooling operation, as follows:"
   ]
  },
  {
   "cell_type": "code",
   "execution_count": 73,
   "metadata": {},
   "outputs": [],
   "source": [
    "model.add(MaxPooling2D(pool_size=(2, 2))) "
   ]
  },
  {
   "cell_type": "markdown",
   "metadata": {},
   "source": [
    "We are performing max pooling on top of the output obtained from the previous layer, where the pool size is 2 x 2. This means that the maximum value in a subset of the 2 x 2 portion of the image is calculated. "
   ]
  },
  {
   "cell_type": "markdown",
   "metadata": {},
   "source": [
    "Let's flatten the output from the pooling layer:"
   ]
  },
  {
   "cell_type": "code",
   "execution_count": 74,
   "metadata": {},
   "outputs": [],
   "source": [
    "model.add(Flatten())"
   ]
  },
  {
   "cell_type": "markdown",
   "metadata": {},
   "source": [
    "Once we perform flattening, the process becomes very similar to what we performed in standard feedforward neural networks where the input is connected to the hidden layer and then to the output layer (we can connect the input to more hidden layers, too!). \n",
    "\n",
    "We are directly connecting the output of the flatten layer to the output layer using the sigmoid activation:"
   ]
  },
  {
   "cell_type": "code",
   "execution_count": 75,
   "metadata": {},
   "outputs": [],
   "source": [
    "model.add(Dense(1, activation='sigmoid'))"
   ]
  },
  {
   "cell_type": "code",
   "execution_count": 76,
   "metadata": {},
   "outputs": [
    {
     "name": "stdout",
     "output_type": "stream",
     "text": [
      "Model: \"sequential_4\"\n",
      "_________________________________________________________________\n",
      "Layer (type)                 Output Shape              Param #   \n",
      "=================================================================\n",
      "conv2d_3 (Conv2D)            (None, 2, 2, 1)           10        \n",
      "_________________________________________________________________\n",
      "max_pooling2d_3 (MaxPooling2 (None, 1, 1, 1)           0         \n",
      "_________________________________________________________________\n",
      "flatten_3 (Flatten)          (None, 1)                 0         \n",
      "_________________________________________________________________\n",
      "dense_3 (Dense)              (None, 1)                 2         \n",
      "=================================================================\n",
      "Total params: 12\n",
      "Trainable params: 12\n",
      "Non-trainable params: 0\n",
      "_________________________________________________________________\n"
     ]
    }
   ],
   "source": [
    "model.summary()"
   ]
  },
  {
   "cell_type": "markdown",
   "metadata": {},
   "source": [
    "Note that there are 10 parameters in the convolution layer as the one 3 x 3 filter would have 9 weights and 1 bias term. The pooling layer and flatten layer do not have any parameters as they are either extracting maximum values in certain regioned (max pooling) or are flattening the output from the previous layer (flatten) and thus no operation where weights need to be modified in either of these layers."
   ]
  },
  {
   "cell_type": "markdown",
   "metadata": {},
   "source": [
    "Compile and fit the model:"
   ]
  },
  {
   "cell_type": "code",
   "execution_count": 77,
   "metadata": {},
   "outputs": [],
   "source": [
    "model.compile(loss='binary_crossentropy', optimizer='adam',metrics=['accuracy'])"
   ]
  },
  {
   "cell_type": "markdown",
   "metadata": {},
   "source": [
    "Fit the model:"
   ]
  },
  {
   "cell_type": "code",
   "execution_count": null,
   "metadata": {},
   "outputs": [],
   "source": [
    "model.fit(X_train, y_train, epochs = 500)"
   ]
  },
  {
   "cell_type": "markdown",
   "metadata": {},
   "source": [
    "Let's validate the output we obtain from the model by implementing the feedforward portion of the CNN:\n",
    "\n",
    "Let's extract the order in which weights and biases are presented:"
   ]
  },
  {
   "cell_type": "code",
   "execution_count": 79,
   "metadata": {
    "colab": {
     "base_uri": "https://localhost:8080/",
     "height": 85
    },
    "colab_type": "code",
    "id": "3-i_U0GEsImy",
    "outputId": "f7a38ed4-5cda-40fe-d50b-44141f32be73"
   },
   "outputs": [
    {
     "data": {
      "text/plain": [
       "[<tf.Variable 'conv2d_3/kernel:0' shape=(3, 3, 1, 1) dtype=float32, numpy=\n",
       " array([[[[ 0.7533126 ]],\n",
       " \n",
       "         [[-0.86036915]],\n",
       " \n",
       "         [[ 0.1138607 ]]],\n",
       " \n",
       " \n",
       "        [[[-0.590816  ]],\n",
       " \n",
       "         [[ 1.105     ]],\n",
       " \n",
       "         [[-0.81898725]]],\n",
       " \n",
       " \n",
       "        [[[-1.0410138 ]],\n",
       " \n",
       "         [[-0.2768586 ]],\n",
       " \n",
       "         [[-0.74109167]]]], dtype=float32)>,\n",
       " <tf.Variable 'conv2d_3/bias:0' shape=(1,) dtype=float32, numpy=array([0.57978433], dtype=float32)>,\n",
       " <tf.Variable 'dense_3/kernel:0' shape=(1, 1) dtype=float32, numpy=array([[0.6879305]], dtype=float32)>,\n",
       " <tf.Variable 'dense_3/bias:0' shape=(1,) dtype=float32, numpy=array([-0.80055475], dtype=float32)>]"
      ]
     },
     "execution_count": 79,
     "metadata": {},
     "output_type": "execute_result"
    }
   ],
   "source": [
    "model.weights"
   ]
  },
  {
   "cell_type": "markdown",
   "metadata": {},
   "source": [
    "You can see that the weights of the convolution layer are presented first, then the bias, and finally the weight and bias in the output layer.\n",
    "\n",
    "Also note that the shape of weights in the convolution layer is (3, 3, 1, 1) as the filter is 3 x 3 x 1 in shape (because the image is three-dimensional) and the final 1 (the fourth value in shape) is for the number of filters that are specified in the convolution layer.\n",
    "\n",
    "If we had specified 64 as the number of filters in the convolution, the shape of weights would have been 3 x 3 x 1 x 64.\n",
    "\n",
    "Similarly, had the convolution operation been performed on an image with 3 channels, each filter's shape would have been 3 x 3 x 3."
   ]
  },
  {
   "cell_type": "code",
   "execution_count": 80,
   "metadata": {
    "colab": {
     "base_uri": "https://localhost:8080/",
     "height": 34
    },
    "colab_type": "code",
    "id": "i449dMQgsa4P",
    "outputId": "12a783c0-25a8-45af-9313-f8420645eb67"
   },
   "outputs": [
    {
     "data": {
      "text/plain": [
       "(3, 3, 1, 1)"
      ]
     },
     "execution_count": 80,
     "metadata": {},
     "output_type": "execute_result"
    }
   ],
   "source": [
    "model.get_weights()[0].shape"
   ]
  },
  {
   "cell_type": "markdown",
   "metadata": {},
   "source": [
    "Extract the weight values at various layers:"
   ]
  },
  {
   "cell_type": "code",
   "execution_count": 81,
   "metadata": {
    "colab": {
     "base_uri": "https://localhost:8080/",
     "height": 391
    },
    "colab_type": "code",
    "id": "k0oZqVp_5_cH",
    "outputId": "9a408b96-bb37-4599-b852-58920f79d6ff"
   },
   "outputs": [
    {
     "data": {
      "text/plain": [
       "[array([[[[ 0.7533126 ]],\n",
       " \n",
       "         [[-0.86036915]],\n",
       " \n",
       "         [[ 0.1138607 ]]],\n",
       " \n",
       " \n",
       "        [[[-0.590816  ]],\n",
       " \n",
       "         [[ 1.105     ]],\n",
       " \n",
       "         [[-0.81898725]]],\n",
       " \n",
       " \n",
       "        [[[-1.0410138 ]],\n",
       " \n",
       "         [[-0.2768586 ]],\n",
       " \n",
       "         [[-0.74109167]]]], dtype=float32),\n",
       " array([0.57978433], dtype=float32),\n",
       " array([[0.6879305]], dtype=float32),\n",
       " array([-0.80055475], dtype=float32)]"
      ]
     },
     "execution_count": 81,
     "metadata": {},
     "output_type": "execute_result"
    }
   ],
   "source": [
    "model.get_weights()"
   ]
  },
  {
   "cell_type": "markdown",
   "metadata": {},
   "source": [
    "Let's extract the output of the first input so that we can validate it with feedforward propagation:"
   ]
  },
  {
   "cell_type": "code",
   "execution_count": 82,
   "metadata": {
    "colab": {
     "base_uri": "https://localhost:8080/",
     "height": 34
    },
    "colab_type": "code",
    "id": "dCah6JlHsk2N",
    "outputId": "d1f202c9-b1ac-437f-92f9-dde971e0bb7e"
   },
   "outputs": [
    {
     "data": {
      "text/plain": [
       "array([[0.30990687]], dtype=float32)"
      ]
     },
     "execution_count": 82,
     "metadata": {},
     "output_type": "execute_result"
    }
   ],
   "source": [
    "model.predict(X_train[0].reshape(1,4,4,1))"
   ]
  },
  {
   "cell_type": "markdown",
   "metadata": {},
   "source": [
    "The output from the iteration we ran is ....., which we will validate by performing matrix multiplication.\n",
    "\n",
    "*We are reshaping the input while passing it to the predict method as it expects the input to have a shape of (None, 4, 4, 1), where None specifies that the batch size could be any number.*"
   ]
  },
  {
   "cell_type": "code",
   "execution_count": 87,
   "metadata": {},
   "outputs": [
    {
     "data": {
      "text/plain": [
       "(4, 4, 1)"
      ]
     },
     "execution_count": 87,
     "metadata": {},
     "output_type": "execute_result"
    }
   ],
   "source": [
    "X_train[0].shape"
   ]
  },
  {
   "cell_type": "code",
   "execution_count": 88,
   "metadata": {},
   "outputs": [
    {
     "data": {
      "text/plain": [
       "4"
      ]
     },
     "execution_count": 88,
     "metadata": {},
     "output_type": "execute_result"
    }
   ],
   "source": [
    "X_train[0].shape[0]"
   ]
  },
  {
   "cell_type": "code",
   "execution_count": 89,
   "metadata": {},
   "outputs": [
    {
     "data": {
      "text/plain": [
       "(3, 3, 1, 1)"
      ]
     },
     "execution_count": 89,
     "metadata": {},
     "output_type": "execute_result"
    }
   ],
   "source": [
    "model.get_weights()[0].shape"
   ]
  },
  {
   "cell_type": "code",
   "execution_count": 90,
   "metadata": {
    "colab": {
     "base_uri": "https://localhost:8080/",
     "height": 34
    },
    "colab_type": "code",
    "id": "BHEOsUS60kKT",
    "outputId": "5a83e9d2-45bb-4780-967f-82994078522d"
   },
   "outputs": [
    {
     "data": {
      "text/plain": [
       "1"
      ]
     },
     "execution_count": 90,
     "metadata": {},
     "output_type": "execute_result"
    }
   ],
   "source": [
    "X_train[0].shape[0]-model.get_weights()[0].shape[0]"
   ]
  },
  {
   "cell_type": "markdown",
   "metadata": {},
   "source": [
    "Perform the convolution of the filter with the input image. Note that the input image is 4 x 4 in shape while the filter is 3 x 3 in shape. We will be performing the matrix multiplication (convolution) along the rows as well as columns in the code here:"
   ]
  },
  {
   "cell_type": "code",
   "execution_count": 91,
   "metadata": {
    "colab": {},
    "colab_type": "code",
    "id": "OSIcSjFM4GuM"
   },
   "outputs": [],
   "source": [
    "sumprod = []\n",
    "for i in range(X_train[0].shape[0]-model.get_weights()[0].shape[0]+1):\n",
    "    for j in range(X_train[0].shape[0]-model.get_weights()[0].shape[0]+1):\n",
    "        img_subset = np.array(X_train[0,i:(i+3),j:(j+3),0])\n",
    "        model_filter = model.get_weights()[0].reshape(3,3)\n",
    "        val = np.sum(img_subset*model_filter) + model.get_weights()[1]\n",
    "        sumprod.append(val)\n",
    "  "
   ]
  },
  {
   "cell_type": "markdown",
   "metadata": {},
   "source": [
    "Reshape the output of sumprod so that it can then be passed to the pooling layer:"
   ]
  },
  {
   "cell_type": "code",
   "execution_count": 92,
   "metadata": {
    "colab": {},
    "colab_type": "code",
    "id": "iDpn6dEg7gmC"
   },
   "outputs": [],
   "source": [
    "sumprod= np.array(sumprod).reshape(2,2,1)"
   ]
  },
  {
   "cell_type": "markdown",
   "metadata": {},
   "source": [
    "Perform activation on top of the convolution's output before it is passed to the pooling layer:"
   ]
  },
  {
   "cell_type": "code",
   "execution_count": 93,
   "metadata": {
    "colab": {},
    "colab_type": "code",
    "id": "Bb1HVimK-04e"
   },
   "outputs": [],
   "source": [
    "sumprod = np.where(sumprod>0,sumprod,0)"
   ]
  },
  {
   "cell_type": "markdown",
   "metadata": {},
   "source": [
    "Pass the convolution output to the pooling layer. However, in the current case, given that the output of the convolution is 2 x 2, we will keep it simple and just take the maximum value in the output we obtained in the previous step"
   ]
  },
  {
   "cell_type": "code",
   "execution_count": 94,
   "metadata": {
    "colab": {},
    "colab_type": "code",
    "id": "8Msdnsy88-v9"
   },
   "outputs": [],
   "source": [
    "pooling_layer_output = np.max(sumprod)"
   ]
  },
  {
   "cell_type": "markdown",
   "metadata": {},
   "source": [
    "Connect the output of the pooling layer to the output layer:"
   ]
  },
  {
   "cell_type": "code",
   "execution_count": 95,
   "metadata": {
    "colab": {},
    "colab_type": "code",
    "id": "9tQHpazq-nl-"
   },
   "outputs": [],
   "source": [
    "intermediate_output_value = pooling_layer_output*model.get_weights()[2]+model.get_weights()[3]"
   ]
  },
  {
   "cell_type": "markdown",
   "metadata": {},
   "source": [
    "Calculate the sigmoid output:"
   ]
  },
  {
   "cell_type": "code",
   "execution_count": 97,
   "metadata": {
    "colab": {
     "base_uri": "https://localhost:8080/",
     "height": 34
    },
    "colab_type": "code",
    "id": "eQam1Kof_XvN",
    "outputId": "dff6c873-b6d2-4665-ca2d-2a5aa3a925d3"
   },
   "outputs": [
    {
     "data": {
      "text/plain": [
       "array([[0.30990687]], dtype=float32)"
      ]
     },
     "execution_count": 97,
     "metadata": {},
     "output_type": "execute_result"
    }
   ],
   "source": [
    "1/(1+np.exp(-intermediate_output_value))"
   ]
  },
  {
   "cell_type": "code",
   "execution_count": null,
   "metadata": {
    "colab": {},
    "colab_type": "code",
    "id": "pfcg6wEP7nsi"
   },
   "outputs": [],
   "source": []
  }
 ],
 "metadata": {
  "colab": {
   "collapsed_sections": [],
   "name": "CNN_working_details.ipynb",
   "provenance": []
  },
  "kernelspec": {
   "display_name": "Python 3",
   "language": "python",
   "name": "python3"
  },
  "language_info": {
   "codemirror_mode": {
    "name": "ipython",
    "version": 3
   },
   "file_extension": ".py",
   "mimetype": "text/x-python",
   "name": "python",
   "nbconvert_exporter": "python",
   "pygments_lexer": "ipython3",
   "version": "3.6.10"
  }
 },
 "nbformat": 4,
 "nbformat_minor": 4
}
